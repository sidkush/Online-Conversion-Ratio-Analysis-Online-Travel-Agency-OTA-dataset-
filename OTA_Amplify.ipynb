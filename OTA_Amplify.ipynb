{
 "cells": [
  {
   "cell_type": "code",
   "execution_count": 37,
   "metadata": {},
   "outputs": [],
   "source": [
    "from pyforest import *\n",
    "import pandas as pd\n",
    "import pandas_profiling"
   ]
  },
  {
   "cell_type": "code",
   "execution_count": 38,
   "metadata": {
    "scrolled": true
   },
   "outputs": [
    {
     "name": "stdout",
     "output_type": "stream",
     "text": [
      "CPU times: user 12.9 s, sys: 2.17 s, total: 15.1 s\n",
      "Wall time: 15.7 s\n"
     ]
    },
    {
     "data": {
      "text/html": [
       "<div>\n",
       "<style scoped>\n",
       "    .dataframe tbody tr th:only-of-type {\n",
       "        vertical-align: middle;\n",
       "    }\n",
       "\n",
       "    .dataframe tbody tr th {\n",
       "        vertical-align: top;\n",
       "    }\n",
       "\n",
       "    .dataframe thead th {\n",
       "        text-align: right;\n",
       "    }\n",
       "</style>\n",
       "<table border=\"1\" class=\"dataframe\">\n",
       "  <thead>\n",
       "    <tr style=\"text-align: right;\">\n",
       "      <th></th>\n",
       "      <th>search_id</th>\n",
       "      <th>timestamp</th>\n",
       "      <th>site_id</th>\n",
       "      <th>user_country_id</th>\n",
       "      <th>user_hist_stars</th>\n",
       "      <th>user_hist_paid</th>\n",
       "      <th>listing_country_id</th>\n",
       "      <th>listing_id</th>\n",
       "      <th>listing_stars</th>\n",
       "      <th>listing_review_score</th>\n",
       "      <th>...</th>\n",
       "      <th>competitor6_price_percent_diff</th>\n",
       "      <th>competitor7_rate</th>\n",
       "      <th>competitor7_has_availability</th>\n",
       "      <th>competitor7_price_percent_diff</th>\n",
       "      <th>competitor8_rate</th>\n",
       "      <th>competitor8_has_availability</th>\n",
       "      <th>competitor8_price_percent_diff</th>\n",
       "      <th>clicked</th>\n",
       "      <th>booking_value</th>\n",
       "      <th>booked</th>\n",
       "    </tr>\n",
       "  </thead>\n",
       "  <tbody>\n",
       "    <tr>\n",
       "      <th>0</th>\n",
       "      <td>4</td>\n",
       "      <td>2012-12-31 08:59:22</td>\n",
       "      <td>5</td>\n",
       "      <td>219</td>\n",
       "      <td>NaN</td>\n",
       "      <td>NaN</td>\n",
       "      <td>219</td>\n",
       "      <td>3625</td>\n",
       "      <td>4</td>\n",
       "      <td>4.0</td>\n",
       "      <td>...</td>\n",
       "      <td>NaN</td>\n",
       "      <td>NaN</td>\n",
       "      <td>NaN</td>\n",
       "      <td>NaN</td>\n",
       "      <td>NaN</td>\n",
       "      <td>NaN</td>\n",
       "      <td>NaN</td>\n",
       "      <td>0</td>\n",
       "      <td>NaN</td>\n",
       "      <td>0</td>\n",
       "    </tr>\n",
       "    <tr>\n",
       "      <th>1</th>\n",
       "      <td>4</td>\n",
       "      <td>2012-12-31 08:59:22</td>\n",
       "      <td>5</td>\n",
       "      <td>219</td>\n",
       "      <td>NaN</td>\n",
       "      <td>NaN</td>\n",
       "      <td>219</td>\n",
       "      <td>11622</td>\n",
       "      <td>4</td>\n",
       "      <td>4.0</td>\n",
       "      <td>...</td>\n",
       "      <td>NaN</td>\n",
       "      <td>NaN</td>\n",
       "      <td>NaN</td>\n",
       "      <td>NaN</td>\n",
       "      <td>NaN</td>\n",
       "      <td>NaN</td>\n",
       "      <td>NaN</td>\n",
       "      <td>0</td>\n",
       "      <td>NaN</td>\n",
       "      <td>0</td>\n",
       "    </tr>\n",
       "    <tr>\n",
       "      <th>2</th>\n",
       "      <td>4</td>\n",
       "      <td>2012-12-31 08:59:22</td>\n",
       "      <td>5</td>\n",
       "      <td>219</td>\n",
       "      <td>NaN</td>\n",
       "      <td>NaN</td>\n",
       "      <td>219</td>\n",
       "      <td>11826</td>\n",
       "      <td>5</td>\n",
       "      <td>4.5</td>\n",
       "      <td>...</td>\n",
       "      <td>NaN</td>\n",
       "      <td>NaN</td>\n",
       "      <td>NaN</td>\n",
       "      <td>NaN</td>\n",
       "      <td>NaN</td>\n",
       "      <td>NaN</td>\n",
       "      <td>NaN</td>\n",
       "      <td>0</td>\n",
       "      <td>NaN</td>\n",
       "      <td>0</td>\n",
       "    </tr>\n",
       "    <tr>\n",
       "      <th>3</th>\n",
       "      <td>4</td>\n",
       "      <td>2012-12-31 08:59:22</td>\n",
       "      <td>5</td>\n",
       "      <td>219</td>\n",
       "      <td>NaN</td>\n",
       "      <td>NaN</td>\n",
       "      <td>219</td>\n",
       "      <td>22824</td>\n",
       "      <td>3</td>\n",
       "      <td>4.0</td>\n",
       "      <td>...</td>\n",
       "      <td>NaN</td>\n",
       "      <td>NaN</td>\n",
       "      <td>NaN</td>\n",
       "      <td>NaN</td>\n",
       "      <td>NaN</td>\n",
       "      <td>NaN</td>\n",
       "      <td>NaN</td>\n",
       "      <td>0</td>\n",
       "      <td>NaN</td>\n",
       "      <td>0</td>\n",
       "    </tr>\n",
       "    <tr>\n",
       "      <th>4</th>\n",
       "      <td>4</td>\n",
       "      <td>2012-12-31 08:59:22</td>\n",
       "      <td>5</td>\n",
       "      <td>219</td>\n",
       "      <td>NaN</td>\n",
       "      <td>NaN</td>\n",
       "      <td>219</td>\n",
       "      <td>37581</td>\n",
       "      <td>5</td>\n",
       "      <td>4.5</td>\n",
       "      <td>...</td>\n",
       "      <td>NaN</td>\n",
       "      <td>NaN</td>\n",
       "      <td>NaN</td>\n",
       "      <td>NaN</td>\n",
       "      <td>NaN</td>\n",
       "      <td>NaN</td>\n",
       "      <td>NaN</td>\n",
       "      <td>0</td>\n",
       "      <td>NaN</td>\n",
       "      <td>0</td>\n",
       "    </tr>\n",
       "  </tbody>\n",
       "</table>\n",
       "<p>5 rows × 54 columns</p>\n",
       "</div>"
      ],
      "text/plain": [
       "   search_id            timestamp  site_id  user_country_id  user_hist_stars  \\\n",
       "0          4  2012-12-31 08:59:22        5              219              NaN   \n",
       "1          4  2012-12-31 08:59:22        5              219              NaN   \n",
       "2          4  2012-12-31 08:59:22        5              219              NaN   \n",
       "3          4  2012-12-31 08:59:22        5              219              NaN   \n",
       "4          4  2012-12-31 08:59:22        5              219              NaN   \n",
       "\n",
       "   user_hist_paid  listing_country_id  listing_id  listing_stars  \\\n",
       "0             NaN                 219        3625              4   \n",
       "1             NaN                 219       11622              4   \n",
       "2             NaN                 219       11826              5   \n",
       "3             NaN                 219       22824              3   \n",
       "4             NaN                 219       37581              5   \n",
       "\n",
       "   listing_review_score  ...  competitor6_price_percent_diff  \\\n",
       "0                   4.0  ...                             NaN   \n",
       "1                   4.0  ...                             NaN   \n",
       "2                   4.5  ...                             NaN   \n",
       "3                   4.0  ...                             NaN   \n",
       "4                   4.5  ...                             NaN   \n",
       "\n",
       "   competitor7_rate  competitor7_has_availability  \\\n",
       "0               NaN                           NaN   \n",
       "1               NaN                           NaN   \n",
       "2               NaN                           NaN   \n",
       "3               NaN                           NaN   \n",
       "4               NaN                           NaN   \n",
       "\n",
       "   competitor7_price_percent_diff  competitor8_rate  \\\n",
       "0                             NaN               NaN   \n",
       "1                             NaN               NaN   \n",
       "2                             NaN               NaN   \n",
       "3                             NaN               NaN   \n",
       "4                             NaN               NaN   \n",
       "\n",
       "   competitor8_has_availability  competitor8_price_percent_diff  clicked  \\\n",
       "0                           NaN                             NaN        0   \n",
       "1                           NaN                             NaN        0   \n",
       "2                           NaN                             NaN        0   \n",
       "3                           NaN                             NaN        0   \n",
       "4                           NaN                             NaN        0   \n",
       "\n",
       "   booking_value  booked  \n",
       "0            NaN       0  \n",
       "1            NaN       0  \n",
       "2            NaN       0  \n",
       "3            NaN       0  \n",
       "4            NaN       0  \n",
       "\n",
       "[5 rows x 54 columns]"
      ]
     },
     "execution_count": 38,
     "metadata": {},
     "output_type": "execute_result"
    }
   ],
   "source": [
    "%time df = pd.read_csv('train_small.csv')\n",
    "df.head()"
   ]
  },
  {
   "cell_type": "markdown",
   "metadata": {},
   "source": [
    "### Shape of data"
   ]
  },
  {
   "cell_type": "code",
   "execution_count": 39,
   "metadata": {},
   "outputs": [
    {
     "data": {
      "text/plain": [
       "(2380557, 54)"
      ]
     },
     "execution_count": 39,
     "metadata": {},
     "output_type": "execute_result"
    }
   ],
   "source": [
    "df.shape"
   ]
  },
  {
   "cell_type": "markdown",
   "metadata": {},
   "source": [
    "### View all the column names"
   ]
  },
  {
   "cell_type": "code",
   "execution_count": 4,
   "metadata": {},
   "outputs": [
    {
     "name": "stdout",
     "output_type": "stream",
     "text": [
      "search_id\n",
      "timestamp\n",
      "site_id\n",
      "user_country_id\n",
      "user_hist_stars\n",
      "user_hist_paid\n",
      "listing_country_id\n",
      "listing_id\n",
      "listing_stars\n",
      "listing_review_score\n",
      "is_brand\n",
      "location_score1\n",
      "location_score2\n",
      "log_historical_price\n",
      "listing_position\n",
      "price_usd\n",
      "has_promotion\n",
      "destination_id\n",
      "length_of_stay\n",
      "booking_window\n",
      "num_adults\n",
      "num_kids\n",
      "num_rooms\n",
      "stay_on_saturday\n",
      "log_click_proportion\n",
      "distance_to_dest\n",
      "random_sort\n",
      "competitor1_rate\n",
      "competitor1_has_availability\n",
      "competitor1_price_percent_diff\n",
      "competitor2_rate\n",
      "competitor2_has_availability\n",
      "competitor2_price_percent_diff\n",
      "competitor3_rate\n",
      "competitor3_has_availability\n",
      "competitor3_price_percent_diff\n",
      "competitor4_rate\n",
      "competitor4_has_availability\n",
      "competitor4_price_percent_diff\n",
      "competitor5_rate\n",
      "competitor5_has_availability\n",
      "competitor5_price_percent_diff\n",
      "competitor6_rate\n",
      "competitor6_has_availability\n",
      "competitor6_price_percent_diff\n",
      "competitor7_rate\n",
      "competitor7_has_availability\n",
      "competitor7_price_percent_diff\n",
      "competitor8_rate\n",
      "competitor8_has_availability\n",
      "competitor8_price_percent_diff\n",
      "clicked\n",
      "booking_value\n",
      "booked\n"
     ]
    }
   ],
   "source": [
    "for i in df.columns:\n",
    "    print(i)"
   ]
  },
  {
   "cell_type": "code",
   "execution_count": 8,
   "metadata": {
    "scrolled": false
   },
   "outputs": [
    {
     "data": {
      "image/png": "[encoded data removed]",
      "text/plain": [
       "<Figure size 2400x4352 with 10 Axes>"
      ]
     },
     "metadata": {},
     "output_type": "display_data"
    }
   ],
   "source": [
    "# Distribution graphs (histogram/bar graph) of column data\n",
    "def plotPerColumnDistribution(df, nGraphShown, nGraphPerRow):\n",
    "    nunique = df.nunique()\n",
    "    df = df[[col for col in df if nunique[col] > 1 and nunique[col] < 50]] # For displaying purposes, pick columns that have between 1 and 50 unique values\n",
    "    nRow, nCol = df.shape\n",
    "    columnNames = list(df)\n",
    "    nGraphRow = (nCol + nGraphPerRow - 1) / nGraphPerRow\n",
    "    plt.figure(num = None, figsize = (6 * nGraphPerRow, 8 * nGraphRow), dpi = 80, facecolor = 'w', edgecolor = 'k')\n",
    "    for i in range(min(nCol, nGraphShown)):\n",
    "        plt.subplot(nGraphRow, nGraphPerRow, i + 1)\n",
    "        columnDf = df.iloc[:, i]\n",
    "        if (not np.issubdtype(type(columnDf.iloc[0]), np.number)):\n",
    "            valueCounts = columnDf.value_counts()\n",
    "            valueCounts.plot.bar()\n",
    "        else:\n",
    "            columnDf.hist()\n",
    "        plt.ylabel('counts')\n",
    "        plt.xticks(rotation = 90)\n",
    "        plt.title(f'{columnNames[i]} (column {i})')\n",
    "    plt.tight_layout(pad = 1.0, w_pad = 1.0, h_pad = 1.0)\n",
    "    plt.show()\n",
    "    \n",
    "plotPerColumnDistribution(df, 10, 5)"
   ]
  },
  {
   "cell_type": "code",
   "execution_count": 9,
   "metadata": {},
   "outputs": [
    {
     "data": {
      "image/png": "[encoded data removed]",
      "text/plain": [
       "<Figure size 640x640 with 2 Axes>"
      ]
     },
     "metadata": {},
     "output_type": "display_data"
    }
   ],
   "source": [
    "# Correlation matrix\n",
    "def plotCorrelationMatrix(df, graphWidth):\n",
    "    df = df.dropna('columns') # drop columns with NaN\n",
    "    df = df[[col for col in df if df[col].nunique() > 1]] # keep columns where there are more than 1 unique values\n",
    "    if df.shape[1] < 2:\n",
    "        print(f'No correlation plots shown: The number of non-NaN or constant columns ({df.shape[1]}) is less than 2')\n",
    "        return\n",
    "    corr = df.corr()\n",
    "    plt.figure(num=None, figsize=(graphWidth, graphWidth), dpi=80, facecolor='w', edgecolor='k')\n",
    "    corrMat = plt.matshow(corr, fignum = 1)\n",
    "    plt.xticks(range(len(corr.columns)), corr.columns, rotation=90)\n",
    "    plt.yticks(range(len(corr.columns)), corr.columns)\n",
    "    plt.gca().xaxis.tick_bottom()\n",
    "    plt.colorbar(corrMat)\n",
    "    plt.title(f'Correlation Matrix', fontsize=15)\n",
    "    plt.show()\n",
    "\n",
    "plotCorrelationMatrix(df, 8)"
   ]
  },
  {
   "cell_type": "code",
   "execution_count": 6,
   "metadata": {},
   "outputs": [
    {
     "name": "stdout",
     "output_type": "stream",
     "text": [
      "<class 'pandas.core.frame.DataFrame'>\n",
      "RangeIndex: 2380557 entries, 0 to 2380556\n",
      "Data columns (total 54 columns):\n",
      "search_id                         int64\n",
      "timestamp                         object\n",
      "site_id                           int64\n",
      "user_country_id                   int64\n",
      "user_hist_stars                   float64\n",
      "user_hist_paid                    float64\n",
      "listing_country_id                int64\n",
      "listing_id                        int64\n",
      "listing_stars                     int64\n",
      "listing_review_score              float64\n",
      "is_brand                          int64\n",
      "location_score1                   float64\n",
      "location_score2                   float64\n",
      "log_historical_price              float64\n",
      "listing_position                  int64\n",
      "price_usd                         float64\n",
      "has_promotion                     int64\n",
      "destination_id                    int64\n",
      "length_of_stay                    int64\n",
      "booking_window                    int64\n",
      "num_adults                        int64\n",
      "num_kids                          int64\n",
      "num_rooms                         int64\n",
      "stay_on_saturday                  int64\n",
      "log_click_proportion              float64\n",
      "distance_to_dest                  float64\n",
      "random_sort                       int64\n",
      "competitor1_rate                  float64\n",
      "competitor1_has_availability      float64\n",
      "competitor1_price_percent_diff    float64\n",
      "competitor2_rate                  float64\n",
      "competitor2_has_availability      float64\n",
      "competitor2_price_percent_diff    float64\n",
      "competitor3_rate                  float64\n",
      "competitor3_has_availability      float64\n",
      "competitor3_price_percent_diff    float64\n",
      "competitor4_rate                  float64\n",
      "competitor4_has_availability      float64\n",
      "competitor4_price_percent_diff    float64\n",
      "competitor5_rate                  float64\n",
      "competitor5_has_availability      float64\n",
      "competitor5_price_percent_diff    float64\n",
      "competitor6_rate                  float64\n",
      "competitor6_has_availability      float64\n",
      "competitor6_price_percent_diff    float64\n",
      "competitor7_rate                  float64\n",
      "competitor7_has_availability      float64\n",
      "competitor7_price_percent_diff    float64\n",
      "competitor8_rate                  float64\n",
      "competitor8_has_availability      float64\n",
      "competitor8_price_percent_diff    float64\n",
      "clicked                           int64\n",
      "booking_value                     float64\n",
      "booked                            int64\n",
      "dtypes: float64(34), int64(19), object(1)\n",
      "memory usage: 980.8+ MB\n"
     ]
    }
   ],
   "source": [
    "df.info()"
   ]
  },
  {
   "cell_type": "markdown",
   "metadata": {},
   "source": [
    "Our data contains 35 float features, 19 integer features and 1 object."
   ]
  },
  {
   "cell_type": "markdown",
   "metadata": {},
   "source": [
    "### categorical variables"
   ]
  },
  {
   "cell_type": "code",
   "execution_count": 7,
   "metadata": {},
   "outputs": [
    {
     "name": "stdout",
     "output_type": "stream",
     "text": [
      "CPU times: user 17.8 ms, sys: 4.6 ms, total: 22.4 ms\n",
      "Wall time: 21.4 ms\n"
     ]
    },
    {
     "data": {
      "text/plain": [
       "listing_position                40\n",
       "site_id                         34\n",
       "length_of_stay                  33\n",
       "listing_review_score            10\n",
       "num_kids                        10\n",
       "num_adults                       9\n",
       "num_rooms                        8\n",
       "listing_stars                    6\n",
       "competitor8_rate                 3\n",
       "competitor8_has_availability     3\n",
       "competitor4_rate                 3\n",
       "competitor7_has_availability     3\n",
       "competitor7_rate                 3\n",
       "competitor6_has_availability     3\n",
       "competitor6_rate                 3\n",
       "competitor5_has_availability     3\n",
       "competitor5_rate                 3\n",
       "competitor4_has_availability     3\n",
       "competitor2_has_availability     3\n",
       "competitor3_has_availability     3\n",
       "competitor3_rate                 3\n",
       "competitor2_rate                 3\n",
       "competitor1_has_availability     3\n",
       "competitor1_rate                 3\n",
       "random_sort                      2\n",
       "stay_on_saturday                 2\n",
       "has_promotion                    2\n",
       "is_brand                         2\n",
       "clicked                          2\n",
       "booked                           2\n",
       "dtype: int64"
      ]
     },
     "execution_count": 7,
     "metadata": {},
     "output_type": "execute_result"
    }
   ],
   "source": [
    "%time temp_ser = df.nunique()\n",
    "temp_ser[temp_ser<41].sort_values(ascending=False)"
   ]
  },
  {
   "cell_type": "markdown",
   "metadata": {},
   "source": [
    "### Continuous variables"
   ]
  },
  {
   "cell_type": "code",
   "execution_count": 8,
   "metadata": {},
   "outputs": [
    {
     "data": {
      "text/plain": [
       "distance_to_dest                  386387\n",
       "listing_id                        117378\n",
       "log_click_proportion              116185\n",
       "search_id                          95842\n",
       "timestamp                          95578\n",
       "price_usd                          62712\n",
       "booking_value                      39587\n",
       "destination_id                     13122\n",
       "location_score2                     9082\n",
       "user_hist_paid                      4345\n",
       "competitor1_price_percent_diff      1091\n",
       "competitor5_price_percent_diff       494\n",
       "competitor7_price_percent_diff       478\n",
       "competitor2_price_percent_diff       467\n",
       "competitor3_price_percent_diff       441\n",
       "booking_window                       392\n",
       "log_historical_price                 381\n",
       "competitor8_price_percent_diff       377\n",
       "competitor4_price_percent_diff       375\n",
       "location_score1                      337\n",
       "competitor6_price_percent_diff       300\n",
       "user_hist_stars                      292\n",
       "user_country_id                      192\n",
       "listing_country_id                   166\n",
       "dtype: int64"
      ]
     },
     "execution_count": 8,
     "metadata": {},
     "output_type": "execute_result"
    }
   ],
   "source": [
    "temp_ser[temp_ser>41].sort_values(ascending=False)"
   ]
  },
  {
   "cell_type": "code",
   "execution_count": 9,
   "metadata": {},
   "outputs": [],
   "source": [
    "cat_list = temp_ser[temp_ser<41].index\n",
    "cont_list = temp_ser[temp_ser>41].index"
   ]
  },
  {
   "cell_type": "code",
   "execution_count": 10,
   "metadata": {},
   "outputs": [
    {
     "data": {
      "text/plain": [
       "Index(['search_id', 'timestamp', 'site_id', 'user_country_id'], dtype='object')"
      ]
     },
     "execution_count": 10,
     "metadata": {},
     "output_type": "execute_result"
    }
   ],
   "source": [
    "temp_arr = temp_ser.index\n",
    "temp_arr[:4]"
   ]
  },
  {
   "cell_type": "markdown",
   "metadata": {},
   "source": [
    "### Converting all categorical variables"
   ]
  },
  {
   "cell_type": "code",
   "execution_count": 11,
   "metadata": {},
   "outputs": [],
   "source": [
    "for i in cat_list:\n",
    "    df[i] = df[i].astype('category')"
   ]
  },
  {
   "cell_type": "code",
   "execution_count": 12,
   "metadata": {},
   "outputs": [
    {
     "name": "stdout",
     "output_type": "stream",
     "text": [
      "30\n",
      "24\n"
     ]
    }
   ],
   "source": [
    "#Number of categorical variables\n",
    "print(len(cat_list))\n",
    "print(len(cont_list))"
   ]
  },
  {
   "cell_type": "markdown",
   "metadata": {},
   "source": [
    "#### Hence, the data has 31 categorical variables and 24 continuous variables"
   ]
  },
  {
   "cell_type": "markdown",
   "metadata": {},
   "source": [
    "## Question b) -> Summary statistics and explain what issues do they reveal?"
   ]
  },
  {
   "cell_type": "code",
   "execution_count": 12,
   "metadata": {},
   "outputs": [
    {
     "data": {
      "text/html": [
       "<div>\n",
       "<style scoped>\n",
       "    .dataframe tbody tr th:only-of-type {\n",
       "        vertical-align: middle;\n",
       "    }\n",
       "\n",
       "    .dataframe tbody tr th {\n",
       "        vertical-align: top;\n",
       "    }\n",
       "\n",
       "    .dataframe thead th {\n",
       "        text-align: right;\n",
       "    }\n",
       "</style>\n",
       "<table border=\"1\" class=\"dataframe\">\n",
       "  <thead>\n",
       "    <tr style=\"text-align: right;\">\n",
       "      <th></th>\n",
       "      <th>search_id</th>\n",
       "      <th>site_id</th>\n",
       "      <th>user_country_id</th>\n",
       "      <th>user_hist_stars</th>\n",
       "      <th>user_hist_paid</th>\n",
       "      <th>listing_country_id</th>\n",
       "      <th>listing_id</th>\n",
       "      <th>listing_stars</th>\n",
       "      <th>listing_review_score</th>\n",
       "      <th>is_brand</th>\n",
       "      <th>...</th>\n",
       "      <th>competitor6_price_percent_diff</th>\n",
       "      <th>competitor7_rate</th>\n",
       "      <th>competitor7_has_availability</th>\n",
       "      <th>competitor7_price_percent_diff</th>\n",
       "      <th>competitor8_rate</th>\n",
       "      <th>competitor8_has_availability</th>\n",
       "      <th>competitor8_price_percent_diff</th>\n",
       "      <th>clicked</th>\n",
       "      <th>booking_value</th>\n",
       "      <th>booked</th>\n",
       "    </tr>\n",
       "  </thead>\n",
       "  <tbody>\n",
       "    <tr>\n",
       "      <th>count</th>\n",
       "      <td>2.380557e+06</td>\n",
       "      <td>2.380557e+06</td>\n",
       "      <td>2.380557e+06</td>\n",
       "      <td>122780.000000</td>\n",
       "      <td>123494.000000</td>\n",
       "      <td>2.380557e+06</td>\n",
       "      <td>2.380557e+06</td>\n",
       "      <td>2.380557e+06</td>\n",
       "      <td>2.377071e+06</td>\n",
       "      <td>2.380557e+06</td>\n",
       "      <td>...</td>\n",
       "      <td>47961.000000</td>\n",
       "      <td>154468.000000</td>\n",
       "      <td>174850.000000</td>\n",
       "      <td>67832.000000</td>\n",
       "      <td>913495.000000</td>\n",
       "      <td>947465.000000</td>\n",
       "      <td>292700.000000</td>\n",
       "      <td>2.380557e+06</td>\n",
       "      <td>66388.000000</td>\n",
       "      <td>2.380557e+06</td>\n",
       "    </tr>\n",
       "    <tr>\n",
       "      <th>mean</th>\n",
       "      <td>3.337016e+05</td>\n",
       "      <td>9.970224e+00</td>\n",
       "      <td>1.754588e+02</td>\n",
       "      <td>3.382814</td>\n",
       "      <td>178.094940</td>\n",
       "      <td>1.739159e+02</td>\n",
       "      <td>7.008190e+04</td>\n",
       "      <td>3.180607e+00</td>\n",
       "      <td>3.779416e+00</td>\n",
       "      <td>6.346880e-01</td>\n",
       "      <td>...</td>\n",
       "      <td>17.196243</td>\n",
       "      <td>0.147856</td>\n",
       "      <td>0.083180</td>\n",
       "      <td>20.109919</td>\n",
       "      <td>-0.060010</td>\n",
       "      <td>0.009595</td>\n",
       "      <td>21.731093</td>\n",
       "      <td>4.456688e-02</td>\n",
       "      <td>383.229069</td>\n",
       "      <td>2.788759e-02</td>\n",
       "    </tr>\n",
       "    <tr>\n",
       "      <th>std</th>\n",
       "      <td>1.923719e+05</td>\n",
       "      <td>7.667827e+00</td>\n",
       "      <td>6.585934e+01</td>\n",
       "      <td>0.694562</td>\n",
       "      <td>108.568025</td>\n",
       "      <td>6.832483e+01</td>\n",
       "      <td>4.060398e+04</td>\n",
       "      <td>1.052086e+00</td>\n",
       "      <td>1.049727e+00</td>\n",
       "      <td>4.815176e-01</td>\n",
       "      <td>...</td>\n",
       "      <td>29.536009</td>\n",
       "      <td>0.579293</td>\n",
       "      <td>0.317575</td>\n",
       "      <td>63.110961</td>\n",
       "      <td>0.469455</td>\n",
       "      <td>0.203876</td>\n",
       "      <td>800.608005</td>\n",
       "      <td>2.063509e-01</td>\n",
       "      <td>527.019882</td>\n",
       "      <td>1.646508e-01</td>\n",
       "    </tr>\n",
       "    <tr>\n",
       "      <th>min</th>\n",
       "      <td>4.000000e+00</td>\n",
       "      <td>1.000000e+00</td>\n",
       "      <td>1.000000e+00</td>\n",
       "      <td>1.500000</td>\n",
       "      <td>0.000000</td>\n",
       "      <td>1.000000e+00</td>\n",
       "      <td>1.000000e+00</td>\n",
       "      <td>0.000000e+00</td>\n",
       "      <td>0.000000e+00</td>\n",
       "      <td>0.000000e+00</td>\n",
       "      <td>...</td>\n",
       "      <td>2.000000</td>\n",
       "      <td>-1.000000</td>\n",
       "      <td>-1.000000</td>\n",
       "      <td>2.000000</td>\n",
       "      <td>-1.000000</td>\n",
       "      <td>-1.000000</td>\n",
       "      <td>2.000000</td>\n",
       "      <td>0.000000e+00</td>\n",
       "      <td>0.000000</td>\n",
       "      <td>0.000000e+00</td>\n",
       "    </tr>\n",
       "    <tr>\n",
       "      <th>25%</th>\n",
       "      <td>1.674260e+05</td>\n",
       "      <td>5.000000e+00</td>\n",
       "      <td>1.000000e+02</td>\n",
       "      <td>2.950000</td>\n",
       "      <td>111.090000</td>\n",
       "      <td>1.000000e+02</td>\n",
       "      <td>3.502800e+04</td>\n",
       "      <td>3.000000e+00</td>\n",
       "      <td>3.500000e+00</td>\n",
       "      <td>0.000000e+00</td>\n",
       "      <td>...</td>\n",
       "      <td>6.000000</td>\n",
       "      <td>0.000000</td>\n",
       "      <td>0.000000</td>\n",
       "      <td>7.000000</td>\n",
       "      <td>0.000000</td>\n",
       "      <td>0.000000</td>\n",
       "      <td>7.000000</td>\n",
       "      <td>0.000000e+00</td>\n",
       "      <td>124.150000</td>\n",
       "      <td>0.000000e+00</td>\n",
       "    </tr>\n",
       "    <tr>\n",
       "      <th>50%</th>\n",
       "      <td>3.332720e+05</td>\n",
       "      <td>5.000000e+00</td>\n",
       "      <td>2.190000e+02</td>\n",
       "      <td>3.450000</td>\n",
       "      <td>152.620000</td>\n",
       "      <td>2.190000e+02</td>\n",
       "      <td>6.961500e+04</td>\n",
       "      <td>3.000000e+00</td>\n",
       "      <td>4.000000e+00</td>\n",
       "      <td>1.000000e+00</td>\n",
       "      <td>...</td>\n",
       "      <td>11.000000</td>\n",
       "      <td>0.000000</td>\n",
       "      <td>0.000000</td>\n",
       "      <td>12.000000</td>\n",
       "      <td>0.000000</td>\n",
       "      <td>0.000000</td>\n",
       "      <td>11.000000</td>\n",
       "      <td>0.000000e+00</td>\n",
       "      <td>219.185000</td>\n",
       "      <td>0.000000e+00</td>\n",
       "    </tr>\n",
       "    <tr>\n",
       "      <th>75%</th>\n",
       "      <td>5.007050e+05</td>\n",
       "      <td>1.400000e+01</td>\n",
       "      <td>2.190000e+02</td>\n",
       "      <td>3.950000</td>\n",
       "      <td>215.950000</td>\n",
       "      <td>2.190000e+02</td>\n",
       "      <td>1.051420e+05</td>\n",
       "      <td>4.000000e+00</td>\n",
       "      <td>4.500000e+00</td>\n",
       "      <td>1.000000e+00</td>\n",
       "      <td>...</td>\n",
       "      <td>18.000000</td>\n",
       "      <td>1.000000</td>\n",
       "      <td>0.000000</td>\n",
       "      <td>20.000000</td>\n",
       "      <td>0.000000</td>\n",
       "      <td>0.000000</td>\n",
       "      <td>17.000000</td>\n",
       "      <td>0.000000e+00</td>\n",
       "      <td>432.125000</td>\n",
       "      <td>0.000000e+00</td>\n",
       "    </tr>\n",
       "    <tr>\n",
       "      <th>max</th>\n",
       "      <td>6.655730e+05</td>\n",
       "      <td>3.400000e+01</td>\n",
       "      <td>2.310000e+02</td>\n",
       "      <td>5.000000</td>\n",
       "      <td>1507.120000</td>\n",
       "      <td>2.300000e+02</td>\n",
       "      <td>1.408210e+05</td>\n",
       "      <td>5.000000e+00</td>\n",
       "      <td>5.000000e+00</td>\n",
       "      <td>1.000000e+00</td>\n",
       "      <td>...</td>\n",
       "      <td>1363.000000</td>\n",
       "      <td>1.000000</td>\n",
       "      <td>1.000000</td>\n",
       "      <td>7951.000000</td>\n",
       "      <td>1.000000</td>\n",
       "      <td>1.000000</td>\n",
       "      <td>130000.000000</td>\n",
       "      <td>1.000000e+00</td>\n",
       "      <td>20238.720000</td>\n",
       "      <td>1.000000e+00</td>\n",
       "    </tr>\n",
       "  </tbody>\n",
       "</table>\n",
       "<p>8 rows x 53 columns</p>\n",
       "</div>"
      ],
      "text/plain": [
       "          search_id       site_id  user_country_id  user_hist_stars  \\\n",
       "count  2.380557e+06  2.380557e+06     2.380557e+06    122780.000000   \n",
       "mean   3.337016e+05  9.970224e+00     1.754588e+02         3.382814   \n",
       "std    1.923719e+05  7.667827e+00     6.585934e+01         0.694562   \n",
       "min    4.000000e+00  1.000000e+00     1.000000e+00         1.500000   \n",
       "25%    1.674260e+05  5.000000e+00     1.000000e+02         2.950000   \n",
       "50%    3.332720e+05  5.000000e+00     2.190000e+02         3.450000   \n",
       "75%    5.007050e+05  1.400000e+01     2.190000e+02         3.950000   \n",
       "max    6.655730e+05  3.400000e+01     2.310000e+02         5.000000   \n",
       "\n",
       "       user_hist_paid  listing_country_id    listing_id  listing_stars  \\\n",
       "count   123494.000000        2.380557e+06  2.380557e+06   2.380557e+06   \n",
       "mean       178.094940        1.739159e+02  7.008190e+04   3.180607e+00   \n",
       "std        108.568025        6.832483e+01  4.060398e+04   1.052086e+00   \n",
       "min          0.000000        1.000000e+00  1.000000e+00   0.000000e+00   \n",
       "25%        111.090000        1.000000e+02  3.502800e+04   3.000000e+00   \n",
       "50%        152.620000        2.190000e+02  6.961500e+04   3.000000e+00   \n",
       "75%        215.950000        2.190000e+02  1.051420e+05   4.000000e+00   \n",
       "max       1507.120000        2.300000e+02  1.408210e+05   5.000000e+00   \n",
       "\n",
       "       listing_review_score      is_brand  ...  \\\n",
       "count          2.377071e+06  2.380557e+06  ...   \n",
       "mean           3.779416e+00  6.346880e-01  ...   \n",
       "std            1.049727e+00  4.815176e-01  ...   \n",
       "min            0.000000e+00  0.000000e+00  ...   \n",
       "25%            3.500000e+00  0.000000e+00  ...   \n",
       "50%            4.000000e+00  1.000000e+00  ...   \n",
       "75%            4.500000e+00  1.000000e+00  ...   \n",
       "max            5.000000e+00  1.000000e+00  ...   \n",
       "\n",
       "       competitor6_price_percent_diff  competitor7_rate  \\\n",
       "count                    47961.000000     154468.000000   \n",
       "mean                        17.196243          0.147856   \n",
       "std                         29.536009          0.579293   \n",
       "min                          2.000000         -1.000000   \n",
       "25%                          6.000000          0.000000   \n",
       "50%                         11.000000          0.000000   \n",
       "75%                         18.000000          1.000000   \n",
       "max                       1363.000000          1.000000   \n",
       "\n",
       "       competitor7_has_availability  competitor7_price_percent_diff  \\\n",
       "count                 174850.000000                    67832.000000   \n",
       "mean                       0.083180                       20.109919   \n",
       "std                        0.317575                       63.110961   \n",
       "min                       -1.000000                        2.000000   \n",
       "25%                        0.000000                        7.000000   \n",
       "50%                        0.000000                       12.000000   \n",
       "75%                        0.000000                       20.000000   \n",
       "max                        1.000000                     7951.000000   \n",
       "\n",
       "       competitor8_rate  competitor8_has_availability  \\\n",
       "count     913495.000000                 947465.000000   \n",
       "mean          -0.060010                      0.009595   \n",
       "std            0.469455                      0.203876   \n",
       "min           -1.000000                     -1.000000   \n",
       "25%            0.000000                      0.000000   \n",
       "50%            0.000000                      0.000000   \n",
       "75%            0.000000                      0.000000   \n",
       "max            1.000000                      1.000000   \n",
       "\n",
       "       competitor8_price_percent_diff       clicked  booking_value  \\\n",
       "count                   292700.000000  2.380557e+06   66388.000000   \n",
       "mean                        21.731093  4.456688e-02     383.229069   \n",
       "std                        800.608005  2.063509e-01     527.019882   \n",
       "min                          2.000000  0.000000e+00       0.000000   \n",
       "25%                          7.000000  0.000000e+00     124.150000   \n",
       "50%                         11.000000  0.000000e+00     219.185000   \n",
       "75%                         17.000000  0.000000e+00     432.125000   \n",
       "max                     130000.000000  1.000000e+00   20238.720000   \n",
       "\n",
       "             booked  \n",
       "count  2.380557e+06  \n",
       "mean   2.788759e-02  \n",
       "std    1.646508e-01  \n",
       "min    0.000000e+00  \n",
       "25%    0.000000e+00  \n",
       "50%    0.000000e+00  \n",
       "75%    0.000000e+00  \n",
       "max    1.000000e+00  \n",
       "\n",
       "[8 rows x 53 columns]"
      ]
     },
     "execution_count": 12,
     "metadata": {},
     "output_type": "execute_result"
    }
   ],
   "source": [
    "df.describe()"
   ]
  },
  {
   "cell_type": "markdown",
   "metadata": {},
   "source": [
    "- user_hist_stars, user_hist_paid, log_click_proportion, booking_value and mostly competitor data have null values more than 85% of data which can be dropped during model building time.\n",
    "- user_hist_paid and booking_value have highly right skewed data and very highly dispersed data [needs more understanding of columns][May need to be cleaned]."
   ]
  },
  {
   "cell_type": "code",
   "execution_count": 13,
   "metadata": {
    "scrolled": true
   },
   "outputs": [
    {
     "data": {
      "text/plain": [
       "search_id                          0.000000\n",
       "timestamp                          0.000000\n",
       "site_id                            0.000000\n",
       "user_country_id                    0.000000\n",
       "user_hist_stars                   94.842384\n",
       "user_hist_paid                    94.812391\n",
       "listing_country_id                 0.000000\n",
       "listing_id                         0.000000\n",
       "listing_stars                      0.000000\n",
       "listing_review_score               0.146436\n",
       "is_brand                           0.000000\n",
       "location_score1                    0.000000\n",
       "location_score2                   22.095333\n",
       "log_historical_price               0.000000\n",
       "listing_position                   0.000000\n",
       "price_usd                          0.000000\n",
       "has_promotion                      0.000000\n",
       "destination_id                     0.000000\n",
       "length_of_stay                     0.000000\n",
       "booking_window                     0.000000\n",
       "num_adults                         0.000000\n",
       "num_kids                           0.000000\n",
       "num_rooms                          0.000000\n",
       "stay_on_saturday                   0.000000\n",
       "log_click_proportion              93.610445\n",
       "distance_to_dest                  32.359486\n",
       "random_sort                        0.000000\n",
       "competitor1_rate                  97.521168\n",
       "competitor1_has_availability      97.325752\n",
       "competitor1_price_percent_diff    98.050834\n",
       "competitor2_rate                  59.431427\n",
       "competitor2_has_availability      57.316040\n",
       "competitor2_price_percent_diff    88.911419\n",
       "competitor3_rate                  69.269755\n",
       "competitor3_has_availability      66.894891\n",
       "competitor3_price_percent_diff    90.528015\n",
       "competitor4_rate                  93.774818\n",
       "competitor4_has_availability      93.057045\n",
       "competitor4_price_percent_diff    97.359400\n",
       "competitor5_rate                  55.259126\n",
       "competitor5_has_availability      52.471627\n",
       "competitor5_price_percent_diff    83.148314\n",
       "competitor6_rate                  94.974411\n",
       "competitor6_has_availability      94.543630\n",
       "competitor6_price_percent_diff    97.985303\n",
       "competitor7_rate                  93.511266\n",
       "competitor7_has_availability      92.655080\n",
       "competitor7_price_percent_diff    97.150583\n",
       "competitor8_rate                  61.626838\n",
       "competitor8_has_availability      60.199861\n",
       "competitor8_price_percent_diff    87.704558\n",
       "clicked                            0.000000\n",
       "booking_value                     97.211241\n",
       "booked                             0.000000\n",
       "dtype: float64"
      ]
     },
     "execution_count": 13,
     "metadata": {},
     "output_type": "execute_result"
    }
   ],
   "source": [
    "(df.isnull().sum()/df.shape[0])*100"
   ]
  },
  {
   "cell_type": "code",
   "execution_count": 17,
   "metadata": {},
   "outputs": [
    {
     "name": "stderr",
     "output_type": "stream",
     "text": [
      "UserWarning: `DataFrame.corr` defaulting to pandas implementation.\n",
      "UserWarning: Distributing <class 'pandas.core.frame.DataFrame'> object. This may take some time.\n"
     ]
    },
    {
     "data": {
      "image/png": "[encoded data removed]",
      "text/plain": [
       "<Figure size 1008x1008 with 2 Axes>"
      ]
     },
     "metadata": {
      "needs_background": "light"
     },
     "output_type": "display_data"
    }
   ],
   "source": [
    "plt.subplots(figsize=(14,14))\n",
    "sns.heatmap(df.corr())\n",
    "plt.show()"
   ]
  },
  {
   "cell_type": "code",
   "execution_count": 18,
   "metadata": {},
   "outputs": [
    {
     "name": "stderr",
     "output_type": "stream",
     "text": [
      "UserWarning: Distributing <class 'pandas.core.indexes.base.Index'> object. This may take some time.\n"
     ]
    },
    {
     "data": {
      "text/plain": [
       "0                          search_id\n",
       "1                          timestamp\n",
       "2                            site_id\n",
       "3                    user_country_id\n",
       "4                    user_hist_stars\n",
       "5                     user_hist_paid\n",
       "6                 listing_country_id\n",
       "7                         listing_id\n",
       "8                      listing_stars\n",
       "9               listing_review_score\n",
       "10                          is_brand\n",
       "11                   location_score1\n",
       "12                   location_score2\n",
       "13              log_historical_price\n",
       "14                  listing_position\n",
       "15                         price_usd\n",
       "16                     has_promotion\n",
       "17                    destination_id\n",
       "18                    length_of_stay\n",
       "19                    booking_window\n",
       "20                        num_adults\n",
       "21                          num_kids\n",
       "22                         num_rooms\n",
       "23                  stay_on_saturday\n",
       "24              log_click_proportion\n",
       "25                  distance_to_dest\n",
       "26                       random_sort\n",
       "27                  competitor1_rate\n",
       "28      competitor1_has_availability\n",
       "29    competitor1_price_percent_diff\n",
       "30                  competitor2_rate\n",
       "31      competitor2_has_availability\n",
       "32    competitor2_price_percent_diff\n",
       "33                  competitor3_rate\n",
       "34      competitor3_has_availability\n",
       "35    competitor3_price_percent_diff\n",
       "36                  competitor4_rate\n",
       "37      competitor4_has_availability\n",
       "38    competitor4_price_percent_diff\n",
       "39                  competitor5_rate\n",
       "40      competitor5_has_availability\n",
       "41    competitor5_price_percent_diff\n",
       "42                  competitor6_rate\n",
       "43      competitor6_has_availability\n",
       "44    competitor6_price_percent_diff\n",
       "45                  competitor7_rate\n",
       "46      competitor7_has_availability\n",
       "47    competitor7_price_percent_diff\n",
       "48                  competitor8_rate\n",
       "49      competitor8_has_availability\n",
       "50    competitor8_price_percent_diff\n",
       "51                           clicked\n",
       "52                     booking_value\n",
       "53                            booked\n",
       "dtype: object"
      ]
     },
     "execution_count": 18,
     "metadata": {},
     "output_type": "execute_result"
    }
   ],
   "source": [
    "pd.Series(df.columns)"
   ]
  },
  {
   "cell_type": "code",
   "execution_count": 22,
   "metadata": {},
   "outputs": [
    {
     "data": {
      "text/html": [
       "<div>\n",
       "<style scoped>\n",
       "    .dataframe tbody tr th:only-of-type {\n",
       "        vertical-align: middle;\n",
       "    }\n",
       "\n",
       "    .dataframe tbody tr th {\n",
       "        vertical-align: top;\n",
       "    }\n",
       "\n",
       "    .dataframe thead th {\n",
       "        text-align: right;\n",
       "    }\n",
       "</style>\n",
       "<table border=\"1\" class=\"dataframe\">\n",
       "  <thead>\n",
       "    <tr style=\"text-align: right;\">\n",
       "      <th></th>\n",
       "      <th>clicked</th>\n",
       "      <th>booking_value</th>\n",
       "      <th>booked</th>\n",
       "    </tr>\n",
       "  </thead>\n",
       "  <tbody>\n",
       "    <tr>\n",
       "      <th>clicked</th>\n",
       "      <td>1.000000</td>\n",
       "      <td>NaN</td>\n",
       "      <td>0.784226</td>\n",
       "    </tr>\n",
       "    <tr>\n",
       "      <th>booking_value</th>\n",
       "      <td>NaN</td>\n",
       "      <td>1.0</td>\n",
       "      <td>NaN</td>\n",
       "    </tr>\n",
       "    <tr>\n",
       "      <th>booked</th>\n",
       "      <td>0.784226</td>\n",
       "      <td>NaN</td>\n",
       "      <td>1.000000</td>\n",
       "    </tr>\n",
       "  </tbody>\n",
       "</table>\n",
       "</div>"
      ],
      "text/plain": [
       "                clicked  booking_value    booked\n",
       "clicked        1.000000            NaN  0.784226\n",
       "booking_value       NaN            1.0       NaN\n",
       "booked         0.784226            NaN  1.000000"
      ]
     },
     "execution_count": 22,
     "metadata": {},
     "output_type": "execute_result"
    }
   ],
   "source": [
    "df.iloc[:,51:].corr()"
   ]
  },
  {
   "cell_type": "code",
   "execution_count": 24,
   "metadata": {},
   "outputs": [
    {
     "data": {
      "text/html": [
       "<div>\n",
       "<style scoped>\n",
       "    .dataframe tbody tr th:only-of-type {\n",
       "        vertical-align: middle;\n",
       "    }\n",
       "\n",
       "    .dataframe tbody tr th {\n",
       "        vertical-align: top;\n",
       "    }\n",
       "\n",
       "    .dataframe thead th {\n",
       "        text-align: right;\n",
       "    }\n",
       "</style>\n",
       "<table border=\"1\" class=\"dataframe\">\n",
       "  <thead>\n",
       "    <tr style=\"text-align: right;\">\n",
       "      <th></th>\n",
       "      <th>competitor4_price_percent_diff</th>\n",
       "      <th>competitor7_price_percent_diff</th>\n",
       "    </tr>\n",
       "  </thead>\n",
       "  <tbody>\n",
       "    <tr>\n",
       "      <th>competitor4_price_percent_diff</th>\n",
       "      <td>1.00000</td>\n",
       "      <td>0.13431</td>\n",
       "    </tr>\n",
       "    <tr>\n",
       "      <th>competitor7_price_percent_diff</th>\n",
       "      <td>0.13431</td>\n",
       "      <td>1.00000</td>\n",
       "    </tr>\n",
       "  </tbody>\n",
       "</table>\n",
       "</div>"
      ],
      "text/plain": [
       "                                competitor4_price_percent_diff  \\\n",
       "competitor4_price_percent_diff                         1.00000   \n",
       "competitor7_price_percent_diff                         0.13431   \n",
       "\n",
       "                                competitor7_price_percent_diff  \n",
       "competitor4_price_percent_diff                         0.13431  \n",
       "competitor7_price_percent_diff                         1.00000  "
      ]
     },
     "execution_count": 24,
     "metadata": {},
     "output_type": "execute_result"
    }
   ],
   "source": [
    "df[['competitor4_price_percent_diff','competitor7_price_percent_diff']].corr()"
   ]
  },
  {
   "cell_type": "code",
   "execution_count": 30,
   "metadata": {},
   "outputs": [
    {
     "data": {
      "image/png": "[encoded data removed]",
      "text/plain": [
       "<Figure size 1008x1008 with 2 Axes>"
      ]
     },
     "metadata": {
      "needs_background": "light"
     },
     "output_type": "display_data"
    }
   ],
   "source": [
    "plt.subplots(figsize=(14,14))\n",
    "sns.heatmap(df.iloc[:,40:].corr(),annot=True)\n",
    "plt.show()"
   ]
  },
  {
   "cell_type": "markdown",
   "metadata": {},
   "source": [
    "Booked and clicked are 0.78 collinear but they are dependent on each other. Hence can not remove one of them."
   ]
  },
  {
   "cell_type": "markdown",
   "metadata": {},
   "source": [
    "## Booked and clicked are highly unbalanced and can generate false reduction in accuracy"
   ]
  },
  {
   "cell_type": "code",
   "execution_count": 18,
   "metadata": {},
   "outputs": [
    {
     "data": {
      "image/png": "[encoded data removed]",
      "text/plain": [
       "<Figure size 432x288 with 1 Axes>"
      ]
     },
     "metadata": {
      "needs_background": "light"
     },
     "output_type": "display_data"
    }
   ],
   "source": [
    "temp_ser = df['booked'].value_counts(normalize=True)\n",
    "temp_ser.plot(kind='bar')\n",
    "plt.xlabel('Booked')\n",
    "plt.show()   "
   ]
  },
  {
   "cell_type": "code",
   "execution_count": 17,
   "metadata": {},
   "outputs": [
    {
     "data": {
      "image/png": "[encoded data removed]",
      "text/plain": [
       "<Figure size 432x288 with 1 Axes>"
      ]
     },
     "metadata": {
      "needs_background": "light"
     },
     "output_type": "display_data"
    }
   ],
   "source": [
    "temp_ser = df['clicked'].value_counts(normalize=True)\n",
    "temp_ser.plot(kind='bar')\n",
    "plt.xlabel('Clicked')\n",
    "plt.show()  "
   ]
  },
  {
   "cell_type": "code",
   "execution_count": 21,
   "metadata": {},
   "outputs": [
    {
     "data": {
      "text/plain": [
       "array([295.  , 299.  , 373.  , ..., 323.19, 522.29, 682.61])"
      ]
     },
     "execution_count": 21,
     "metadata": {},
     "output_type": "execute_result"
    }
   ],
   "source": [
    "df['price_usd'].unique()"
   ]
  },
  {
   "cell_type": "code",
   "execution_count": 53,
   "metadata": {},
   "outputs": [
    {
     "data": {
      "text/plain": [
       "array([1, 2, 3, 4, 5, 8, 6, 7])"
      ]
     },
     "execution_count": 53,
     "metadata": {},
     "output_type": "execute_result"
    }
   ],
   "source": [
    "df['num_rooms'].unique()"
   ]
  },
  {
   "cell_type": "markdown",
   "metadata": {},
   "source": [
    "## Creating total number of travellers "
   ]
  },
  {
   "cell_type": "code",
   "execution_count": 41,
   "metadata": {},
   "outputs": [],
   "source": [
    "df['num_total'] = df['num_adults']+df['num_kids']"
   ]
  },
  {
   "cell_type": "markdown",
   "metadata": {},
   "source": [
    "## Now cleaning price_usd\n",
    "- can be price per night\n",
    "- can be price for whole stay\n",
    "- depending on the country and hotels convention"
   ]
  },
  {
   "cell_type": "code",
   "execution_count": 68,
   "metadata": {},
   "outputs": [
    {
     "name": "stderr",
     "output_type": "stream",
     "text": [
      "//anaconda3/lib/python3.7/site-packages/ipykernel_launcher.py:1: UserWarning: Boolean Series key will be reindexed to match DataFrame index.\n",
      "  \"\"\"Entry point for launching an IPython kernel.\n"
     ]
    },
    {
     "data": {
      "text/html": [
       "<div>\n",
       "<style scoped>\n",
       "    .dataframe tbody tr th:only-of-type {\n",
       "        vertical-align: middle;\n",
       "    }\n",
       "\n",
       "    .dataframe tbody tr th {\n",
       "        vertical-align: top;\n",
       "    }\n",
       "\n",
       "    .dataframe thead th {\n",
       "        text-align: right;\n",
       "    }\n",
       "</style>\n",
       "<table border=\"1\" class=\"dataframe\">\n",
       "  <thead>\n",
       "    <tr style=\"text-align: right;\">\n",
       "      <th></th>\n",
       "      <th>price_usd</th>\n",
       "      <th>listing_stars</th>\n",
       "      <th>length_of_stay</th>\n",
       "    </tr>\n",
       "  </thead>\n",
       "  <tbody>\n",
       "    <tr>\n",
       "      <th>count</th>\n",
       "      <td>37861.000000</td>\n",
       "      <td>37861.0</td>\n",
       "      <td>37861.0</td>\n",
       "    </tr>\n",
       "    <tr>\n",
       "      <th>mean</th>\n",
       "      <td>125.365853</td>\n",
       "      <td>0.0</td>\n",
       "      <td>1.0</td>\n",
       "    </tr>\n",
       "    <tr>\n",
       "      <th>std</th>\n",
       "      <td>491.720498</td>\n",
       "      <td>0.0</td>\n",
       "      <td>0.0</td>\n",
       "    </tr>\n",
       "    <tr>\n",
       "      <th>min</th>\n",
       "      <td>0.500000</td>\n",
       "      <td>0.0</td>\n",
       "      <td>1.0</td>\n",
       "    </tr>\n",
       "    <tr>\n",
       "      <th>25%</th>\n",
       "      <td>70.000000</td>\n",
       "      <td>0.0</td>\n",
       "      <td>1.0</td>\n",
       "    </tr>\n",
       "    <tr>\n",
       "      <th>50%</th>\n",
       "      <td>96.000000</td>\n",
       "      <td>0.0</td>\n",
       "      <td>1.0</td>\n",
       "    </tr>\n",
       "    <tr>\n",
       "      <th>75%</th>\n",
       "      <td>139.000000</td>\n",
       "      <td>0.0</td>\n",
       "      <td>1.0</td>\n",
       "    </tr>\n",
       "    <tr>\n",
       "      <th>max</th>\n",
       "      <td>90928.000000</td>\n",
       "      <td>0.0</td>\n",
       "      <td>1.0</td>\n",
       "    </tr>\n",
       "  </tbody>\n",
       "</table>\n",
       "</div>"
      ],
      "text/plain": [
       "          price_usd  listing_stars  length_of_stay\n",
       "count  37861.000000        37861.0         37861.0\n",
       "mean     125.365853            0.0             1.0\n",
       "std      491.720498            0.0             0.0\n",
       "min        0.500000            0.0             1.0\n",
       "25%       70.000000            0.0             1.0\n",
       "50%       96.000000            0.0             1.0\n",
       "75%      139.000000            0.0             1.0\n",
       "max    90928.000000            0.0             1.0"
      ]
     },
     "execution_count": 68,
     "metadata": {},
     "output_type": "execute_result"
    }
   ],
   "source": [
    "df[(df['listing_stars']==0)&(df['num_rooms']==1)][(df['length_of_stay']==1)][['price_usd','listing_stars','length_of_stay']].describe()"
   ]
  },
  {
   "cell_type": "markdown",
   "metadata": {},
   "source": [
    "## Getting maximum permissible value for each listing stars to separate full length payments in price_usd"
   ]
  },
  {
   "cell_type": "code",
   "execution_count": 70,
   "metadata": {},
   "outputs": [
    {
     "name": "stderr",
     "output_type": "stream",
     "text": [
      "//anaconda3/lib/python3.7/site-packages/ipykernel_launcher.py:1: UserWarning: Boolean Series key will be reindexed to match DataFrame index.\n",
      "  \"\"\"Entry point for launching an IPython kernel.\n"
     ]
    },
    {
     "data": {
      "text/plain": [
       "205.44"
      ]
     },
     "execution_count": 70,
     "metadata": {},
     "output_type": "execute_result"
    }
   ],
   "source": [
    "temp = df[(df['listing_stars']==0)&(df['num_rooms']==1)][df['length_of_stay']==1][['price_usd','listing_stars','length_of_stay']]\n",
    "temp.quantile(0.9)[0]"
   ]
  },
  {
   "cell_type": "code",
   "execution_count": 72,
   "metadata": {},
   "outputs": [
    {
     "name": "stderr",
     "output_type": "stream",
     "text": [
      "//anaconda3/lib/python3.7/site-packages/ipykernel_launcher.py:1: UserWarning: Boolean Series key will be reindexed to match DataFrame index.\n",
      "  \"\"\"Entry point for launching an IPython kernel.\n"
     ]
    },
    {
     "data": {
      "text/plain": [
       "157.02899999999985"
      ]
     },
     "execution_count": 72,
     "metadata": {},
     "output_type": "execute_result"
    }
   ],
   "source": [
    "temp = df[(df['listing_stars']==1)&(df['num_rooms']==1)][df['length_of_stay']==1][['price_usd','listing_stars','length_of_stay']]\n",
    "temp.quantile(0.95)[0]"
   ]
  },
  {
   "cell_type": "code",
   "execution_count": 73,
   "metadata": {},
   "outputs": [
    {
     "name": "stderr",
     "output_type": "stream",
     "text": [
      "//anaconda3/lib/python3.7/site-packages/ipykernel_launcher.py:1: UserWarning: Boolean Series key will be reindexed to match DataFrame index.\n",
      "  \"\"\"Entry point for launching an IPython kernel.\n"
     ]
    },
    {
     "data": {
      "text/plain": [
       "226.24040000000036"
      ]
     },
     "execution_count": 73,
     "metadata": {},
     "output_type": "execute_result"
    }
   ],
   "source": [
    "temp = df[(df['listing_stars']==2)&(df['num_rooms']==1)][df['length_of_stay']==1][['price_usd','listing_stars','length_of_stay']]\n",
    "temp.quantile(0.99)[0]"
   ]
  },
  {
   "cell_type": "code",
   "execution_count": 74,
   "metadata": {},
   "outputs": [
    {
     "name": "stderr",
     "output_type": "stream",
     "text": [
      "//anaconda3/lib/python3.7/site-packages/ipykernel_launcher.py:1: UserWarning: Boolean Series key will be reindexed to match DataFrame index.\n",
      "  \"\"\"Entry point for launching an IPython kernel.\n"
     ]
    },
    {
     "data": {
      "text/plain": [
       "309.4180000000028"
      ]
     },
     "execution_count": 74,
     "metadata": {},
     "output_type": "execute_result"
    }
   ],
   "source": [
    "temp = df[(df['listing_stars']==3)&(df['num_rooms']==1)][df['length_of_stay']==1][['price_usd','listing_stars','length_of_stay']]\n",
    "temp.quantile(0.99)[0]"
   ]
  },
  {
   "cell_type": "code",
   "execution_count": 75,
   "metadata": {},
   "outputs": [
    {
     "name": "stderr",
     "output_type": "stream",
     "text": [
      "//anaconda3/lib/python3.7/site-packages/ipykernel_launcher.py:1: UserWarning: Boolean Series key will be reindexed to match DataFrame index.\n",
      "  \"\"\"Entry point for launching an IPython kernel.\n"
     ]
    },
    {
     "data": {
      "text/plain": [
       "349.0"
      ]
     },
     "execution_count": 75,
     "metadata": {},
     "output_type": "execute_result"
    }
   ],
   "source": [
    "temp = df[(df['listing_stars']==4)&(df['num_rooms']==1)][df['length_of_stay']==1][['price_usd','listing_stars','length_of_stay']]\n",
    "temp.quantile(0.95)[0]"
   ]
  },
  {
   "cell_type": "code",
   "execution_count": 76,
   "metadata": {},
   "outputs": [
    {
     "name": "stderr",
     "output_type": "stream",
     "text": [
      "//anaconda3/lib/python3.7/site-packages/ipykernel_launcher.py:1: UserWarning: Boolean Series key will be reindexed to match DataFrame index.\n",
      "  \"\"\"Entry point for launching an IPython kernel.\n"
     ]
    },
    {
     "data": {
      "text/plain": [
       "618.9654999999997"
      ]
     },
     "execution_count": 76,
     "metadata": {},
     "output_type": "execute_result"
    }
   ],
   "source": [
    "temp = df[(df['listing_stars']==5)&(df['num_rooms']==1)][df['length_of_stay']==1][['price_usd','listing_stars','length_of_stay']]\n",
    "temp.quantile(0.95)[0]"
   ]
  },
  {
   "cell_type": "markdown",
   "metadata": {},
   "source": [
    "Creating a permissible maximum range for per room per day by getting the quantile value of that particular data.\n",
    "\n",
    "Values which are lower than this value will be continued on with the modelling. "
   ]
  },
  {
   "cell_type": "code",
   "execution_count": 78,
   "metadata": {},
   "outputs": [
    {
     "name": "stderr",
     "output_type": "stream",
     "text": [
      "//anaconda3/lib/python3.7/site-packages/ipykernel_launcher.py:1: UserWarning: Boolean Series key will be reindexed to match DataFrame index.\n",
      "  \"\"\"Entry point for launching an IPython kernel.\n",
      "//anaconda3/lib/python3.7/site-packages/ipykernel_launcher.py:2: UserWarning: Boolean Series key will be reindexed to match DataFrame index.\n",
      "  \n",
      "//anaconda3/lib/python3.7/site-packages/ipykernel_launcher.py:3: UserWarning: Boolean Series key will be reindexed to match DataFrame index.\n",
      "  This is separate from the ipykernel package so we can avoid doing imports until\n",
      "//anaconda3/lib/python3.7/site-packages/ipykernel_launcher.py:4: UserWarning: Boolean Series key will be reindexed to match DataFrame index.\n",
      "  after removing the cwd from sys.path.\n",
      "//anaconda3/lib/python3.7/site-packages/ipykernel_launcher.py:5: UserWarning: Boolean Series key will be reindexed to match DataFrame index.\n",
      "  \"\"\"\n",
      "//anaconda3/lib/python3.7/site-packages/ipykernel_launcher.py:6: UserWarning: Boolean Series key will be reindexed to match DataFrame index.\n",
      "  \n"
     ]
    }
   ],
   "source": [
    "df_add1 = df[(df['listing_stars']==0)&(df['num_rooms']==1)][(df['price_usd']<205.44)&(df['length_of_stay']==1)]\n",
    "df_add2 = df[(df['listing_stars']==1)&(df['num_rooms']==1)][(df['price_usd']<157.03)&(df['length_of_stay']==1)]\n",
    "df_add3 = df[(df['listing_stars']==2)&(df['num_rooms']==1)][(df['price_usd']<226.24)&(df['length_of_stay']==1)]\n",
    "df_add4 = df[(df['listing_stars']==3)&(df['num_rooms']==1)][(df['price_usd']<309.18)&(df['length_of_stay']==1)]\n",
    "df_add5 = df[(df['listing_stars']==4)&(df['num_rooms']==1)][(df['price_usd']<349)&(df['length_of_stay']==1)]\n",
    "df_add6 = df[(df['listing_stars']==5)&(df['num_rooms']==1)][(df['price_usd']<618.97)&(df['length_of_stay']==1)]\n",
    "df_add = pd.concat([df_add1,df_add2,df_add3,df_add4,df_add5,df_add6])"
   ]
  },
  {
   "cell_type": "markdown",
   "metadata": {},
   "source": [
    "## Cleaned length_of_stay = 1"
   ]
  },
  {
   "cell_type": "code",
   "execution_count": 79,
   "metadata": {},
   "outputs": [
    {
     "data": {
      "text/plain": [
       "(919090, 55)"
      ]
     },
     "execution_count": 79,
     "metadata": {},
     "output_type": "execute_result"
    }
   ],
   "source": [
    "df_add.shape"
   ]
  },
  {
   "cell_type": "code",
   "execution_count": 80,
   "metadata": {},
   "outputs": [],
   "source": [
    "df_add['price_usd_corr'] = df_add['price_usd']"
   ]
  },
  {
   "cell_type": "markdown",
   "metadata": {},
   "source": [
    "To remove the price_usd anonimity that the prices are per night or per length of stay. Follow this algorithm"
   ]
  },
  {
   "cell_type": "code",
   "execution_count": 81,
   "metadata": {},
   "outputs": [
    {
     "name": "stderr",
     "output_type": "stream",
     "text": [
      "//anaconda3/lib/python3.7/site-packages/ipykernel_launcher.py:2: SettingWithCopyWarning: \n",
      "A value is trying to be set on a copy of a slice from a DataFrame.\n",
      "Try using .loc[row_indexer,col_indexer] = value instead\n",
      "\n",
      "See the caveats in the documentation: http://pandas.pydata.org/pandas-docs/stable/user_guide/indexing.html#returning-a-view-versus-a-copy\n",
      "  \n",
      "//anaconda3/lib/python3.7/site-packages/ipykernel_launcher.py:3: SettingWithCopyWarning: \n",
      "A value is trying to be set on a copy of a slice from a DataFrame.\n",
      "Try using .loc[row_indexer,col_indexer] = value instead\n",
      "\n",
      "See the caveats in the documentation: http://pandas.pydata.org/pandas-docs/stable/user_guide/indexing.html#returning-a-view-versus-a-copy\n",
      "  This is separate from the ipykernel package so we can avoid doing imports until\n",
      "//anaconda3/lib/python3.7/site-packages/ipykernel_launcher.py:6: SettingWithCopyWarning: \n",
      "A value is trying to be set on a copy of a slice from a DataFrame.\n",
      "Try using .loc[row_indexer,col_indexer] = value instead\n",
      "\n",
      "See the caveats in the documentation: http://pandas.pydata.org/pandas-docs/stable/user_guide/indexing.html#returning-a-view-versus-a-copy\n",
      "  \n",
      "//anaconda3/lib/python3.7/site-packages/ipykernel_launcher.py:7: SettingWithCopyWarning: \n",
      "A value is trying to be set on a copy of a slice from a DataFrame.\n",
      "Try using .loc[row_indexer,col_indexer] = value instead\n",
      "\n",
      "See the caveats in the documentation: http://pandas.pydata.org/pandas-docs/stable/user_guide/indexing.html#returning-a-view-versus-a-copy\n",
      "  import sys\n",
      "//anaconda3/lib/python3.7/site-packages/ipykernel_launcher.py:10: SettingWithCopyWarning: \n",
      "A value is trying to be set on a copy of a slice from a DataFrame.\n",
      "Try using .loc[row_indexer,col_indexer] = value instead\n",
      "\n",
      "See the caveats in the documentation: http://pandas.pydata.org/pandas-docs/stable/user_guide/indexing.html#returning-a-view-versus-a-copy\n",
      "  # Remove the CWD from sys.path while we load stuff.\n",
      "//anaconda3/lib/python3.7/site-packages/ipykernel_launcher.py:11: SettingWithCopyWarning: \n",
      "A value is trying to be set on a copy of a slice from a DataFrame.\n",
      "Try using .loc[row_indexer,col_indexer] = value instead\n",
      "\n",
      "See the caveats in the documentation: http://pandas.pydata.org/pandas-docs/stable/user_guide/indexing.html#returning-a-view-versus-a-copy\n",
      "  # This is added back by InteractiveShellApp.init_path()\n",
      "//anaconda3/lib/python3.7/site-packages/ipykernel_launcher.py:14: SettingWithCopyWarning: \n",
      "A value is trying to be set on a copy of a slice from a DataFrame.\n",
      "Try using .loc[row_indexer,col_indexer] = value instead\n",
      "\n",
      "See the caveats in the documentation: http://pandas.pydata.org/pandas-docs/stable/user_guide/indexing.html#returning-a-view-versus-a-copy\n",
      "  \n",
      "//anaconda3/lib/python3.7/site-packages/ipykernel_launcher.py:15: SettingWithCopyWarning: \n",
      "A value is trying to be set on a copy of a slice from a DataFrame.\n",
      "Try using .loc[row_indexer,col_indexer] = value instead\n",
      "\n",
      "See the caveats in the documentation: http://pandas.pydata.org/pandas-docs/stable/user_guide/indexing.html#returning-a-view-versus-a-copy\n",
      "  from ipykernel import kernelapp as app\n",
      "//anaconda3/lib/python3.7/site-packages/ipykernel_launcher.py:18: SettingWithCopyWarning: \n",
      "A value is trying to be set on a copy of a slice from a DataFrame.\n",
      "Try using .loc[row_indexer,col_indexer] = value instead\n",
      "\n",
      "See the caveats in the documentation: http://pandas.pydata.org/pandas-docs/stable/user_guide/indexing.html#returning-a-view-versus-a-copy\n",
      "//anaconda3/lib/python3.7/site-packages/ipykernel_launcher.py:19: SettingWithCopyWarning: \n",
      "A value is trying to be set on a copy of a slice from a DataFrame.\n",
      "Try using .loc[row_indexer,col_indexer] = value instead\n",
      "\n",
      "See the caveats in the documentation: http://pandas.pydata.org/pandas-docs/stable/user_guide/indexing.html#returning-a-view-versus-a-copy\n",
      "//anaconda3/lib/python3.7/site-packages/ipykernel_launcher.py:22: SettingWithCopyWarning: \n",
      "A value is trying to be set on a copy of a slice from a DataFrame.\n",
      "Try using .loc[row_indexer,col_indexer] = value instead\n",
      "\n",
      "See the caveats in the documentation: http://pandas.pydata.org/pandas-docs/stable/user_guide/indexing.html#returning-a-view-versus-a-copy\n",
      "//anaconda3/lib/python3.7/site-packages/ipykernel_launcher.py:23: SettingWithCopyWarning: \n",
      "A value is trying to be set on a copy of a slice from a DataFrame.\n",
      "Try using .loc[row_indexer,col_indexer] = value instead\n",
      "\n",
      "See the caveats in the documentation: http://pandas.pydata.org/pandas-docs/stable/user_guide/indexing.html#returning-a-view-versus-a-copy\n"
     ]
    }
   ],
   "source": [
    "temp1 = df[(((df['price_usd']/df['num_rooms'])/df['length_of_stay'])<205.44)&(df['listing_stars']==0)&(df['length_of_stay']>1)]\n",
    "temp1['price_usd_corr'] = ((temp1[(temp1['price_usd']>=205.44)]['price_usd'])/(temp1[(temp1['price_usd']>=205.44)]['length_of_stay']))/(temp1[(temp1['price_usd']>=205.44)]['num_rooms'])\n",
    "temp1['price_usd_corr'] = np.where(temp1['price_usd_corr'].isnull(),temp1['price_usd'],temp1['price_usd_corr'])\n",
    "\n",
    "temp2 = df[(((df['price_usd']/df['num_rooms'])/df['length_of_stay'])<157.03)&(df['listing_stars']==1)&(df['length_of_stay']>1)]\n",
    "temp2['price_usd_corr'] = ((temp2[(temp2['price_usd']>=157.03)]['price_usd'])/(temp2[(temp2['price_usd']>=157.03)]['length_of_stay']))/(temp1[(temp1['price_usd']>=157.03)]['num_rooms'])\n",
    "temp2['price_usd_corr'] = np.where(temp2['price_usd_corr'].isnull(),temp2['price_usd'],temp2['price_usd_corr'])\n",
    "\n",
    "temp3 = df[(((df['price_usd']/df['num_rooms'])/df['length_of_stay'])<226.24)&(df['listing_stars']==2)&(df['length_of_stay']>1)]\n",
    "temp3['price_usd_corr'] = ((temp3[(temp3['price_usd']>=226.24)]['price_usd'])/(temp3[(temp3['price_usd']>=226.24)]['length_of_stay']))/(temp1[(temp1['price_usd']>=226.24)]['num_rooms'])\n",
    "temp3['price_usd_corr'] = np.where(temp3['price_usd_corr'].isnull(),temp3['price_usd'],temp3['price_usd_corr'])\n",
    "\n",
    "temp4 = df[(((df['price_usd']/df['num_rooms'])/df['length_of_stay'])<309.18)&(df['listing_stars']==3)&(df['length_of_stay']>1)]\n",
    "temp4['price_usd_corr'] = ((temp4[(temp4['price_usd']>=309.18)]['price_usd'])/(temp4[(temp4['price_usd']>=309.18)]['length_of_stay']))/(temp1[(temp1['price_usd']>=309.18)]['num_rooms'])\n",
    "temp4['price_usd_corr'] = np.where(temp4['price_usd_corr'].isnull(),temp4['price_usd'],temp4['price_usd_corr'])\n",
    "\n",
    "temp5 = df[(((df['price_usd']/df['num_rooms'])/df['length_of_stay'])<349)&(df['listing_stars']==4)&(df['length_of_stay']>1)]\n",
    "temp5['price_usd_corr'] = ((temp5[(temp5['price_usd']>=349)]['price_usd'])/(temp5[(temp5['price_usd']>=349)]['length_of_stay']))/(temp1[(temp1['price_usd']>=349)]['num_rooms'])\n",
    "temp5['price_usd_corr'] = np.where(temp5['price_usd_corr'].isnull(),temp5['price_usd'],temp5['price_usd_corr'])\n",
    "\n",
    "temp6 = df[(((df['price_usd']/df['num_rooms'])/df['length_of_stay'])<618.97)&(df['listing_stars']==5)&(df['length_of_stay']>1)]\n",
    "temp6['price_usd_corr'] = ((temp6[(temp6['price_usd']>=618.97)]['price_usd'])/(temp6[(temp6['price_usd']>=618.97)]['length_of_stay']))/(temp1[(temp1['price_usd']>=618.97)]['num_rooms'])\n",
    "temp6['price_usd_corr'] = np.where(temp6['price_usd_corr'].isnull(),temp6['price_usd'],temp6['price_usd_corr'])\n",
    "\n",
    "df_addd = pd.concat([temp1,temp2,temp3,temp4,temp5,temp6])"
   ]
  },
  {
   "cell_type": "code",
   "execution_count": 82,
   "metadata": {},
   "outputs": [
    {
     "data": {
      "text/html": [
       "<div>\n",
       "<style scoped>\n",
       "    .dataframe tbody tr th:only-of-type {\n",
       "        vertical-align: middle;\n",
       "    }\n",
       "\n",
       "    .dataframe tbody tr th {\n",
       "        vertical-align: top;\n",
       "    }\n",
       "\n",
       "    .dataframe thead th {\n",
       "        text-align: right;\n",
       "    }\n",
       "</style>\n",
       "<table border=\"1\" class=\"dataframe\">\n",
       "  <thead>\n",
       "    <tr style=\"text-align: right;\">\n",
       "      <th></th>\n",
       "      <th>price_usd</th>\n",
       "      <th>price_usd_corr</th>\n",
       "    </tr>\n",
       "  </thead>\n",
       "  <tbody>\n",
       "    <tr>\n",
       "      <th>count</th>\n",
       "      <td>1.347718e+06</td>\n",
       "      <td>1.347718e+06</td>\n",
       "    </tr>\n",
       "    <tr>\n",
       "      <th>mean</th>\n",
       "      <td>1.651119e+02</td>\n",
       "      <td>1.640185e+02</td>\n",
       "    </tr>\n",
       "    <tr>\n",
       "      <th>std</th>\n",
       "      <td>1.250035e+02</td>\n",
       "      <td>1.244063e+02</td>\n",
       "    </tr>\n",
       "    <tr>\n",
       "      <th>min</th>\n",
       "      <td>0.000000e+00</td>\n",
       "      <td>0.000000e+00</td>\n",
       "    </tr>\n",
       "    <tr>\n",
       "      <th>25%</th>\n",
       "      <td>8.956000e+01</td>\n",
       "      <td>8.900000e+01</td>\n",
       "    </tr>\n",
       "    <tr>\n",
       "      <th>50%</th>\n",
       "      <td>1.320000e+02</td>\n",
       "      <td>1.310000e+02</td>\n",
       "    </tr>\n",
       "    <tr>\n",
       "      <th>75%</th>\n",
       "      <td>2.007600e+02</td>\n",
       "      <td>1.990000e+02</td>\n",
       "    </tr>\n",
       "    <tr>\n",
       "      <th>max</th>\n",
       "      <td>7.276880e+03</td>\n",
       "      <td>7.276880e+03</td>\n",
       "    </tr>\n",
       "  </tbody>\n",
       "</table>\n",
       "</div>"
      ],
      "text/plain": [
       "          price_usd  price_usd_corr\n",
       "count  1.347718e+06    1.347718e+06\n",
       "mean   1.651119e+02    1.640185e+02\n",
       "std    1.250035e+02    1.244063e+02\n",
       "min    0.000000e+00    0.000000e+00\n",
       "25%    8.956000e+01    8.900000e+01\n",
       "50%    1.320000e+02    1.310000e+02\n",
       "75%    2.007600e+02    1.990000e+02\n",
       "max    7.276880e+03    7.276880e+03"
      ]
     },
     "execution_count": 82,
     "metadata": {},
     "output_type": "execute_result"
    }
   ],
   "source": [
    "df_addd[['price_usd','price_usd_corr']].describe()"
   ]
  },
  {
   "cell_type": "code",
   "execution_count": 83,
   "metadata": {},
   "outputs": [],
   "source": [
    "df_cleaned = pd.concat([df_add,df_addd])"
   ]
  },
  {
   "cell_type": "code",
   "execution_count": 84,
   "metadata": {},
   "outputs": [
    {
     "data": {
      "text/plain": [
       "(2266808, 56)"
      ]
     },
     "execution_count": 84,
     "metadata": {},
     "output_type": "execute_result"
    }
   ],
   "source": [
    "df_cleaned.shape"
   ]
  },
  {
   "cell_type": "markdown",
   "metadata": {},
   "source": [
    "## Created a new column is_converted to see who converted [check conversion ratio]"
   ]
  },
  {
   "cell_type": "code",
   "execution_count": 89,
   "metadata": {},
   "outputs": [
    {
     "name": "stderr",
     "output_type": "stream",
     "text": [
      "//anaconda3/lib/python3.7/site-packages/ipykernel_launcher.py:2: SettingWithCopyWarning: \n",
      "A value is trying to be set on a copy of a slice from a DataFrame.\n",
      "Try using .loc[row_indexer,col_indexer] = value instead\n",
      "\n",
      "See the caveats in the documentation: http://pandas.pydata.org/pandas-docs/stable/user_guide/indexing.html#returning-a-view-versus-a-copy\n",
      "  \n",
      "//anaconda3/lib/python3.7/site-packages/ipykernel_launcher.py:5: SettingWithCopyWarning: \n",
      "A value is trying to be set on a copy of a slice from a DataFrame.\n",
      "Try using .loc[row_indexer,col_indexer] = value instead\n",
      "\n",
      "See the caveats in the documentation: http://pandas.pydata.org/pandas-docs/stable/user_guide/indexing.html#returning-a-view-versus-a-copy\n",
      "  \"\"\"\n",
      "//anaconda3/lib/python3.7/site-packages/ipykernel_launcher.py:8: SettingWithCopyWarning: \n",
      "A value is trying to be set on a copy of a slice from a DataFrame.\n",
      "Try using .loc[row_indexer,col_indexer] = value instead\n",
      "\n",
      "See the caveats in the documentation: http://pandas.pydata.org/pandas-docs/stable/user_guide/indexing.html#returning-a-view-versus-a-copy\n",
      "  \n"
     ]
    },
    {
     "data": {
      "text/plain": [
       "(2266808, 57)"
      ]
     },
     "execution_count": 89,
     "metadata": {},
     "output_type": "execute_result"
    }
   ],
   "source": [
    "d1 = df_cleaned[(df_cleaned['clicked']==1)&(df_cleaned['booked']==1)]\n",
    "d1['is_converted'] = df_cleaned[(df_cleaned['clicked']==1)&(df_cleaned['booked']==1)]['booked']\n",
    "\n",
    "d2 = df_cleaned[(df_cleaned['clicked']==1)&(df_cleaned['booked']==0)]\n",
    "d2['is_converted'] = df_cleaned[(df_cleaned['clicked']==1)&(df_cleaned['booked']==0)]['booked']\n",
    "\n",
    "d3 = df_cleaned[df_cleaned['clicked']==0]\n",
    "d3['is_converted'] = np.nan\n",
    "\n",
    "df_cleaned = pd.concat([d1,d2,d3])\n",
    "df_cleaned.shape"
   ]
  },
  {
   "cell_type": "markdown",
   "metadata": {},
   "source": [
    "# Conversion ratio"
   ]
  },
  {
   "cell_type": "code",
   "execution_count": 154,
   "metadata": {},
   "outputs": [],
   "source": [
    "t = df_cleaned[df_cleaned['clicked']==1]['search_id'].unique()\n",
    "temp = df_cleaned[df_cleaned['is_converted']==0]['search_id'].unique()\n",
    "tmp = df_cleaned[df_cleaned['is_converted']==1]['search_id'].unique()"
   ]
  },
  {
   "cell_type": "code",
   "execution_count": 155,
   "metadata": {},
   "outputs": [],
   "source": [
    "lst_nc = []\n",
    "for i in temp:\n",
    "    if i in tmp:\n",
    "        continue\n",
    "    else:\n",
    "        lst_nc.append(i)"
   ]
  },
  {
   "cell_type": "code",
   "execution_count": 156,
   "metadata": {},
   "outputs": [
    {
     "name": "stdout",
     "output_type": "stream",
     "text": [
      "total_users_clicked 91352\n",
      "not_converted_users_including_some_converted_users 32322\n",
      "converted_users 62881\n"
     ]
    }
   ],
   "source": [
    "print('total_users_clicked',len(t))\n",
    "print('not_converted_users_including_some_converted_users',len(temp))\n",
    "print('converted_users',len(tmp))"
   ]
  },
  {
   "cell_type": "code",
   "execution_count": 8,
   "metadata": {},
   "outputs": [
    {
     "data": {
      "text/plain": [
       "0.02773988798345515"
      ]
     },
     "execution_count": 8,
     "metadata": {},
     "output_type": "execute_result"
    }
   ],
   "source": [
    "62881/df_cleaned.shape[0]"
   ]
  },
  {
   "cell_type": "markdown",
   "metadata": {},
   "source": [
    "# Click through rate"
   ]
  },
  {
   "cell_type": "code",
   "execution_count": 2,
   "metadata": {},
   "outputs": [],
   "source": [
    "df_cleaned = pd.read_csv('df_cleaned.csv')"
   ]
  },
  {
   "cell_type": "code",
   "execution_count": 3,
   "metadata": {},
   "outputs": [],
   "source": [
    "temp = df_cleaned[(df_cleaned['clicked']==0)]['search_id'].unique()\n",
    "tmp = df_cleaned[(df_cleaned['clicked']==1)]['search_id'].unique()"
   ]
  },
  {
   "cell_type": "code",
   "execution_count": 4,
   "metadata": {},
   "outputs": [],
   "source": [
    "lst_nc = []\n",
    "for i in temp:\n",
    "    if i in tmp:\n",
    "        continue\n",
    "    else:\n",
    "        lst_nc.append(i)"
   ]
  },
  {
   "cell_type": "code",
   "execution_count": 5,
   "metadata": {},
   "outputs": [
    {
     "name": "stdout",
     "output_type": "stream",
     "text": [
      "not_clicked_users_including_some_clicked_users 91734\n",
      "clicked_users 91352\n"
     ]
    }
   ],
   "source": [
    "print('not_clicked_users_including_some_clicked_users',len(temp))\n",
    "print('clicked_users',len(tmp))"
   ]
  },
  {
   "cell_type": "code",
   "execution_count": 7,
   "metadata": {},
   "outputs": [
    {
     "data": {
      "text/plain": [
       "4.029984012761558"
      ]
     },
     "execution_count": 7,
     "metadata": {},
     "output_type": "execute_result"
    }
   ],
   "source": [
    "len(tmp)/df_cleaned.shape[0]*100"
   ]
  },
  {
   "cell_type": "code",
   "execution_count": 167,
   "metadata": {},
   "outputs": [
    {
     "data": {
      "text/plain": [
       "2266808"
      ]
     },
     "execution_count": 167,
     "metadata": {},
     "output_type": "execute_result"
    }
   ],
   "source": [
    "df_cleaned[['competitor1_rate','competitor1_has_availability','competitor1_price_percent_diff', 'competitor2_rate','competitor2_has_availability', 'competitor2_price_percent_diff','competitor3_rate', 'competitor3_has_availability','competitor3_price_percent_diff', 'competitor4_rate', 'competitor4_has_availability', 'competitor4_price_percent_diff', 'competitor5_rate', 'competitor5_has_availability','competitor5_price_percent_diff', 'competitor6_rate','competitor6_has_availability', 'competitor6_price_percent_diff','competitor7_rate', 'competitor7_has_availability','competitor7_price_percent_diff', 'competitor8_rate', 'competitor8_has_availability', 'competitor8_price_percent_diff']].shape[0]"
   ]
  },
  {
   "cell_type": "code",
   "execution_count": 168,
   "metadata": {},
   "outputs": [
    {
     "data": {
      "text/plain": [
       "1520973"
      ]
     },
     "execution_count": 168,
     "metadata": {},
     "output_type": "execute_result"
    }
   ],
   "source": [
    "df_cleaned[['competitor1_rate','competitor1_has_availability','competitor1_price_percent_diff', 'competitor2_rate','competitor2_has_availability', 'competitor2_price_percent_diff','competitor3_rate', 'competitor3_has_availability','competitor3_price_percent_diff', 'competitor4_rate', 'competitor4_has_availability', 'competitor4_price_percent_diff', 'competitor5_rate', 'competitor5_has_availability','competitor5_price_percent_diff', 'competitor6_rate','competitor6_has_availability', 'competitor6_price_percent_diff','competitor7_rate', 'competitor7_has_availability','competitor7_price_percent_diff', 'competitor8_rate', 'competitor8_has_availability', 'competitor8_price_percent_diff']].dropna(how='all').shape[0]"
   ]
  },
  {
   "cell_type": "code",
   "execution_count": 170,
   "metadata": {},
   "outputs": [
    {
     "data": {
      "text/html": [
       "<div>\n",
       "<style scoped>\n",
       "    .dataframe tbody tr th:only-of-type {\n",
       "        vertical-align: middle;\n",
       "    }\n",
       "\n",
       "    .dataframe tbody tr th {\n",
       "        vertical-align: top;\n",
       "    }\n",
       "\n",
       "    .dataframe thead th {\n",
       "        text-align: right;\n",
       "    }\n",
       "</style>\n",
       "<table border=\"1\" class=\"dataframe\">\n",
       "  <thead>\n",
       "    <tr style=\"text-align: right;\">\n",
       "      <th></th>\n",
       "      <th>competitor1_rate</th>\n",
       "      <th>competitor1_has_availability</th>\n",
       "      <th>competitor1_price_percent_diff</th>\n",
       "      <th>competitor2_rate</th>\n",
       "      <th>competitor2_has_availability</th>\n",
       "      <th>competitor2_price_percent_diff</th>\n",
       "      <th>competitor3_rate</th>\n",
       "      <th>competitor3_has_availability</th>\n",
       "      <th>competitor3_price_percent_diff</th>\n",
       "      <th>competitor4_rate</th>\n",
       "      <th>...</th>\n",
       "      <th>competitor5_price_percent_diff</th>\n",
       "      <th>competitor6_rate</th>\n",
       "      <th>competitor6_has_availability</th>\n",
       "      <th>competitor6_price_percent_diff</th>\n",
       "      <th>competitor7_rate</th>\n",
       "      <th>competitor7_has_availability</th>\n",
       "      <th>competitor7_price_percent_diff</th>\n",
       "      <th>competitor8_rate</th>\n",
       "      <th>competitor8_has_availability</th>\n",
       "      <th>competitor8_price_percent_diff</th>\n",
       "    </tr>\n",
       "  </thead>\n",
       "  <tbody>\n",
       "    <tr>\n",
       "      <th>3474</th>\n",
       "      <td>NaN</td>\n",
       "      <td>NaN</td>\n",
       "      <td>NaN</td>\n",
       "      <td>NaN</td>\n",
       "      <td>NaN</td>\n",
       "      <td>NaN</td>\n",
       "      <td>NaN</td>\n",
       "      <td>NaN</td>\n",
       "      <td>NaN</td>\n",
       "      <td>NaN</td>\n",
       "      <td>...</td>\n",
       "      <td>NaN</td>\n",
       "      <td>NaN</td>\n",
       "      <td>NaN</td>\n",
       "      <td>NaN</td>\n",
       "      <td>0.0</td>\n",
       "      <td>0.0</td>\n",
       "      <td>NaN</td>\n",
       "      <td>NaN</td>\n",
       "      <td>NaN</td>\n",
       "      <td>NaN</td>\n",
       "    </tr>\n",
       "    <tr>\n",
       "      <th>11661</th>\n",
       "      <td>NaN</td>\n",
       "      <td>NaN</td>\n",
       "      <td>NaN</td>\n",
       "      <td>1.0</td>\n",
       "      <td>0.0</td>\n",
       "      <td>14.0</td>\n",
       "      <td>NaN</td>\n",
       "      <td>NaN</td>\n",
       "      <td>NaN</td>\n",
       "      <td>NaN</td>\n",
       "      <td>...</td>\n",
       "      <td>NaN</td>\n",
       "      <td>NaN</td>\n",
       "      <td>NaN</td>\n",
       "      <td>NaN</td>\n",
       "      <td>NaN</td>\n",
       "      <td>NaN</td>\n",
       "      <td>NaN</td>\n",
       "      <td>1.0</td>\n",
       "      <td>0.0</td>\n",
       "      <td>13.0</td>\n",
       "    </tr>\n",
       "    <tr>\n",
       "      <th>23793</th>\n",
       "      <td>NaN</td>\n",
       "      <td>NaN</td>\n",
       "      <td>NaN</td>\n",
       "      <td>1.0</td>\n",
       "      <td>0.0</td>\n",
       "      <td>11.0</td>\n",
       "      <td>NaN</td>\n",
       "      <td>NaN</td>\n",
       "      <td>NaN</td>\n",
       "      <td>NaN</td>\n",
       "      <td>...</td>\n",
       "      <td>NaN</td>\n",
       "      <td>NaN</td>\n",
       "      <td>NaN</td>\n",
       "      <td>NaN</td>\n",
       "      <td>NaN</td>\n",
       "      <td>NaN</td>\n",
       "      <td>NaN</td>\n",
       "      <td>NaN</td>\n",
       "      <td>NaN</td>\n",
       "      <td>NaN</td>\n",
       "    </tr>\n",
       "    <tr>\n",
       "      <th>29800</th>\n",
       "      <td>NaN</td>\n",
       "      <td>0.0</td>\n",
       "      <td>NaN</td>\n",
       "      <td>NaN</td>\n",
       "      <td>NaN</td>\n",
       "      <td>NaN</td>\n",
       "      <td>NaN</td>\n",
       "      <td>NaN</td>\n",
       "      <td>NaN</td>\n",
       "      <td>NaN</td>\n",
       "      <td>...</td>\n",
       "      <td>NaN</td>\n",
       "      <td>NaN</td>\n",
       "      <td>NaN</td>\n",
       "      <td>NaN</td>\n",
       "      <td>NaN</td>\n",
       "      <td>NaN</td>\n",
       "      <td>NaN</td>\n",
       "      <td>NaN</td>\n",
       "      <td>NaN</td>\n",
       "      <td>NaN</td>\n",
       "    </tr>\n",
       "    <tr>\n",
       "      <th>34307</th>\n",
       "      <td>NaN</td>\n",
       "      <td>NaN</td>\n",
       "      <td>NaN</td>\n",
       "      <td>NaN</td>\n",
       "      <td>NaN</td>\n",
       "      <td>NaN</td>\n",
       "      <td>0.0</td>\n",
       "      <td>0.0</td>\n",
       "      <td>NaN</td>\n",
       "      <td>NaN</td>\n",
       "      <td>...</td>\n",
       "      <td>NaN</td>\n",
       "      <td>NaN</td>\n",
       "      <td>NaN</td>\n",
       "      <td>NaN</td>\n",
       "      <td>NaN</td>\n",
       "      <td>NaN</td>\n",
       "      <td>NaN</td>\n",
       "      <td>NaN</td>\n",
       "      <td>NaN</td>\n",
       "      <td>NaN</td>\n",
       "    </tr>\n",
       "    <tr>\n",
       "      <th>...</th>\n",
       "      <td>...</td>\n",
       "      <td>...</td>\n",
       "      <td>...</td>\n",
       "      <td>...</td>\n",
       "      <td>...</td>\n",
       "      <td>...</td>\n",
       "      <td>...</td>\n",
       "      <td>...</td>\n",
       "      <td>...</td>\n",
       "      <td>...</td>\n",
       "      <td>...</td>\n",
       "      <td>...</td>\n",
       "      <td>...</td>\n",
       "      <td>...</td>\n",
       "      <td>...</td>\n",
       "      <td>...</td>\n",
       "      <td>...</td>\n",
       "      <td>...</td>\n",
       "      <td>...</td>\n",
       "      <td>...</td>\n",
       "      <td>...</td>\n",
       "    </tr>\n",
       "    <tr>\n",
       "      <th>2380450</th>\n",
       "      <td>NaN</td>\n",
       "      <td>NaN</td>\n",
       "      <td>NaN</td>\n",
       "      <td>0.0</td>\n",
       "      <td>0.0</td>\n",
       "      <td>NaN</td>\n",
       "      <td>NaN</td>\n",
       "      <td>1.0</td>\n",
       "      <td>NaN</td>\n",
       "      <td>0.0</td>\n",
       "      <td>...</td>\n",
       "      <td>2.0</td>\n",
       "      <td>NaN</td>\n",
       "      <td>NaN</td>\n",
       "      <td>NaN</td>\n",
       "      <td>NaN</td>\n",
       "      <td>NaN</td>\n",
       "      <td>NaN</td>\n",
       "      <td>NaN</td>\n",
       "      <td>NaN</td>\n",
       "      <td>NaN</td>\n",
       "    </tr>\n",
       "    <tr>\n",
       "      <th>2380451</th>\n",
       "      <td>NaN</td>\n",
       "      <td>NaN</td>\n",
       "      <td>NaN</td>\n",
       "      <td>0.0</td>\n",
       "      <td>0.0</td>\n",
       "      <td>NaN</td>\n",
       "      <td>NaN</td>\n",
       "      <td>1.0</td>\n",
       "      <td>NaN</td>\n",
       "      <td>0.0</td>\n",
       "      <td>...</td>\n",
       "      <td>NaN</td>\n",
       "      <td>NaN</td>\n",
       "      <td>NaN</td>\n",
       "      <td>NaN</td>\n",
       "      <td>NaN</td>\n",
       "      <td>NaN</td>\n",
       "      <td>NaN</td>\n",
       "      <td>NaN</td>\n",
       "      <td>NaN</td>\n",
       "      <td>NaN</td>\n",
       "    </tr>\n",
       "    <tr>\n",
       "      <th>2380455</th>\n",
       "      <td>NaN</td>\n",
       "      <td>NaN</td>\n",
       "      <td>NaN</td>\n",
       "      <td>NaN</td>\n",
       "      <td>NaN</td>\n",
       "      <td>NaN</td>\n",
       "      <td>NaN</td>\n",
       "      <td>NaN</td>\n",
       "      <td>NaN</td>\n",
       "      <td>0.0</td>\n",
       "      <td>...</td>\n",
       "      <td>NaN</td>\n",
       "      <td>NaN</td>\n",
       "      <td>NaN</td>\n",
       "      <td>NaN</td>\n",
       "      <td>NaN</td>\n",
       "      <td>NaN</td>\n",
       "      <td>NaN</td>\n",
       "      <td>NaN</td>\n",
       "      <td>NaN</td>\n",
       "      <td>NaN</td>\n",
       "    </tr>\n",
       "    <tr>\n",
       "      <th>2380457</th>\n",
       "      <td>NaN</td>\n",
       "      <td>NaN</td>\n",
       "      <td>NaN</td>\n",
       "      <td>1.0</td>\n",
       "      <td>0.0</td>\n",
       "      <td>4.0</td>\n",
       "      <td>NaN</td>\n",
       "      <td>1.0</td>\n",
       "      <td>NaN</td>\n",
       "      <td>0.0</td>\n",
       "      <td>...</td>\n",
       "      <td>NaN</td>\n",
       "      <td>NaN</td>\n",
       "      <td>NaN</td>\n",
       "      <td>NaN</td>\n",
       "      <td>NaN</td>\n",
       "      <td>NaN</td>\n",
       "      <td>NaN</td>\n",
       "      <td>NaN</td>\n",
       "      <td>NaN</td>\n",
       "      <td>NaN</td>\n",
       "    </tr>\n",
       "    <tr>\n",
       "      <th>2380459</th>\n",
       "      <td>NaN</td>\n",
       "      <td>NaN</td>\n",
       "      <td>NaN</td>\n",
       "      <td>0.0</td>\n",
       "      <td>0.0</td>\n",
       "      <td>NaN</td>\n",
       "      <td>NaN</td>\n",
       "      <td>NaN</td>\n",
       "      <td>NaN</td>\n",
       "      <td>0.0</td>\n",
       "      <td>...</td>\n",
       "      <td>NaN</td>\n",
       "      <td>NaN</td>\n",
       "      <td>NaN</td>\n",
       "      <td>NaN</td>\n",
       "      <td>NaN</td>\n",
       "      <td>NaN</td>\n",
       "      <td>NaN</td>\n",
       "      <td>NaN</td>\n",
       "      <td>NaN</td>\n",
       "      <td>NaN</td>\n",
       "    </tr>\n",
       "  </tbody>\n",
       "</table>\n",
       "<p>1520973 rows × 24 columns</p>\n",
       "</div>"
      ],
      "text/plain": [
       "         competitor1_rate  competitor1_has_availability  \\\n",
       "3474                  NaN                           NaN   \n",
       "11661                 NaN                           NaN   \n",
       "23793                 NaN                           NaN   \n",
       "29800                 NaN                           0.0   \n",
       "34307                 NaN                           NaN   \n",
       "...                   ...                           ...   \n",
       "2380450               NaN                           NaN   \n",
       "2380451               NaN                           NaN   \n",
       "2380455               NaN                           NaN   \n",
       "2380457               NaN                           NaN   \n",
       "2380459               NaN                           NaN   \n",
       "\n",
       "         competitor1_price_percent_diff  competitor2_rate  \\\n",
       "3474                                NaN               NaN   \n",
       "11661                               NaN               1.0   \n",
       "23793                               NaN               1.0   \n",
       "29800                               NaN               NaN   \n",
       "34307                               NaN               NaN   \n",
       "...                                 ...               ...   \n",
       "2380450                             NaN               0.0   \n",
       "2380451                             NaN               0.0   \n",
       "2380455                             NaN               NaN   \n",
       "2380457                             NaN               1.0   \n",
       "2380459                             NaN               0.0   \n",
       "\n",
       "         competitor2_has_availability  competitor2_price_percent_diff  \\\n",
       "3474                              NaN                             NaN   \n",
       "11661                             0.0                            14.0   \n",
       "23793                             0.0                            11.0   \n",
       "29800                             NaN                             NaN   \n",
       "34307                             NaN                             NaN   \n",
       "...                               ...                             ...   \n",
       "2380450                           0.0                             NaN   \n",
       "2380451                           0.0                             NaN   \n",
       "2380455                           NaN                             NaN   \n",
       "2380457                           0.0                             4.0   \n",
       "2380459                           0.0                             NaN   \n",
       "\n",
       "         competitor3_rate  competitor3_has_availability  \\\n",
       "3474                  NaN                           NaN   \n",
       "11661                 NaN                           NaN   \n",
       "23793                 NaN                           NaN   \n",
       "29800                 NaN                           NaN   \n",
       "34307                 0.0                           0.0   \n",
       "...                   ...                           ...   \n",
       "2380450               NaN                           1.0   \n",
       "2380451               NaN                           1.0   \n",
       "2380455               NaN                           NaN   \n",
       "2380457               NaN                           1.0   \n",
       "2380459               NaN                           NaN   \n",
       "\n",
       "         competitor3_price_percent_diff  competitor4_rate  ...  \\\n",
       "3474                                NaN               NaN  ...   \n",
       "11661                               NaN               NaN  ...   \n",
       "23793                               NaN               NaN  ...   \n",
       "29800                               NaN               NaN  ...   \n",
       "34307                               NaN               NaN  ...   \n",
       "...                                 ...               ...  ...   \n",
       "2380450                             NaN               0.0  ...   \n",
       "2380451                             NaN               0.0  ...   \n",
       "2380455                             NaN               0.0  ...   \n",
       "2380457                             NaN               0.0  ...   \n",
       "2380459                             NaN               0.0  ...   \n",
       "\n",
       "         competitor5_price_percent_diff  competitor6_rate  \\\n",
       "3474                                NaN               NaN   \n",
       "11661                               NaN               NaN   \n",
       "23793                               NaN               NaN   \n",
       "29800                               NaN               NaN   \n",
       "34307                               NaN               NaN   \n",
       "...                                 ...               ...   \n",
       "2380450                             2.0               NaN   \n",
       "2380451                             NaN               NaN   \n",
       "2380455                             NaN               NaN   \n",
       "2380457                             NaN               NaN   \n",
       "2380459                             NaN               NaN   \n",
       "\n",
       "         competitor6_has_availability  competitor6_price_percent_diff  \\\n",
       "3474                              NaN                             NaN   \n",
       "11661                             NaN                             NaN   \n",
       "23793                             NaN                             NaN   \n",
       "29800                             NaN                             NaN   \n",
       "34307                             NaN                             NaN   \n",
       "...                               ...                             ...   \n",
       "2380450                           NaN                             NaN   \n",
       "2380451                           NaN                             NaN   \n",
       "2380455                           NaN                             NaN   \n",
       "2380457                           NaN                             NaN   \n",
       "2380459                           NaN                             NaN   \n",
       "\n",
       "         competitor7_rate  competitor7_has_availability  \\\n",
       "3474                  0.0                           0.0   \n",
       "11661                 NaN                           NaN   \n",
       "23793                 NaN                           NaN   \n",
       "29800                 NaN                           NaN   \n",
       "34307                 NaN                           NaN   \n",
       "...                   ...                           ...   \n",
       "2380450               NaN                           NaN   \n",
       "2380451               NaN                           NaN   \n",
       "2380455               NaN                           NaN   \n",
       "2380457               NaN                           NaN   \n",
       "2380459               NaN                           NaN   \n",
       "\n",
       "         competitor7_price_percent_diff  competitor8_rate  \\\n",
       "3474                                NaN               NaN   \n",
       "11661                               NaN               1.0   \n",
       "23793                               NaN               NaN   \n",
       "29800                               NaN               NaN   \n",
       "34307                               NaN               NaN   \n",
       "...                                 ...               ...   \n",
       "2380450                             NaN               NaN   \n",
       "2380451                             NaN               NaN   \n",
       "2380455                             NaN               NaN   \n",
       "2380457                             NaN               NaN   \n",
       "2380459                             NaN               NaN   \n",
       "\n",
       "         competitor8_has_availability  competitor8_price_percent_diff  \n",
       "3474                              NaN                             NaN  \n",
       "11661                             0.0                            13.0  \n",
       "23793                             NaN                             NaN  \n",
       "29800                             NaN                             NaN  \n",
       "34307                             NaN                             NaN  \n",
       "...                               ...                             ...  \n",
       "2380450                           NaN                             NaN  \n",
       "2380451                           NaN                             NaN  \n",
       "2380455                           NaN                             NaN  \n",
       "2380457                           NaN                             NaN  \n",
       "2380459                           NaN                             NaN  \n",
       "\n",
       "[1520973 rows x 24 columns]"
      ]
     },
     "execution_count": 170,
     "metadata": {},
     "output_type": "execute_result"
    }
   ],
   "source": [
    "df_cleaned[['competitor1_rate','competitor1_has_availability','competitor1_price_percent_diff', 'competitor2_rate','competitor2_has_availability', 'competitor2_price_percent_diff','competitor3_rate', 'competitor3_has_availability','competitor3_price_percent_diff', 'competitor4_rate', 'competitor4_has_availability', 'competitor4_price_percent_diff', 'competitor5_rate', 'competitor5_has_availability','competitor5_price_percent_diff', 'competitor6_rate','competitor6_has_availability', 'competitor6_price_percent_diff','competitor7_rate', 'competitor7_has_availability','competitor7_price_percent_diff', 'competitor8_rate', 'competitor8_has_availability', 'competitor8_price_percent_diff']].dropna(how='all')"
   ]
  },
  {
   "cell_type": "markdown",
   "metadata": {},
   "source": [
    "# For competitor 1 when there is availability and agency's price is same"
   ]
  },
  {
   "cell_type": "code",
   "execution_count": 234,
   "metadata": {},
   "outputs": [
    {
     "name": "stdout",
     "output_type": "stream",
     "text": [
      "not_convereted_users_including_some_converted_users 2624\n",
      "converted_users 474\n",
      "number of not converted people 2163\n",
      "conversion rate 17.974971558589306\n"
     ]
    }
   ],
   "source": [
    "temp = df_cleaned[(df_cleaned['competitor1_has_availability']==0.0)&(df_cleaned['booked']==0)&(df_cleaned['competitor1_rate']==0.0)]['search_id'].unique()\n",
    "tmp = df_cleaned[(df_cleaned['competitor1_has_availability']==0.0)&(df_cleaned['booked']==1)&(df_cleaned['competitor1_rate']==0.0)]['search_id'].unique()\n",
    "\n",
    "lst_nc = []\n",
    "for i in temp:\n",
    "    if i in tmp:\n",
    "        continue\n",
    "    else:\n",
    "        lst_nc.append(i)\n",
    "        \n",
    "print('not_convereted_users_including_some_converted_users',len(temp))\n",
    "print('converted_users',len(tmp))\n",
    "nc = len(lst_nc)\n",
    "c = len(tmp)\n",
    "print('number of not converted people',len(lst_nc))\n",
    "print('conversion rate {}'.format(len(tmp)/(len(tmp)+len(lst_nc))*100))"
   ]
  },
  {
   "cell_type": "markdown",
   "metadata": {},
   "source": [
    "## Agency started selling cheaper rooms than compt 1, the conversion rate increased suggesting that the agency started giving promotion on those hotels which usually did't fluctuate much in the competitor 1 website."
   ]
  },
  {
   "cell_type": "code",
   "execution_count": 235,
   "metadata": {},
   "outputs": [
    {
     "name": "stdout",
     "output_type": "stream",
     "text": [
      "not_convereted_users_including_some_converted_users 2949\n",
      "converted_users 876\n",
      "number of not converted people 2087\n",
      "conversion rate 29.564630442119473\n"
     ]
    }
   ],
   "source": [
    "temp = df_cleaned[(df_cleaned['competitor1_has_availability']==0.0)&(df_cleaned['booked']==0)&(df_cleaned['competitor1_rate']==1.0)]['search_id'].unique()\n",
    "tmp = df_cleaned[(df_cleaned['competitor1_has_availability']==0.0)&(df_cleaned['booked']==1)&(df_cleaned['competitor1_rate']==1.0)]['search_id'].unique()\n",
    "\n",
    "lst_nc = []\n",
    "for i in temp:\n",
    "    if i in tmp:\n",
    "        continue\n",
    "    else:\n",
    "        lst_nc.append(i)\n",
    "        \n",
    "print('not_convereted_users_including_some_converted_users',len(temp))\n",
    "print('converted_users',len(tmp))\n",
    "nc = len(lst_nc)\n",
    "c = len(tmp)\n",
    "print('number of not converted people',len(lst_nc))\n",
    "print('conversion rate {}'.format(len(tmp)/(len(tmp)+len(lst_nc))*100))"
   ]
  },
  {
   "cell_type": "markdown",
   "metadata": {},
   "source": [
    "# For competitor 2 when there is availability and agency's price is same"
   ]
  },
  {
   "cell_type": "code",
   "execution_count": 221,
   "metadata": {},
   "outputs": [
    {
     "name": "stdout",
     "output_type": "stream",
     "text": [
      "not_convereted_users_including_some_converted_users 52380\n",
      "converted_users 20249\n",
      "number of not converted people 32291\n",
      "conversion rate 38.54015987818805\n"
     ]
    }
   ],
   "source": [
    "temp = df_cleaned[(df_cleaned['competitor2_has_availability']==0.0)&(df_cleaned['booked']==0)&(df_cleaned['competitor2_rate']==0.0)]['search_id'].unique()\n",
    "tmp = df_cleaned[(df_cleaned['competitor2_has_availability']==0.0)&(df_cleaned['booked']==1)&(df_cleaned['competitor2_rate']==0.0)]['search_id'].unique()\n",
    "\n",
    "lst_nc = []\n",
    "for i in temp:\n",
    "    if i in tmp:\n",
    "        continue\n",
    "    else:\n",
    "        lst_nc.append(i)\n",
    "        \n",
    "print('not_convereted_users_including_some_converted_users',len(temp))\n",
    "print('converted_users',len(tmp))\n",
    "nc = len(lst_nc)\n",
    "c = len(tmp)\n",
    "print('number of not converted people',len(lst_nc))\n",
    "print('conversion rate {}'.format(len(tmp)/(len(tmp)+len(lst_nc))*100))"
   ]
  },
  {
   "cell_type": "markdown",
   "metadata": {},
   "source": [
    "# For competitor 3 when there is availability and agency's price is same"
   ]
  },
  {
   "cell_type": "code",
   "execution_count": 224,
   "metadata": {},
   "outputs": [
    {
     "name": "stdout",
     "output_type": "stream",
     "text": [
      "not_convereted_users_including_some_converted_users 39633\n",
      "converted_users 15159\n",
      "number of not converted people 24655\n",
      "conversion rate 38.074546641884766\n"
     ]
    }
   ],
   "source": [
    "temp = df_cleaned[(df_cleaned['competitor3_has_availability']==0.0)&(df_cleaned['booked']==0)&(df_cleaned['competitor3_rate']==0.0)]['search_id'].unique()\n",
    "tmp = df_cleaned[(df_cleaned['competitor3_has_availability']==0.0)&(df_cleaned['booked']==1)&(df_cleaned['competitor3_rate']==0.0)]['search_id'].unique()\n",
    "\n",
    "lst_nc = []\n",
    "for i in temp:\n",
    "    if i in tmp:\n",
    "        continue\n",
    "    else:\n",
    "        lst_nc.append(i)\n",
    "        \n",
    "print('not_convereted_users_including_some_converted_users',len(temp))\n",
    "print('converted_users',len(tmp))\n",
    "nc = len(lst_nc)\n",
    "c = len(tmp)\n",
    "print('number of not converted people',len(lst_nc))\n",
    "print('conversion rate {}'.format(len(tmp)/(len(tmp)+len(lst_nc))*100))"
   ]
  },
  {
   "cell_type": "markdown",
   "metadata": {},
   "source": [
    "# For competitor 4 when there is availability and agency's price is same"
   ]
  },
  {
   "cell_type": "code",
   "execution_count": 227,
   "metadata": {},
   "outputs": [
    {
     "name": "stdout",
     "output_type": "stream",
     "text": [
      "not_convereted_users_including_some_converted_users 9465\n",
      "converted_users 2640\n",
      "number of not converted people 6875\n",
      "conversion rate 27.74566473988439\n"
     ]
    }
   ],
   "source": [
    "temp = df_cleaned[(df_cleaned['competitor4_has_availability']==0.0)&(df_cleaned['booked']==0)&(df_cleaned['competitor4_rate']==0.0)]['search_id'].unique()\n",
    "tmp = df_cleaned[(df_cleaned['competitor4_has_availability']==0.0)&(df_cleaned['booked']==1)&(df_cleaned['competitor4_rate']==0.0)]['search_id'].unique()\n",
    "\n",
    "lst_nc = []\n",
    "for i in temp:\n",
    "    if i in tmp:\n",
    "        continue\n",
    "    else:\n",
    "        lst_nc.append(i)\n",
    "        \n",
    "print('not_convereted_users_including_some_converted_users',len(temp))\n",
    "print('converted_users',len(tmp))\n",
    "nc = len(lst_nc)\n",
    "c = len(tmp)\n",
    "print('number of not converted people',len(lst_nc))\n",
    "print('conversion rate {}'.format(len(tmp)/(len(tmp)+len(lst_nc))*100))"
   ]
  },
  {
   "cell_type": "markdown",
   "metadata": {},
   "source": [
    "# For competitor 5 when there is availability and agency's price is same"
   ]
  },
  {
   "cell_type": "code",
   "execution_count": 210,
   "metadata": {},
   "outputs": [
    {
     "name": "stdout",
     "output_type": "stream",
     "text": [
      "not_convereted_users_including_some_converted_users 57943\n",
      "converted_users 20284\n",
      "number of not converted people 37888\n",
      "conversion rate 34.86900914529327\n"
     ]
    }
   ],
   "source": [
    "temp = df_cleaned[(df_cleaned['competitor5_has_availability']==0.0)&(df_cleaned['booked']==0)&(df_cleaned['competitor5_rate']==0.0)]['search_id'].unique()\n",
    "tmp = df_cleaned[(df_cleaned['competitor5_has_availability']==0.0)&(df_cleaned['booked']==1)&(df_cleaned['competitor5_rate']==0.0)]['search_id'].unique()\n",
    "\n",
    "lst_nc = []\n",
    "for i in temp:\n",
    "    if i in tmp:\n",
    "        continue\n",
    "    else:\n",
    "        lst_nc.append(i)\n",
    "        \n",
    "print('not_convereted_users_including_some_converted_users',len(temp))\n",
    "print('converted_users',len(tmp))\n",
    "nc = len(lst_nc)\n",
    "c = len(tmp)\n",
    "print('number of not converted people',len(lst_nc))\n",
    "print('conversion rate {}'.format(len(tmp)/(len(tmp)+len(lst_nc))*100))"
   ]
  },
  {
   "cell_type": "markdown",
   "metadata": {},
   "source": [
    "# For competitor 6 when there is availability and agency's price is same"
   ]
  },
  {
   "cell_type": "code",
   "execution_count": 233,
   "metadata": {},
   "outputs": [
    {
     "name": "stdout",
     "output_type": "stream",
     "text": [
      "not_convereted_users_including_some_converted_users 8768\n",
      "converted_users 2304\n",
      "number of not converted people 6508\n",
      "conversion rate 26.14616432137994\n"
     ]
    }
   ],
   "source": [
    "temp = df_cleaned[(df_cleaned['competitor6_has_availability']==0.0)&(df_cleaned['booked']==0)&(df_cleaned['competitor6_rate']==0.0)]['search_id'].unique()\n",
    "tmp = df_cleaned[(df_cleaned['competitor6_has_availability']==0.0)&(df_cleaned['booked']==1)&(df_cleaned['competitor6_rate']==0.0)]['search_id'].unique()\n",
    "\n",
    "lst_nc = []\n",
    "for i in temp:\n",
    "    if i in tmp:\n",
    "        continue\n",
    "    else:\n",
    "        lst_nc.append(i)\n",
    "        \n",
    "print('not_convereted_users_including_some_converted_users',len(temp))\n",
    "print('converted_users',len(tmp))\n",
    "nc = len(lst_nc)\n",
    "c = len(tmp)\n",
    "print('number of not converted people',len(lst_nc))\n",
    "print('conversion rate {}'.format(len(tmp)/(len(tmp)+len(lst_nc))*100))"
   ]
  },
  {
   "cell_type": "markdown",
   "metadata": {},
   "source": [
    "# For competitor 7 when there is availability and agency's price is same"
   ]
  },
  {
   "cell_type": "code",
   "execution_count": 206,
   "metadata": {},
   "outputs": [
    {
     "name": "stdout",
     "output_type": "stream",
     "text": [
      "not_convereted_users_including_some_converted_users 10634\n",
      "converted_users 2948\n",
      "number of not converted people 7749\n",
      "conversion rate 27.55912872768066\n"
     ]
    }
   ],
   "source": [
    "temp = df_cleaned[(df_cleaned['competitor7_has_availability']==0.0)&(df_cleaned['booked']==0)&(df_cleaned['competitor7_rate']==0.0)]['search_id'].unique()\n",
    "tmp = df_cleaned[(df_cleaned['competitor7_has_availability']==0.0)&(df_cleaned['booked']==1)&(df_cleaned['competitor7_rate']==0.0)]['search_id'].unique()\n",
    "\n",
    "lst_nc = []\n",
    "for i in temp:\n",
    "    if i in tmp:\n",
    "        continue\n",
    "    else:\n",
    "        lst_nc.append(i)\n",
    "        \n",
    "print('not_convereted_users_including_some_converted_users',len(temp))\n",
    "print('converted_users',len(tmp))\n",
    "nc = len(lst_nc)\n",
    "c = len(tmp)\n",
    "print('number of not converted people',len(lst_nc))\n",
    "print('conversion rate {}'.format(len(tmp)/(len(tmp)+len(lst_nc))*100))"
   ]
  },
  {
   "cell_type": "markdown",
   "metadata": {},
   "source": [
    "# For competitor 8 when there is availability and agency's price is same"
   ]
  },
  {
   "cell_type": "code",
   "execution_count": 191,
   "metadata": {},
   "outputs": [
    {
     "name": "stdout",
     "output_type": "stream",
     "text": [
      "not_convereted_users_including_some_converted_users 42567\n",
      "converted_users 18886\n",
      "number of not converted people 23818\n",
      "conversion rate 44.22536530535781\n"
     ]
    }
   ],
   "source": [
    "temp = df_cleaned[(df_cleaned['competitor8_has_availability']==0.0)&(df_cleaned['booked']==0)&(df_cleaned['competitor8_rate']==0.0)]['search_id'].unique()\n",
    "tmp = df_cleaned[(df_cleaned['competitor8_has_availability']==0.0)&(df_cleaned['booked']==1)&(df_cleaned['competitor8_rate']==0.0)]['search_id'].unique()\n",
    "\n",
    "lst_nc = []\n",
    "for i in temp:\n",
    "    if i in tmp:\n",
    "        continue\n",
    "    else:\n",
    "        lst_nc.append(i)\n",
    "        \n",
    "print('not_convereted_users_including_some_converted_users',len(temp))\n",
    "print('converted_users',len(tmp))\n",
    "nc = len(lst_nc)\n",
    "c = len(tmp)\n",
    "print('number of not converted people',len(lst_nc))\n",
    "print('conversion rate {}'.format(len(tmp)/(len(tmp)+len(lst_nc))*100))"
   ]
  },
  {
   "cell_type": "code",
   "execution_count": 162,
   "metadata": {},
   "outputs": [
    {
     "data": {
      "text/html": [
       "<div>\n",
       "<style scoped>\n",
       "    .dataframe tbody tr th:only-of-type {\n",
       "        vertical-align: middle;\n",
       "    }\n",
       "\n",
       "    .dataframe tbody tr th {\n",
       "        vertical-align: top;\n",
       "    }\n",
       "\n",
       "    .dataframe thead th {\n",
       "        text-align: right;\n",
       "    }\n",
       "</style>\n",
       "<table border=\"1\" class=\"dataframe\">\n",
       "  <thead>\n",
       "    <tr style=\"text-align: right;\">\n",
       "      <th></th>\n",
       "      <th>price_usd_corr</th>\n",
       "      <th>num_rooms</th>\n",
       "      <th>length_of_stay</th>\n",
       "      <th>listing_review_score</th>\n",
       "      <th>listing_stars</th>\n",
       "      <th>clicked</th>\n",
       "      <th>is_converted</th>\n",
       "    </tr>\n",
       "  </thead>\n",
       "  <tbody>\n",
       "    <tr>\n",
       "      <th>480</th>\n",
       "      <td>119.00</td>\n",
       "      <td>1</td>\n",
       "      <td>1</td>\n",
       "      <td>4.5</td>\n",
       "      <td>0</td>\n",
       "      <td>1</td>\n",
       "      <td>1.0</td>\n",
       "    </tr>\n",
       "    <tr>\n",
       "      <th>3474</th>\n",
       "      <td>71.70</td>\n",
       "      <td>1</td>\n",
       "      <td>1</td>\n",
       "      <td>4.0</td>\n",
       "      <td>0</td>\n",
       "      <td>1</td>\n",
       "      <td>1.0</td>\n",
       "    </tr>\n",
       "    <tr>\n",
       "      <th>6373</th>\n",
       "      <td>79.00</td>\n",
       "      <td>1</td>\n",
       "      <td>1</td>\n",
       "      <td>3.5</td>\n",
       "      <td>0</td>\n",
       "      <td>1</td>\n",
       "      <td>1.0</td>\n",
       "    </tr>\n",
       "    <tr>\n",
       "      <th>7787</th>\n",
       "      <td>84.80</td>\n",
       "      <td>1</td>\n",
       "      <td>1</td>\n",
       "      <td>4.0</td>\n",
       "      <td>0</td>\n",
       "      <td>1</td>\n",
       "      <td>1.0</td>\n",
       "    </tr>\n",
       "    <tr>\n",
       "      <th>11661</th>\n",
       "      <td>85.00</td>\n",
       "      <td>1</td>\n",
       "      <td>1</td>\n",
       "      <td>4.0</td>\n",
       "      <td>0</td>\n",
       "      <td>1</td>\n",
       "      <td>1.0</td>\n",
       "    </tr>\n",
       "    <tr>\n",
       "      <th>...</th>\n",
       "      <td>...</td>\n",
       "      <td>...</td>\n",
       "      <td>...</td>\n",
       "      <td>...</td>\n",
       "      <td>...</td>\n",
       "      <td>...</td>\n",
       "      <td>...</td>\n",
       "    </tr>\n",
       "    <tr>\n",
       "      <th>2380499</th>\n",
       "      <td>335.66</td>\n",
       "      <td>1</td>\n",
       "      <td>3</td>\n",
       "      <td>4.5</td>\n",
       "      <td>5</td>\n",
       "      <td>0</td>\n",
       "      <td>NaN</td>\n",
       "    </tr>\n",
       "    <tr>\n",
       "      <th>2380505</th>\n",
       "      <td>682.61</td>\n",
       "      <td>1</td>\n",
       "      <td>3</td>\n",
       "      <td>4.5</td>\n",
       "      <td>5</td>\n",
       "      <td>0</td>\n",
       "      <td>NaN</td>\n",
       "    </tr>\n",
       "    <tr>\n",
       "      <th>2380524</th>\n",
       "      <td>205.60</td>\n",
       "      <td>1</td>\n",
       "      <td>13</td>\n",
       "      <td>4.5</td>\n",
       "      <td>5</td>\n",
       "      <td>0</td>\n",
       "      <td>NaN</td>\n",
       "    </tr>\n",
       "    <tr>\n",
       "      <th>2380530</th>\n",
       "      <td>231.62</td>\n",
       "      <td>1</td>\n",
       "      <td>13</td>\n",
       "      <td>4.5</td>\n",
       "      <td>5</td>\n",
       "      <td>0</td>\n",
       "      <td>NaN</td>\n",
       "    </tr>\n",
       "    <tr>\n",
       "      <th>2380531</th>\n",
       "      <td>130.12</td>\n",
       "      <td>1</td>\n",
       "      <td>13</td>\n",
       "      <td>4.5</td>\n",
       "      <td>5</td>\n",
       "      <td>0</td>\n",
       "      <td>NaN</td>\n",
       "    </tr>\n",
       "  </tbody>\n",
       "</table>\n",
       "<p>2266808 rows × 7 columns</p>\n",
       "</div>"
      ],
      "text/plain": [
       "         price_usd_corr  num_rooms  length_of_stay  listing_review_score  \\\n",
       "480              119.00          1               1                   4.5   \n",
       "3474              71.70          1               1                   4.0   \n",
       "6373              79.00          1               1                   3.5   \n",
       "7787              84.80          1               1                   4.0   \n",
       "11661             85.00          1               1                   4.0   \n",
       "...                 ...        ...             ...                   ...   \n",
       "2380499          335.66          1               3                   4.5   \n",
       "2380505          682.61          1               3                   4.5   \n",
       "2380524          205.60          1              13                   4.5   \n",
       "2380530          231.62          1              13                   4.5   \n",
       "2380531          130.12          1              13                   4.5   \n",
       "\n",
       "         listing_stars  clicked  is_converted  \n",
       "480                  0        1           1.0  \n",
       "3474                 0        1           1.0  \n",
       "6373                 0        1           1.0  \n",
       "7787                 0        1           1.0  \n",
       "11661                0        1           1.0  \n",
       "...                ...      ...           ...  \n",
       "2380499              5        0           NaN  \n",
       "2380505              5        0           NaN  \n",
       "2380524              5        0           NaN  \n",
       "2380530              5        0           NaN  \n",
       "2380531              5        0           NaN  \n",
       "\n",
       "[2266808 rows x 7 columns]"
      ]
     },
     "execution_count": 162,
     "metadata": {},
     "output_type": "execute_result"
    }
   ],
   "source": [
    "df_cleaned[['price_usd_corr','num_rooms','length_of_stay','listing_review_score','listing_stars','clicked','is_converted']]"
   ]
  },
  {
   "cell_type": "code",
   "execution_count": 163,
   "metadata": {},
   "outputs": [],
   "source": [
    "temp = df_cleaned[~df_cleaned['is_converted'].isnull()]"
   ]
  },
  {
   "cell_type": "raw",
   "metadata": {},
   "source": [
    "from cn.protect import Protect\n",
    "from cn.protect.privacy import KAnonymity\n",
    "from cn.protect.hierarchy import DataHierarchy, OrderHierarchy, IntervalHierarchy\n",
    "from cn.protect.quality import Loss\n",
    "from sklearn.linear_model import LogisticRegression, SGDClassifier\n",
    "from sklearn.model_selection import accuracy_score"
   ]
  },
  {
   "cell_type": "code",
   "execution_count": 164,
   "metadata": {},
   "outputs": [],
   "source": [
    "from sklearn.linear_model import LogisticRegression, SGDClassifier\n",
    "from sklearn.metrics import accuracy_score"
   ]
  },
  {
   "cell_type": "code",
   "execution_count": 238,
   "metadata": {},
   "outputs": [
    {
     "data": {
      "text/plain": [
       "search_id                          0.000000\n",
       "timestamp                          0.000000\n",
       "site_id                            0.000000\n",
       "user_country_id                    0.000000\n",
       "user_hist_stars                   94.981886\n",
       "user_hist_paid                    94.954138\n",
       "listing_country_id                 0.000000\n",
       "listing_id                         0.000000\n",
       "listing_stars                      0.000000\n",
       "listing_review_score               0.146461\n",
       "is_brand                           0.000000\n",
       "location_score1                    0.000000\n",
       "location_score2                   22.172456\n",
       "log_historical_price               0.000000\n",
       "listing_position                   0.000000\n",
       "price_usd                          0.000000\n",
       "has_promotion                      0.000000\n",
       "destination_id                     0.000000\n",
       "length_of_stay                     0.000000\n",
       "booking_window                     0.000000\n",
       "num_adults                         0.000000\n",
       "num_kids                           0.000000\n",
       "num_rooms                          0.000000\n",
       "stay_on_saturday                   0.000000\n",
       "log_click_proportion              93.513081\n",
       "distance_to_dest                  32.244284\n",
       "random_sort                        0.000000\n",
       "competitor1_rate                  97.555770\n",
       "competitor1_has_availability      97.365900\n",
       "competitor1_price_percent_diff    98.076988\n",
       "competitor2_rate                  59.472351\n",
       "competitor2_has_availability      57.393392\n",
       "competitor2_price_percent_diff    88.931220\n",
       "competitor3_rate                  69.429083\n",
       "competitor3_has_availability      67.071009\n",
       "competitor3_price_percent_diff    90.616012\n",
       "competitor4_rate                  93.814606\n",
       "competitor4_has_availability      93.120988\n",
       "competitor4_price_percent_diff    97.375517\n",
       "competitor5_rate                  55.483614\n",
       "competitor5_has_availability      52.757313\n",
       "competitor5_price_percent_diff    83.255088\n",
       "competitor6_rate                  95.045941\n",
       "competitor6_has_availability      94.630114\n",
       "competitor6_price_percent_diff    98.010595\n",
       "competitor7_rate                  93.600517\n",
       "competitor7_has_availability      92.774156\n",
       "competitor7_price_percent_diff    97.195219\n",
       "competitor8_rate                  61.817675\n",
       "competitor8_has_availability      60.425718\n",
       "competitor8_price_percent_diff    87.812775\n",
       "clicked                            0.000000\n",
       "booking_value                     97.226011\n",
       "booked                             0.000000\n",
       "num_total                          0.000000\n",
       "price_usd_corr                     0.000000\n",
       "is_converted                      95.534249\n",
       "dtype: float64"
      ]
     },
     "execution_count": 238,
     "metadata": {},
     "output_type": "execute_result"
    }
   ],
   "source": [
    "(df_cleaned.isnull().sum()/df_cleaned.shape[0])*100"
   ]
  },
  {
   "cell_type": "code",
   "execution_count": 355,
   "metadata": {},
   "outputs": [
    {
     "data": {
      "text/plain": [
       "search_id                          0.000000\n",
       "timestamp                          0.000000\n",
       "site_id                            0.000000\n",
       "user_country_id                    0.000000\n",
       "user_hist_stars                   94.842384\n",
       "user_hist_paid                    94.812391\n",
       "listing_country_id                 0.000000\n",
       "listing_id                         0.000000\n",
       "listing_stars                      0.000000\n",
       "listing_review_score               0.146436\n",
       "is_brand                           0.000000\n",
       "location_score1                    0.000000\n",
       "location_score2                   22.095333\n",
       "log_historical_price               0.000000\n",
       "listing_position                   0.000000\n",
       "price_usd                          0.000000\n",
       "has_promotion                      0.000000\n",
       "destination_id                     0.000000\n",
       "length_of_stay                     0.000000\n",
       "booking_window                     0.000000\n",
       "num_adults                         0.000000\n",
       "num_kids                           0.000000\n",
       "num_rooms                          0.000000\n",
       "stay_on_saturday                   0.000000\n",
       "log_click_proportion              93.610445\n",
       "distance_to_dest                  32.359486\n",
       "random_sort                        0.000000\n",
       "competitor1_rate                  97.521168\n",
       "competitor1_has_availability      97.325752\n",
       "competitor1_price_percent_diff    98.050834\n",
       "competitor2_rate                  59.431427\n",
       "competitor2_has_availability      57.316040\n",
       "competitor2_price_percent_diff    88.911419\n",
       "competitor3_rate                  69.269755\n",
       "competitor3_has_availability      66.894891\n",
       "competitor3_price_percent_diff    90.528015\n",
       "competitor4_rate                  93.774818\n",
       "competitor4_has_availability      93.057045\n",
       "competitor4_price_percent_diff    97.359400\n",
       "competitor5_rate                  55.259126\n",
       "competitor5_has_availability      52.471627\n",
       "competitor5_price_percent_diff    83.148314\n",
       "competitor6_rate                  94.974411\n",
       "competitor6_has_availability      94.543630\n",
       "competitor6_price_percent_diff    97.985303\n",
       "competitor7_rate                  93.511266\n",
       "competitor7_has_availability      92.655080\n",
       "competitor7_price_percent_diff    97.150583\n",
       "competitor8_rate                  61.626838\n",
       "competitor8_has_availability      60.199861\n",
       "competitor8_price_percent_diff    87.704558\n",
       "clicked                            0.000000\n",
       "booking_value                     97.211241\n",
       "booked                             0.000000\n",
       "num_total                          0.000000\n",
       "dtype: float64"
      ]
     },
     "execution_count": 355,
     "metadata": {},
     "output_type": "execute_result"
    }
   ],
   "source": [
    "(df.isnull().sum()/df.shape[0])*100"
   ]
  },
  {
   "cell_type": "markdown",
   "metadata": {},
   "source": [
    "# Created a column total price for the trip "
   ]
  },
  {
   "cell_type": "code",
   "execution_count": 240,
   "metadata": {},
   "outputs": [],
   "source": [
    "df_cleaned['total_price'] = df_cleaned['price_usd_corr']*df_cleaned['num_rooms']*df_cleaned['length_of_stay']"
   ]
  },
  {
   "cell_type": "code",
   "execution_count": 241,
   "metadata": {},
   "outputs": [],
   "source": [
    "df_cleaned.to_csv('df_cleaned.csv')"
   ]
  },
  {
   "cell_type": "markdown",
   "metadata": {},
   "source": [
    "## Tableau\n",
    "### user country code 219 generating -> 10,202,687.16 dollars sale.\n",
    "### total sales -> 20,381,514.67 dollars"
   ]
  },
  {
   "cell_type": "markdown",
   "metadata": {},
   "source": [
    "# Treating null values"
   ]
  },
  {
   "cell_type": "code",
   "execution_count": 242,
   "metadata": {},
   "outputs": [],
   "source": [
    "ser = pd.Series((df_cleaned.isnull().sum()/df_cleaned.shape[0])*100).sort_values(ascending=False)\n",
    "x = ser[ser<50].index # All columns having null values greater than 50% dropped"
   ]
  },
  {
   "cell_type": "code",
   "execution_count": 243,
   "metadata": {},
   "outputs": [
    {
     "data": {
      "text/html": [
       "<div>\n",
       "<style scoped>\n",
       "    .dataframe tbody tr th:only-of-type {\n",
       "        vertical-align: middle;\n",
       "    }\n",
       "\n",
       "    .dataframe tbody tr th {\n",
       "        vertical-align: top;\n",
       "    }\n",
       "\n",
       "    .dataframe thead th {\n",
       "        text-align: right;\n",
       "    }\n",
       "</style>\n",
       "<table border=\"1\" class=\"dataframe\">\n",
       "  <thead>\n",
       "    <tr style=\"text-align: right;\">\n",
       "      <th></th>\n",
       "      <th>distance_to_dest</th>\n",
       "      <th>location_score2</th>\n",
       "      <th>listing_review_score</th>\n",
       "      <th>listing_position</th>\n",
       "      <th>user_country_id</th>\n",
       "      <th>site_id</th>\n",
       "      <th>timestamp</th>\n",
       "      <th>listing_country_id</th>\n",
       "      <th>listing_id</th>\n",
       "      <th>listing_stars</th>\n",
       "      <th>...</th>\n",
       "      <th>num_adults</th>\n",
       "      <th>num_kids</th>\n",
       "      <th>num_rooms</th>\n",
       "      <th>stay_on_saturday</th>\n",
       "      <th>random_sort</th>\n",
       "      <th>clicked</th>\n",
       "      <th>booked</th>\n",
       "      <th>num_total</th>\n",
       "      <th>price_usd_corr</th>\n",
       "      <th>search_id</th>\n",
       "    </tr>\n",
       "  </thead>\n",
       "  <tbody>\n",
       "    <tr>\n",
       "      <th>480</th>\n",
       "      <td>127.85</td>\n",
       "      <td>0.6848</td>\n",
       "      <td>4.5</td>\n",
       "      <td>1</td>\n",
       "      <td>219</td>\n",
       "      <td>5</td>\n",
       "      <td>2013-04-14 19:23:27</td>\n",
       "      <td>219</td>\n",
       "      <td>131159</td>\n",
       "      <td>0</td>\n",
       "      <td>...</td>\n",
       "      <td>2</td>\n",
       "      <td>0</td>\n",
       "      <td>1</td>\n",
       "      <td>1</td>\n",
       "      <td>0</td>\n",
       "      <td>1</td>\n",
       "      <td>1</td>\n",
       "      <td>2</td>\n",
       "      <td>119.0</td>\n",
       "      <td>163</td>\n",
       "    </tr>\n",
       "    <tr>\n",
       "      <th>3474</th>\n",
       "      <td>NaN</td>\n",
       "      <td>0.2448</td>\n",
       "      <td>4.0</td>\n",
       "      <td>7</td>\n",
       "      <td>55</td>\n",
       "      <td>15</td>\n",
       "      <td>2013-05-20 13:33:56</td>\n",
       "      <td>99</td>\n",
       "      <td>112285</td>\n",
       "      <td>0</td>\n",
       "      <td>...</td>\n",
       "      <td>1</td>\n",
       "      <td>0</td>\n",
       "      <td>1</td>\n",
       "      <td>0</td>\n",
       "      <td>0</td>\n",
       "      <td>1</td>\n",
       "      <td>1</td>\n",
       "      <td>1</td>\n",
       "      <td>71.7</td>\n",
       "      <td>1122</td>\n",
       "    </tr>\n",
       "    <tr>\n",
       "      <th>6373</th>\n",
       "      <td>134.07</td>\n",
       "      <td>0.1357</td>\n",
       "      <td>3.5</td>\n",
       "      <td>3</td>\n",
       "      <td>219</td>\n",
       "      <td>5</td>\n",
       "      <td>2012-11-02 08:49:36</td>\n",
       "      <td>219</td>\n",
       "      <td>23157</td>\n",
       "      <td>0</td>\n",
       "      <td>...</td>\n",
       "      <td>2</td>\n",
       "      <td>0</td>\n",
       "      <td>1</td>\n",
       "      <td>1</td>\n",
       "      <td>0</td>\n",
       "      <td>1</td>\n",
       "      <td>1</td>\n",
       "      <td>2</td>\n",
       "      <td>79.0</td>\n",
       "      <td>1824</td>\n",
       "    </tr>\n",
       "    <tr>\n",
       "      <th>7787</th>\n",
       "      <td>NaN</td>\n",
       "      <td>0.6531</td>\n",
       "      <td>4.0</td>\n",
       "      <td>2</td>\n",
       "      <td>55</td>\n",
       "      <td>15</td>\n",
       "      <td>2013-06-22 21:51:36</td>\n",
       "      <td>99</td>\n",
       "      <td>103763</td>\n",
       "      <td>0</td>\n",
       "      <td>...</td>\n",
       "      <td>2</td>\n",
       "      <td>0</td>\n",
       "      <td>1</td>\n",
       "      <td>0</td>\n",
       "      <td>0</td>\n",
       "      <td>1</td>\n",
       "      <td>1</td>\n",
       "      <td>2</td>\n",
       "      <td>84.8</td>\n",
       "      <td>2198</td>\n",
       "    </tr>\n",
       "    <tr>\n",
       "      <th>11661</th>\n",
       "      <td>219.58</td>\n",
       "      <td>0.4017</td>\n",
       "      <td>4.0</td>\n",
       "      <td>10</td>\n",
       "      <td>219</td>\n",
       "      <td>5</td>\n",
       "      <td>2013-03-12 17:28:02</td>\n",
       "      <td>219</td>\n",
       "      <td>27176</td>\n",
       "      <td>0</td>\n",
       "      <td>...</td>\n",
       "      <td>2</td>\n",
       "      <td>0</td>\n",
       "      <td>1</td>\n",
       "      <td>1</td>\n",
       "      <td>0</td>\n",
       "      <td>1</td>\n",
       "      <td>1</td>\n",
       "      <td>2</td>\n",
       "      <td>85.0</td>\n",
       "      <td>3223</td>\n",
       "    </tr>\n",
       "  </tbody>\n",
       "</table>\n",
       "<p>5 rows × 28 columns</p>\n",
       "</div>"
      ],
      "text/plain": [
       "       distance_to_dest  location_score2  listing_review_score  \\\n",
       "480              127.85           0.6848                   4.5   \n",
       "3474                NaN           0.2448                   4.0   \n",
       "6373             134.07           0.1357                   3.5   \n",
       "7787                NaN           0.6531                   4.0   \n",
       "11661            219.58           0.4017                   4.0   \n",
       "\n",
       "       listing_position  user_country_id  site_id            timestamp  \\\n",
       "480                   1              219        5  2013-04-14 19:23:27   \n",
       "3474                  7               55       15  2013-05-20 13:33:56   \n",
       "6373                  3              219        5  2012-11-02 08:49:36   \n",
       "7787                  2               55       15  2013-06-22 21:51:36   \n",
       "11661                10              219        5  2013-03-12 17:28:02   \n",
       "\n",
       "       listing_country_id  listing_id  listing_stars  ...  num_adults  \\\n",
       "480                   219      131159              0  ...           2   \n",
       "3474                   99      112285              0  ...           1   \n",
       "6373                  219       23157              0  ...           2   \n",
       "7787                   99      103763              0  ...           2   \n",
       "11661                 219       27176              0  ...           2   \n",
       "\n",
       "       num_kids  num_rooms  stay_on_saturday  random_sort  clicked  booked  \\\n",
       "480           0          1                 1            0        1       1   \n",
       "3474          0          1                 0            0        1       1   \n",
       "6373          0          1                 1            0        1       1   \n",
       "7787          0          1                 0            0        1       1   \n",
       "11661         0          1                 1            0        1       1   \n",
       "\n",
       "       num_total  price_usd_corr  search_id  \n",
       "480            2           119.0        163  \n",
       "3474           1            71.7       1122  \n",
       "6373           2            79.0       1824  \n",
       "7787           2            84.8       2198  \n",
       "11661          2            85.0       3223  \n",
       "\n",
       "[5 rows x 28 columns]"
      ]
     },
     "execution_count": 243,
     "metadata": {},
     "output_type": "execute_result"
    }
   ],
   "source": [
    "df_mod = df_cleaned[list(x)]\n",
    "df_model = df_mod.drop('price_usd',axis=1) \n",
    "df_model.head()"
   ]
  },
  {
   "cell_type": "code",
   "execution_count": 244,
   "metadata": {},
   "outputs": [
    {
     "data": {
      "text/plain": [
       "distance_to_dest        32.244284\n",
       "location_score2         22.172456\n",
       "listing_review_score     0.146461\n",
       "price_usd_corr           0.000000\n",
       "listing_position         0.000000\n",
       "user_country_id          0.000000\n",
       "site_id                  0.000000\n",
       "timestamp                0.000000\n",
       "listing_country_id       0.000000\n",
       "listing_id               0.000000\n",
       "listing_stars            0.000000\n",
       "is_brand                 0.000000\n",
       "location_score1          0.000000\n",
       "log_historical_price     0.000000\n",
       "search_id                0.000000\n",
       "has_promotion            0.000000\n",
       "destination_id           0.000000\n",
       "length_of_stay           0.000000\n",
       "booking_window           0.000000\n",
       "num_adults               0.000000\n",
       "num_kids                 0.000000\n",
       "num_rooms                0.000000\n",
       "stay_on_saturday         0.000000\n",
       "random_sort              0.000000\n",
       "clicked                  0.000000\n",
       "booked                   0.000000\n",
       "num_total                0.000000\n",
       "total_price              0.000000\n",
       "dtype: float64"
      ]
     },
     "execution_count": 244,
     "metadata": {},
     "output_type": "execute_result"
    }
   ],
   "source": [
    "pd.Series((df_model.isnull().sum()/df_model.shape[0])*100).sort_values(ascending=False)"
   ]
  },
  {
   "cell_type": "markdown",
   "metadata": {},
   "source": [
    "# Regressing distance to dest\n",
    "and then we'll regress location_score_2"
   ]
  },
  {
   "cell_type": "markdown",
   "metadata": {},
   "source": [
    "## Replacing null values with median of listing_review_score"
   ]
  },
  {
   "cell_type": "code",
   "execution_count": 245,
   "metadata": {},
   "outputs": [],
   "source": [
    "df_model['listing_review_score'].fillna(df_model['listing_review_score'].median(),inplace=True)"
   ]
  },
  {
   "cell_type": "code",
   "execution_count": 246,
   "metadata": {},
   "outputs": [],
   "source": [
    "x = df_model[~df_model['distance_to_dest'].isnull()]\n",
    "w = df_model[df_model['distance_to_dest'].isnull()]"
   ]
  },
  {
   "cell_type": "code",
   "execution_count": 247,
   "metadata": {},
   "outputs": [
    {
     "data": {
      "text/html": [
       "<div>\n",
       "<style scoped>\n",
       "    .dataframe tbody tr th:only-of-type {\n",
       "        vertical-align: middle;\n",
       "    }\n",
       "\n",
       "    .dataframe tbody tr th {\n",
       "        vertical-align: top;\n",
       "    }\n",
       "\n",
       "    .dataframe thead th {\n",
       "        text-align: right;\n",
       "    }\n",
       "</style>\n",
       "<table border=\"1\" class=\"dataframe\">\n",
       "  <thead>\n",
       "    <tr style=\"text-align: right;\">\n",
       "      <th></th>\n",
       "      <th>distance_to_dest</th>\n",
       "      <th>location_score2</th>\n",
       "      <th>listing_review_score</th>\n",
       "      <th>listing_position</th>\n",
       "      <th>user_country_id</th>\n",
       "      <th>site_id</th>\n",
       "      <th>timestamp</th>\n",
       "      <th>listing_country_id</th>\n",
       "      <th>listing_id</th>\n",
       "      <th>listing_stars</th>\n",
       "      <th>...</th>\n",
       "      <th>num_adults</th>\n",
       "      <th>num_kids</th>\n",
       "      <th>num_rooms</th>\n",
       "      <th>stay_on_saturday</th>\n",
       "      <th>random_sort</th>\n",
       "      <th>clicked</th>\n",
       "      <th>booked</th>\n",
       "      <th>num_total</th>\n",
       "      <th>price_usd_corr</th>\n",
       "      <th>search_id</th>\n",
       "    </tr>\n",
       "  </thead>\n",
       "  <tbody>\n",
       "    <tr>\n",
       "      <th>3474</th>\n",
       "      <td>NaN</td>\n",
       "      <td>0.2448</td>\n",
       "      <td>4.0</td>\n",
       "      <td>7</td>\n",
       "      <td>55</td>\n",
       "      <td>15</td>\n",
       "      <td>2013-05-20 13:33:56</td>\n",
       "      <td>99</td>\n",
       "      <td>112285</td>\n",
       "      <td>0</td>\n",
       "      <td>...</td>\n",
       "      <td>1</td>\n",
       "      <td>0</td>\n",
       "      <td>1</td>\n",
       "      <td>0</td>\n",
       "      <td>0</td>\n",
       "      <td>1</td>\n",
       "      <td>1</td>\n",
       "      <td>1</td>\n",
       "      <td>71.70</td>\n",
       "      <td>1122</td>\n",
       "    </tr>\n",
       "    <tr>\n",
       "      <th>7787</th>\n",
       "      <td>NaN</td>\n",
       "      <td>0.6531</td>\n",
       "      <td>4.0</td>\n",
       "      <td>2</td>\n",
       "      <td>55</td>\n",
       "      <td>15</td>\n",
       "      <td>2013-06-22 21:51:36</td>\n",
       "      <td>99</td>\n",
       "      <td>103763</td>\n",
       "      <td>0</td>\n",
       "      <td>...</td>\n",
       "      <td>2</td>\n",
       "      <td>0</td>\n",
       "      <td>1</td>\n",
       "      <td>0</td>\n",
       "      <td>0</td>\n",
       "      <td>1</td>\n",
       "      <td>1</td>\n",
       "      <td>2</td>\n",
       "      <td>84.80</td>\n",
       "      <td>2198</td>\n",
       "    </tr>\n",
       "    <tr>\n",
       "      <th>13469</th>\n",
       "      <td>NaN</td>\n",
       "      <td>0.2409</td>\n",
       "      <td>4.0</td>\n",
       "      <td>12</td>\n",
       "      <td>55</td>\n",
       "      <td>15</td>\n",
       "      <td>2013-06-13 20:22:42</td>\n",
       "      <td>55</td>\n",
       "      <td>20783</td>\n",
       "      <td>0</td>\n",
       "      <td>...</td>\n",
       "      <td>2</td>\n",
       "      <td>0</td>\n",
       "      <td>1</td>\n",
       "      <td>1</td>\n",
       "      <td>0</td>\n",
       "      <td>1</td>\n",
       "      <td>1</td>\n",
       "      <td>2</td>\n",
       "      <td>113.19</td>\n",
       "      <td>3833</td>\n",
       "    </tr>\n",
       "    <tr>\n",
       "      <th>14093</th>\n",
       "      <td>NaN</td>\n",
       "      <td>0.6256</td>\n",
       "      <td>4.0</td>\n",
       "      <td>3</td>\n",
       "      <td>219</td>\n",
       "      <td>5</td>\n",
       "      <td>2013-05-22 13:41:18</td>\n",
       "      <td>219</td>\n",
       "      <td>82965</td>\n",
       "      <td>0</td>\n",
       "      <td>...</td>\n",
       "      <td>2</td>\n",
       "      <td>2</td>\n",
       "      <td>1</td>\n",
       "      <td>0</td>\n",
       "      <td>0</td>\n",
       "      <td>1</td>\n",
       "      <td>1</td>\n",
       "      <td>4</td>\n",
       "      <td>94.00</td>\n",
       "      <td>4052</td>\n",
       "    </tr>\n",
       "    <tr>\n",
       "      <th>69986</th>\n",
       "      <td>NaN</td>\n",
       "      <td>0.0314</td>\n",
       "      <td>3.5</td>\n",
       "      <td>1</td>\n",
       "      <td>219</td>\n",
       "      <td>5</td>\n",
       "      <td>2012-11-02 14:03:13</td>\n",
       "      <td>219</td>\n",
       "      <td>139849</td>\n",
       "      <td>0</td>\n",
       "      <td>...</td>\n",
       "      <td>1</td>\n",
       "      <td>1</td>\n",
       "      <td>1</td>\n",
       "      <td>1</td>\n",
       "      <td>0</td>\n",
       "      <td>1</td>\n",
       "      <td>1</td>\n",
       "      <td>2</td>\n",
       "      <td>59.00</td>\n",
       "      <td>19693</td>\n",
       "    </tr>\n",
       "  </tbody>\n",
       "</table>\n",
       "<p>5 rows × 28 columns</p>\n",
       "</div>"
      ],
      "text/plain": [
       "       distance_to_dest  location_score2  listing_review_score  \\\n",
       "3474                NaN           0.2448                   4.0   \n",
       "7787                NaN           0.6531                   4.0   \n",
       "13469               NaN           0.2409                   4.0   \n",
       "14093               NaN           0.6256                   4.0   \n",
       "69986               NaN           0.0314                   3.5   \n",
       "\n",
       "       listing_position  user_country_id  site_id            timestamp  \\\n",
       "3474                  7               55       15  2013-05-20 13:33:56   \n",
       "7787                  2               55       15  2013-06-22 21:51:36   \n",
       "13469                12               55       15  2013-06-13 20:22:42   \n",
       "14093                 3              219        5  2013-05-22 13:41:18   \n",
       "69986                 1              219        5  2012-11-02 14:03:13   \n",
       "\n",
       "       listing_country_id  listing_id  listing_stars  ...  num_adults  \\\n",
       "3474                   99      112285              0  ...           1   \n",
       "7787                   99      103763              0  ...           2   \n",
       "13469                  55       20783              0  ...           2   \n",
       "14093                 219       82965              0  ...           2   \n",
       "69986                 219      139849              0  ...           1   \n",
       "\n",
       "       num_kids  num_rooms  stay_on_saturday  random_sort  clicked  booked  \\\n",
       "3474          0          1                 0            0        1       1   \n",
       "7787          0          1                 0            0        1       1   \n",
       "13469         0          1                 1            0        1       1   \n",
       "14093         2          1                 0            0        1       1   \n",
       "69986         1          1                 1            0        1       1   \n",
       "\n",
       "       num_total  price_usd_corr  search_id  \n",
       "3474           1           71.70       1122  \n",
       "7787           2           84.80       2198  \n",
       "13469          2          113.19       3833  \n",
       "14093          4           94.00       4052  \n",
       "69986          2           59.00      19693  \n",
       "\n",
       "[5 rows x 28 columns]"
      ]
     },
     "execution_count": 247,
     "metadata": {},
     "output_type": "execute_result"
    }
   ],
   "source": [
    "w.head()"
   ]
  },
  {
   "cell_type": "code",
   "execution_count": 248,
   "metadata": {},
   "outputs": [],
   "source": [
    "X = x.drop(['distance_to_dest','location_score2','timestamp'],axis=1)\n",
    "y = x['distance_to_dest']"
   ]
  },
  {
   "cell_type": "code",
   "execution_count": 249,
   "metadata": {},
   "outputs": [
    {
     "name": "stderr",
     "output_type": "stream",
     "text": [
      "//anaconda3/lib/python3.7/site-packages/sklearn/ensemble/forest.py:245: FutureWarning: The default value of n_estimators will change from 10 in version 0.20 to 100 in 0.22.\n",
      "  \"10 in version 0.20 to 100 in 0.22.\", FutureWarning)\n"
     ]
    },
    {
     "name": "stdout",
     "output_type": "stream",
     "text": [
      "CPU times: user 5min 55s, sys: 4.58 s, total: 5min 59s\n",
      "Wall time: 2min 27s\n"
     ]
    },
    {
     "name": "stderr",
     "output_type": "stream",
     "text": [
      "//anaconda3/lib/python3.7/site-packages/sklearn/ensemble/forest.py:737: UserWarning: Some inputs do not have OOB scores. This probably means too few trees were used to compute any reliable oob estimates.\n",
      "  warn(\"Some inputs do not have OOB scores. \"\n"
     ]
    },
    {
     "data": {
      "text/plain": [
       "RandomForestRegressor(bootstrap=True, criterion='mse', max_depth=None,\n",
       "                      max_features='auto', max_leaf_nodes=None,\n",
       "                      min_impurity_decrease=0.0, min_impurity_split=None,\n",
       "                      min_samples_leaf=1, min_samples_split=2,\n",
       "                      min_weight_fraction_leaf=0.0, n_estimators=10, n_jobs=-1,\n",
       "                      oob_score=True, random_state=123, verbose=0,\n",
       "                      warm_start=False)"
      ]
     },
     "execution_count": 249,
     "metadata": {},
     "output_type": "execute_result"
    }
   ],
   "source": [
    "from sklearn.ensemble import RandomForestRegressor\n",
    "rfr = RandomForestRegressor(oob_score=True,n_jobs=-1,random_state=123)\n",
    "%time rfr.fit(X,y)"
   ]
  },
  {
   "cell_type": "code",
   "execution_count": 250,
   "metadata": {},
   "outputs": [],
   "source": [
    "lst = []\n",
    "lst = list(rfr.predict(w.drop(['distance_to_dest','location_score2','timestamp'],axis=1)))\n",
    "w['distance_to_dest'] = lst\n",
    "df_model = pd.concat([x,w])"
   ]
  },
  {
   "cell_type": "markdown",
   "metadata": {},
   "source": [
    "# Regressing location_score2"
   ]
  },
  {
   "cell_type": "code",
   "execution_count": 253,
   "metadata": {},
   "outputs": [],
   "source": [
    "x = df_model[~df_model['location_score2'].isnull()]\n",
    "w = df_model[df_model['location_score2'].isnull()]"
   ]
  },
  {
   "cell_type": "code",
   "execution_count": 254,
   "metadata": {},
   "outputs": [],
   "source": [
    "X = x.drop(['location_score2','timestamp'],axis=1)\n",
    "y = x['location_score2']"
   ]
  },
  {
   "cell_type": "code",
   "execution_count": 255,
   "metadata": {},
   "outputs": [
    {
     "name": "stderr",
     "output_type": "stream",
     "text": [
      "//anaconda3/lib/python3.7/site-packages/sklearn/ensemble/forest.py:245: FutureWarning: The default value of n_estimators will change from 10 in version 0.20 to 100 in 0.22.\n",
      "  \"10 in version 0.20 to 100 in 0.22.\", FutureWarning)\n"
     ]
    },
    {
     "name": "stdout",
     "output_type": "stream",
     "text": [
      "CPU times: user 8min 26s, sys: 5.12 s, total: 8min 31s\n",
      "Wall time: 3min 14s\n"
     ]
    },
    {
     "name": "stderr",
     "output_type": "stream",
     "text": [
      "//anaconda3/lib/python3.7/site-packages/sklearn/ensemble/forest.py:737: UserWarning: Some inputs do not have OOB scores. This probably means too few trees were used to compute any reliable oob estimates.\n",
      "  warn(\"Some inputs do not have OOB scores. \"\n"
     ]
    },
    {
     "data": {
      "text/plain": [
       "RandomForestRegressor(bootstrap=True, criterion='mse', max_depth=None,\n",
       "                      max_features='auto', max_leaf_nodes=None,\n",
       "                      min_impurity_decrease=0.0, min_impurity_split=None,\n",
       "                      min_samples_leaf=1, min_samples_split=2,\n",
       "                      min_weight_fraction_leaf=0.0, n_estimators=10, n_jobs=-1,\n",
       "                      oob_score=True, random_state=123, verbose=0,\n",
       "                      warm_start=False)"
      ]
     },
     "execution_count": 255,
     "metadata": {},
     "output_type": "execute_result"
    }
   ],
   "source": [
    "from sklearn.ensemble import RandomForestRegressor\n",
    "rfr = RandomForestRegressor(oob_score=True,n_jobs=-1,random_state=123)\n",
    "%time rfr.fit(X,y)"
   ]
  },
  {
   "cell_type": "code",
   "execution_count": 258,
   "metadata": {},
   "outputs": [
    {
     "name": "stderr",
     "output_type": "stream",
     "text": [
      "//anaconda3/lib/python3.7/site-packages/ipykernel_launcher.py:2: SettingWithCopyWarning: \n",
      "A value is trying to be set on a copy of a slice from a DataFrame.\n",
      "Try using .loc[row_indexer,col_indexer] = value instead\n",
      "\n",
      "See the caveats in the documentation: http://pandas.pydata.org/pandas-docs/stable/user_guide/indexing.html#returning-a-view-versus-a-copy\n",
      "  \n"
     ]
    }
   ],
   "source": [
    "lst = list(rfr.predict(w.drop(['location_score2','timestamp'],axis=1)))\n",
    "w['location_score2'] = lst\n",
    "df_model = pd.concat([x,w])"
   ]
  },
  {
   "cell_type": "code",
   "execution_count": 3,
   "metadata": {},
   "outputs": [],
   "source": [
    "df_model['timestamp'] = pd.to_datetime(df_model['timestamp'])\n",
    "df_model['weekday'] = df_model['timestamp'].dt.weekday\n",
    "df_model['month'] = df_model['timestamp'].dt.month"
   ]
  },
  {
   "cell_type": "code",
   "execution_count": 4,
   "metadata": {},
   "outputs": [],
   "source": [
    "%time df_model.to_csv('df_model.csv')"
   ]
  },
  {
   "cell_type": "markdown",
   "metadata": {},
   "source": [
    "# chi square test for listing_review_score, listing_stars with CTR AND CVR"
   ]
  },
  {
   "cell_type": "code",
   "execution_count": 27,
   "metadata": {},
   "outputs": [],
   "source": [
    "import pandas as pd\n",
    "df_cleaned = pd.read_csv('df_cleaned_regress.csv')"
   ]
  },
  {
   "cell_type": "code",
   "execution_count": 32,
   "metadata": {},
   "outputs": [
    {
     "data": {
      "text/html": [
       "<div>\n",
       "<style scoped>\n",
       "    .dataframe tbody tr th:only-of-type {\n",
       "        vertical-align: middle;\n",
       "    }\n",
       "\n",
       "    .dataframe tbody tr th {\n",
       "        vertical-align: top;\n",
       "    }\n",
       "\n",
       "    .dataframe thead th {\n",
       "        text-align: right;\n",
       "    }\n",
       "</style>\n",
       "<table border=\"1\" class=\"dataframe\">\n",
       "  <thead>\n",
       "    <tr style=\"text-align: right;\">\n",
       "      <th>listing_review_score</th>\n",
       "      <th>0.0</th>\n",
       "      <th>1.0</th>\n",
       "      <th>1.5</th>\n",
       "      <th>2.0</th>\n",
       "      <th>2.5</th>\n",
       "      <th>3.0</th>\n",
       "      <th>3.5</th>\n",
       "      <th>4.0</th>\n",
       "      <th>4.5</th>\n",
       "      <th>5.0</th>\n",
       "    </tr>\n",
       "    <tr>\n",
       "      <th>listing_stars</th>\n",
       "      <th></th>\n",
       "      <th></th>\n",
       "      <th></th>\n",
       "      <th></th>\n",
       "      <th></th>\n",
       "      <th></th>\n",
       "      <th></th>\n",
       "      <th></th>\n",
       "      <th></th>\n",
       "      <th></th>\n",
       "    </tr>\n",
       "  </thead>\n",
       "  <tbody>\n",
       "    <tr>\n",
       "      <th>0</th>\n",
       "      <td>13599</td>\n",
       "      <td>1007</td>\n",
       "      <td>717</td>\n",
       "      <td>2927</td>\n",
       "      <td>3689</td>\n",
       "      <td>7223</td>\n",
       "      <td>10658</td>\n",
       "      <td>17709</td>\n",
       "      <td>12412</td>\n",
       "      <td>6092</td>\n",
       "    </tr>\n",
       "    <tr>\n",
       "      <th>1</th>\n",
       "      <td>1168</td>\n",
       "      <td>107</td>\n",
       "      <td>235</td>\n",
       "      <td>866</td>\n",
       "      <td>1099</td>\n",
       "      <td>1424</td>\n",
       "      <td>1298</td>\n",
       "      <td>998</td>\n",
       "      <td>415</td>\n",
       "      <td>318</td>\n",
       "    </tr>\n",
       "    <tr>\n",
       "      <th>2</th>\n",
       "      <td>15137</td>\n",
       "      <td>2488</td>\n",
       "      <td>4454</td>\n",
       "      <td>16498</td>\n",
       "      <td>44496</td>\n",
       "      <td>94632</td>\n",
       "      <td>118005</td>\n",
       "      <td>87570</td>\n",
       "      <td>23339</td>\n",
       "      <td>3754</td>\n",
       "    </tr>\n",
       "    <tr>\n",
       "      <th>3</th>\n",
       "      <td>44848</td>\n",
       "      <td>1732</td>\n",
       "      <td>860</td>\n",
       "      <td>6181</td>\n",
       "      <td>13452</td>\n",
       "      <td>54841</td>\n",
       "      <td>152782</td>\n",
       "      <td>302570</td>\n",
       "      <td>275122</td>\n",
       "      <td>41047</td>\n",
       "    </tr>\n",
       "    <tr>\n",
       "      <th>4</th>\n",
       "      <td>24900</td>\n",
       "      <td>802</td>\n",
       "      <td>353</td>\n",
       "      <td>1514</td>\n",
       "      <td>2944</td>\n",
       "      <td>13167</td>\n",
       "      <td>63584</td>\n",
       "      <td>271110</td>\n",
       "      <td>285251</td>\n",
       "      <td>25478</td>\n",
       "    </tr>\n",
       "    <tr>\n",
       "      <th>5</th>\n",
       "      <td>6785</td>\n",
       "      <td>125</td>\n",
       "      <td>25</td>\n",
       "      <td>204</td>\n",
       "      <td>326</td>\n",
       "      <td>1615</td>\n",
       "      <td>5530</td>\n",
       "      <td>32616</td>\n",
       "      <td>108550</td>\n",
       "      <td>30840</td>\n",
       "    </tr>\n",
       "  </tbody>\n",
       "</table>\n",
       "</div>"
      ],
      "text/plain": [
       "listing_review_score    0.0   1.0   1.5    2.0    2.5    3.0     3.5     4.0  \\\n",
       "listing_stars                                                                  \n",
       "0                     13599  1007   717   2927   3689   7223   10658   17709   \n",
       "1                      1168   107   235    866   1099   1424    1298     998   \n",
       "2                     15137  2488  4454  16498  44496  94632  118005   87570   \n",
       "3                     44848  1732   860   6181  13452  54841  152782  302570   \n",
       "4                     24900   802   353   1514   2944  13167   63584  271110   \n",
       "5                      6785   125    25    204    326   1615    5530   32616   \n",
       "\n",
       "listing_review_score     4.5    5.0  \n",
       "listing_stars                        \n",
       "0                      12412   6092  \n",
       "1                        415    318  \n",
       "2                      23339   3754  \n",
       "3                     275122  41047  \n",
       "4                     285251  25478  \n",
       "5                     108550  30840  "
      ]
     },
     "execution_count": 32,
     "metadata": {},
     "output_type": "execute_result"
    }
   ],
   "source": [
    "pd.crosstab(df_cleaned['listing_stars'],df_cleaned['listing_review_score'])"
   ]
  },
  {
   "cell_type": "code",
   "execution_count": 35,
   "metadata": {},
   "outputs": [
    {
     "name": "stdout",
     "output_type": "stream",
     "text": [
      "[array([[ 13599,   1007,    717,   2927,   3689,   7223,  10658,  17709,\n",
      "         12412,   6092],\n",
      "       [  1168,    107,    235,    866,   1099,   1424,   1298,    998,\n",
      "           415,    318],\n",
      "       [ 15137,   2488,   4454,  16498,  44496,  94632, 118005,  87570,\n",
      "         23339,   3754],\n",
      "       [ 44848,   1732,    860,   6181,  13452,  54841, 152782, 302570,\n",
      "        275122,  41047],\n",
      "       [ 24900,    802,    353,   1514,   2944,  13167,  63584, 271110,\n",
      "        285251,  25478],\n",
      "       [  6785,    125,     25,    204,    326,   1615,   5530,  32616,\n",
      "        108550,  30840]])]\n",
      "dof=45\n",
      "[[[3.57533348e+03 2.10313734e+02 2.23179116e+02 9.46932464e+02\n",
      "   2.21721264e+03 5.80796442e+03 1.18192556e+04 2.39360946e+04\n",
      "   2.36846990e+04 3.61201493e+03]\n",
      "  [3.72801860e+02 2.19295212e+01 2.32710012e+01 9.87371349e+01\n",
      "   2.31189902e+02 6.05599436e+02 1.23239986e+03 2.49582889e+03\n",
      "   2.46961574e+03 3.76626654e+02]\n",
      "  [1.92971516e+04 1.13512656e+03 1.20456491e+03 5.11087970e+03\n",
      "   1.19669644e+04 3.13473332e+04 6.37920822e+04 1.29190311e+05\n",
      "   1.27833454e+05 1.94951324e+04]\n",
      "  [4.20123902e+04 2.47131707e+03 2.62249331e+03 1.11270449e+04\n",
      "   2.60536264e+04 6.82471912e+04 1.38883599e+05 2.81263986e+05\n",
      "   2.78309932e+05 4.24434201e+04]\n",
      "  [3.24039960e+04 1.90611741e+03 2.02271907e+03 8.58224721e+03\n",
      "   2.00950624e+04 5.26387977e+04 1.07120389e+05 2.16937838e+05\n",
      "   2.14659386e+05 3.27364477e+04]\n",
      "  [8.77532693e+03 5.16195702e+02 5.47772599e+02 2.32415857e+03\n",
      "   5.44194433e+03 1.42551141e+04 2.90092750e+04 5.87489410e+04\n",
      "   5.81319136e+04 8.86535818e+03]]]\n",
      "probability=0.950, critical=61.656, stat=747304.433\n",
      "Dependent (reject H0)\n",
      "significance=0.050, p=0.000\n",
      "Dependent (reject H0)\n"
     ]
    }
   ],
   "source": [
    "# chi-squared test with similar proportions\n",
    "from scipy.stats import chi2_contingency\n",
    "from scipy.stats import chi2\n",
    "# contingency table\n",
    "table = [np.array(pd.crosstab(df_cleaned['listing_stars'],df_cleaned['listing_review_score']))]\n",
    "print(table)\n",
    "stat, p, dof, expected = chi2_contingency(table)\n",
    "print('dof=%d' % dof)\n",
    "print(expected)\n",
    "# interpret test-statistic\n",
    "prob = 0.95\n",
    "critical = chi2.ppf(prob, dof)\n",
    "print('probability=%.3f, critical=%.3f, stat=%.3f' % (prob, critical, stat))\n",
    "if abs(stat) >= critical:\n",
    "    print('Dependent (reject H0)')\n",
    "else:\n",
    "    print('Independent (fail to reject H0)')\n",
    "# interpret p-value\n",
    "alpha = 1.0 - prob\n",
    "print('significance=%.3f, p=%.3f' % (alpha, p))\n",
    "if p <= alpha:\n",
    "    print('Dependent (reject H0)')\n",
    "else:\n",
    "    print('Independent (fail to reject H0)')"
   ]
  },
  {
   "cell_type": "markdown",
   "metadata": {},
   "source": [
    "# Predicting booked value"
   ]
  },
  {
   "cell_type": "code",
   "execution_count": 9,
   "metadata": {},
   "outputs": [
    {
     "name": "stdout",
     "output_type": "stream",
     "text": [
      "CPU times: user 7.9 s, sys: 1.2 s, total: 9.1 s\n",
      "Wall time: 9.12 s\n",
      "CPU times: user 12 s, sys: 2.43 s, total: 14.4 s\n",
      "Wall time: 15.3 s\n"
     ]
    }
   ],
   "source": [
    "%time df_model = pd.read_csv('df_model.csv')\n",
    "%time df_cleaned = pd.read_csv('df_cleaned_regress.csv')"
   ]
  },
  {
   "cell_type": "code",
   "execution_count": 265,
   "metadata": {},
   "outputs": [],
   "source": [
    "df_model.sort_index(inplace=True)\n",
    "df_cleaned.sort_index(inplace=True)"
   ]
  },
  {
   "cell_type": "code",
   "execution_count": 266,
   "metadata": {},
   "outputs": [],
   "source": [
    "df_cleaned['location_score2'] = df_model['location_score2']\n",
    "df_cleaned['distance_to_dest'] = df_model['distance_to_dest']"
   ]
  },
  {
   "cell_type": "markdown",
   "metadata": {},
   "source": [
    "# Converting to categorical "
   ]
  },
  {
   "cell_type": "code",
   "execution_count": 10,
   "metadata": {},
   "outputs": [],
   "source": [
    "df_model['location_score1'] = df_model['location_score1'].astype('category')\n",
    "df_model['listing_review_score'] = df_model['listing_review_score'].astype('category')\n",
    "df_model['listing_stars'] = df_model['listing_stars'].astype('category')\n",
    "df_model['is_brand'] = df_model['is_brand'].astype('category')\n",
    "df_model['has_promotion'] = df_model['has_promotion'].astype('category')\n",
    "df_model['stay_on_saturday'] = df_model['stay_on_saturday'].astype('category')\n",
    "df_model['clicked'] = df_model['clicked'].astype('category')"
   ]
  },
  {
   "cell_type": "markdown",
   "metadata": {},
   "source": [
    "### modelling only on clicked data and will predict on not clicked people to see who has the highest tendency to book the hotel"
   ]
  },
  {
   "cell_type": "code",
   "execution_count": 11,
   "metadata": {},
   "outputs": [],
   "source": [
    "df_mod = df_model[df_model['clicked']==1]\n",
    "df_pred = df_model[df_model['clicked']==0]"
   ]
  },
  {
   "cell_type": "code",
   "execution_count": 12,
   "metadata": {},
   "outputs": [
    {
     "name": "stdout",
     "output_type": "stream",
     "text": [
      "CPU times: user 376 ms, sys: 66.3 ms, total: 442 ms\n",
      "Wall time: 467 ms\n"
     ]
    }
   ],
   "source": [
    "X = df_mod.drop(['Unnamed: 0','Unnamed: 0.1','booked','num_kids','num_adults','timestamp'],axis=1)\n",
    "%time X = pd.get_dummies(X,drop_first=True)\n",
    "y = df_mod['booked']"
   ]
  },
  {
   "cell_type": "markdown",
   "metadata": {},
   "source": [
    "### Train test split of the data for classifying booked or not"
   ]
  },
  {
   "cell_type": "code",
   "execution_count": 13,
   "metadata": {},
   "outputs": [],
   "source": [
    "from sklearn.model_selection import train_test_split\n",
    "X_train, X_test, Y_train, Y_test = train_test_split(X,y,test_size=0.3,random_state=123)"
   ]
  },
  {
   "cell_type": "code",
   "execution_count": 14,
   "metadata": {},
   "outputs": [
    {
     "name": "stderr",
     "output_type": "stream",
     "text": [
      "//anaconda3/lib/python3.7/site-packages/sklearn/linear_model/logistic.py:432: FutureWarning: Default solver will be changed to 'lbfgs' in 0.22. Specify a solver to silence this warning.\n",
      "  FutureWarning)\n"
     ]
    },
    {
     "data": {
      "text/plain": [
       "0.6311793511240316"
      ]
     },
     "execution_count": 14,
     "metadata": {},
     "output_type": "execute_result"
    }
   ],
   "source": [
    "from sklearn.linear_model import LogisticRegression\n",
    "lr = LogisticRegression()\n",
    "lr.fit(X_train,Y_train)\n",
    "lr.score(X_train,Y_train)"
   ]
  },
  {
   "cell_type": "code",
   "execution_count": 17,
   "metadata": {},
   "outputs": [
    {
     "name": "stderr",
     "output_type": "stream",
     "text": [
      "//anaconda3/lib/python3.7/site-packages/sklearn/ensemble/forest.py:245: FutureWarning: The default value of n_estimators will change from 10 in version 0.20 to 100 in 0.22.\n",
      "  \"10 in version 0.20 to 100 in 0.22.\", FutureWarning)\n",
      "//anaconda3/lib/python3.7/site-packages/sklearn/ensemble/forest.py:460: UserWarning: Some inputs do not have OOB scores. This probably means too few trees were used to compute any reliable oob estimates.\n",
      "  warn(\"Some inputs do not have OOB scores. \"\n",
      "//anaconda3/lib/python3.7/site-packages/sklearn/ensemble/forest.py:465: RuntimeWarning: divide by zero encountered in true_divide\n",
      "  predictions[k].sum(axis=1)[:, np.newaxis])\n",
      "//anaconda3/lib/python3.7/site-packages/sklearn/ensemble/forest.py:465: RuntimeWarning: invalid value encountered in true_divide\n",
      "  predictions[k].sum(axis=1)[:, np.newaxis])\n"
     ]
    },
    {
     "name": "stdout",
     "output_type": "stream",
     "text": [
      "CPU times: user 1.69 s, sys: 251 ms, total: 1.95 s\n",
      "Wall time: 2.34 s\n"
     ]
    },
    {
     "data": {
      "text/plain": [
       "0.851187536162346"
      ]
     },
     "execution_count": 17,
     "metadata": {},
     "output_type": "execute_result"
    }
   ],
   "source": [
    "from sklearn.ensemble import RandomForestClassifier\n",
    "rfc = RandomForestClassifier(max_depth=7,oob_score=True)\n",
    "%time rfc.fit(X_train,Y_train)\n",
    "rfc.score(X_train,Y_train)"
   ]
  },
  {
   "cell_type": "markdown",
   "metadata": {},
   "source": [
    "# Checking for outliers"
   ]
  },
  {
   "cell_type": "code",
   "execution_count": 44,
   "metadata": {},
   "outputs": [
    {
     "data": {
      "text/plain": [
       "<matplotlib.axes._subplots.AxesSubplot at 0x1a1b73b0b8>"
      ]
     },
     "execution_count": 44,
     "metadata": {},
     "output_type": "execute_result"
    },
    {
     "data": {
      "image/png": "[encoded data removed]",
      "text/plain": [
       "<Figure size 432x288 with 1 Axes>"
      ]
     },
     "metadata": {
      "needs_background": "light"
     },
     "output_type": "display_data"
    }
   ],
   "source": [
    "sns.boxplot(X['distance_to_dest'])"
   ]
  },
  {
   "cell_type": "code",
   "execution_count": 48,
   "metadata": {},
   "outputs": [
    {
     "data": {
      "text/plain": [
       "<matplotlib.axes._subplots.AxesSubplot at 0x1a195a30f0>"
      ]
     },
     "execution_count": 48,
     "metadata": {},
     "output_type": "execute_result"
    },
    {
     "data": {
      "image/png": "[encoded data removed]",
      "text/plain": [
       "<Figure size 432x288 with 1 Axes>"
      ]
     },
     "metadata": {
      "needs_background": "light"
     },
     "output_type": "display_data"
    }
   ],
   "source": [
    "sns.boxplot(X['total_price'])"
   ]
  },
  {
   "cell_type": "code",
   "execution_count": 19,
   "metadata": {},
   "outputs": [],
   "source": [
    "from scipy.special import boxcox1p, boxcox\n",
    "import scipy.stats as stats"
   ]
  },
  {
   "cell_type": "code",
   "execution_count": 25,
   "metadata": {},
   "outputs": [],
   "source": [
    "df3 = df_model[['total_price','distance_to_dest']]+1"
   ]
  },
  {
   "cell_type": "code",
   "execution_count": 26,
   "metadata": {},
   "outputs": [
    {
     "data": {
      "text/plain": [
       "PowerTransformer(copy=True, method='box-cox', standardize=True)"
      ]
     },
     "execution_count": 26,
     "metadata": {},
     "output_type": "execute_result"
    }
   ],
   "source": [
    "from sklearn.preprocessing import PowerTransformer\n",
    "pt = PowerTransformer(method='box-cox')\n",
    "pt.fit(df3) "
   ]
  },
  {
   "cell_type": "code",
   "execution_count": 27,
   "metadata": {},
   "outputs": [
    {
     "data": {
      "text/plain": [
       "array([-0.16220709,  0.14107405])"
      ]
     },
     "execution_count": 27,
     "metadata": {},
     "output_type": "execute_result"
    }
   ],
   "source": [
    "pt.lambdas_"
   ]
  },
  {
   "cell_type": "code",
   "execution_count": 28,
   "metadata": {},
   "outputs": [
    {
     "data": {
      "text/plain": [
       "<matplotlib.axes._subplots.AxesSubplot at 0x1a248d84e0>"
      ]
     },
     "execution_count": 28,
     "metadata": {},
     "output_type": "execute_result"
    },
    {
     "data": {
      "image/png": "[encoded data removed]",
      "text/plain": [
       "<Figure size 432x288 with 1 Axes>"
      ]
     },
     "metadata": {
      "needs_background": "light"
     },
     "output_type": "display_data"
    }
   ],
   "source": [
    "sns.distplot(boxcox1p(list(df3['distance_to_dest']),0.14107405),hist=False,kde_kws={'shade':3,'linewidth':2})"
   ]
  },
  {
   "cell_type": "code",
   "execution_count": 30,
   "metadata": {},
   "outputs": [
    {
     "data": {
      "text/plain": [
       "<matplotlib.axes._subplots.AxesSubplot at 0x1a21b20588>"
      ]
     },
     "execution_count": 30,
     "metadata": {},
     "output_type": "execute_result"
    },
    {
     "data": {
      "image/png": "[encoded data removed]",
      "text/plain": [
       "<Figure size 432x288 with 1 Axes>"
      ]
     },
     "metadata": {
      "needs_background": "light"
     },
     "output_type": "display_data"
    }
   ],
   "source": [
    "sns.distplot(df3['distance_to_dest'],hist=False,kde_kws={'shade':3,'linewidth':2})"
   ]
  },
  {
   "cell_type": "markdown",
   "metadata": {},
   "source": [
    "# Treating outliers"
   ]
  },
  {
   "cell_type": "code",
   "execution_count": 32,
   "metadata": {},
   "outputs": [],
   "source": [
    "df_model['total_price'] = boxcox1p(list(df_model['total_price']),-0.16220709)\n",
    "\n",
    "df_model.loc[df_model.total_price > df_model.total_price.quantile(0.99), 'total_price'] = df_model.total_price.quantile(0.99)\n",
    "df_model.loc[df_model.total_price < df_model.total_price.quantile(0.01), 'total_price'] = df_model.total_price.quantile(0.01)\n"
   ]
  },
  {
   "cell_type": "code",
   "execution_count": 33,
   "metadata": {},
   "outputs": [],
   "source": [
    "df_model['distance_to_dest'] = boxcox1p(list(df_model['distance_to_dest']),0.14107405)\n",
    "\n",
    "df_model.loc[df_model.distance_to_dest > df_model.distance_to_dest.quantile(0.99), 'distance_to_dest'] = df_model.distance_to_dest.quantile(0.99)\n",
    "df_model.loc[df_model.distance_to_dest < df_model.distance_to_dest.quantile(0.01), 'distance_to_dest'] = df_model.distance_to_dest.quantile(0.01)\n"
   ]
  },
  {
   "cell_type": "code",
   "execution_count": 34,
   "metadata": {},
   "outputs": [],
   "source": [
    "df_model.to_csv('df_model.csv')"
   ]
  },
  {
   "cell_type": "code",
   "execution_count": 1,
   "metadata": {},
   "outputs": [],
   "source": [
    "import pandas as pd\n",
    "df_model = pd.read_csv('df_model.csv')"
   ]
  },
  {
   "cell_type": "code",
   "execution_count": 5,
   "metadata": {},
   "outputs": [
    {
     "data": {
      "text/plain": [
       "Index(['Unnamed: 0', 'Unnamed: 0.1', 'Unnamed: 0.1.1', 'distance_to_dest',\n",
       "       'location_score2', 'listing_review_score', 'listing_position',\n",
       "       'user_country_id', 'site_id', 'timestamp', 'listing_country_id',\n",
       "       'listing_id', 'listing_stars', 'is_brand', 'location_score1',\n",
       "       'log_historical_price', 'total_price', 'has_promotion',\n",
       "       'destination_id', 'length_of_stay', 'booking_window', 'num_adults',\n",
       "       'num_kids', 'num_rooms', 'stay_on_saturday', 'random_sort', 'clicked',\n",
       "       'booked', 'num_total', 'price_usd_corr', 'search_id', 'weekday',\n",
       "       'month'],\n",
       "      dtype='object')"
      ]
     },
     "execution_count": 5,
     "metadata": {},
     "output_type": "execute_result"
    }
   ],
   "source": [
    "df_model.columns"
   ]
  },
  {
   "cell_type": "code",
   "execution_count": 2,
   "metadata": {},
   "outputs": [],
   "source": [
    "df_model['location_score1'] = df_model['location_score1'].astype('category')\n",
    "df_model['listing_review_score'] = df_model['listing_review_score'].astype('category')\n",
    "df_model['listing_stars'] = df_model['listing_stars'].astype('category')\n",
    "df_model['is_brand'] = df_model['is_brand'].astype('category')\n",
    "df_model['has_promotion'] = df_model['has_promotion'].astype('category')\n",
    "df_model['stay_on_saturday'] = df_model['stay_on_saturday'].astype('category')\n",
    "df_model['clicked'] = df_model['clicked'].astype('category')"
   ]
  },
  {
   "cell_type": "code",
   "execution_count": 8,
   "metadata": {},
   "outputs": [
    {
     "name": "stdout",
     "output_type": "stream",
     "text": [
      "CPU times: user 9.16 s, sys: 1.37 s, total: 10.5 s\n",
      "Wall time: 11.1 s\n"
     ]
    }
   ],
   "source": [
    "X = df_model.drop(['Unnamed: 0','Unnamed: 0.1','Unnamed: 0.1.1','booked','num_kids','num_adults','timestamp','clicked'],axis=1)\n",
    "%time X = pd.get_dummies(X,drop_first=True)\n",
    "y = df_model['booked']"
   ]
  },
  {
   "cell_type": "markdown",
   "metadata": {},
   "source": [
    "# Applying Logistic Regression"
   ]
  },
  {
   "cell_type": "code",
   "execution_count": 9,
   "metadata": {},
   "outputs": [],
   "source": [
    "from sklearn.model_selection import train_test_split\n",
    "X_train, X_test, Y_train, Y_test = train_test_split(X,y,test_size=0.3,random_state=123)"
   ]
  },
  {
   "cell_type": "code",
   "execution_count": 44,
   "metadata": {},
   "outputs": [
    {
     "name": "stderr",
     "output_type": "stream",
     "text": [
      "//anaconda3/lib/python3.7/site-packages/sklearn/linear_model/logistic.py:432: FutureWarning: Default solver will be changed to 'lbfgs' in 0.22. Specify a solver to silence this warning.\n",
      "  FutureWarning)\n"
     ]
    },
    {
     "name": "stdout",
     "output_type": "stream",
     "text": [
      "CPU times: user 26.5 s, sys: 1.44 s, total: 28 s\n",
      "Wall time: 30.4 s\n",
      "CPU times: user 736 ms, sys: 328 ms, total: 1.06 s\n",
      "Wall time: 635 ms\n"
     ]
    },
    {
     "data": {
      "text/plain": [
       "0.9722246205329712"
      ]
     },
     "execution_count": 44,
     "metadata": {},
     "output_type": "execute_result"
    }
   ],
   "source": [
    "from sklearn.linear_model import LogisticRegression\n",
    "lr = LogisticRegression()\n",
    "%time lr.fit(X_train,Y_train)\n",
    "%time lr.score(X_train,Y_train)"
   ]
  },
  {
   "cell_type": "code",
   "execution_count": 46,
   "metadata": {},
   "outputs": [
    {
     "name": "stdout",
     "output_type": "stream",
     "text": [
      "\n",
      "******** For i = 0.01 ******\n"
     ]
    },
    {
     "name": "stderr",
     "output_type": "stream",
     "text": [
      "//anaconda3/lib/python3.7/site-packages/ipykernel_launcher.py:8: FutureWarning: Method .as_matrix will be removed in a future version. Use .values instead.\n",
      "  \n",
      "//anaconda3/lib/python3.7/site-packages/ipykernel_launcher.py:9: FutureWarning: Method .as_matrix will be removed in a future version. Use .values instead.\n",
      "  if __name__ == '__main__':\n",
      "//anaconda3/lib/python3.7/site-packages/ipykernel_launcher.py:10: FutureWarning: Method .as_matrix will be removed in a future version. Use .values instead.\n",
      "  # Remove the CWD from sys.path while we load stuff.\n",
      "//anaconda3/lib/python3.7/site-packages/ipykernel_launcher.py:11: FutureWarning: Method .as_matrix will be removed in a future version. Use .values instead.\n",
      "  # This is added back by InteractiveShellApp.init_path()\n",
      "//anaconda3/lib/python3.7/site-packages/ipykernel_launcher.py:12: FutureWarning: Method .as_matrix will be removed in a future version. Use .values instead.\n",
      "  if sys.path[0] == '':\n",
      "//anaconda3/lib/python3.7/site-packages/ipykernel_launcher.py:13: FutureWarning: Method .as_matrix will be removed in a future version. Use .values instead.\n",
      "  del sys.path[0]\n",
      "//anaconda3/lib/python3.7/site-packages/ipykernel_launcher.py:14: FutureWarning: Method .as_matrix will be removed in a future version. Use .values instead.\n",
      "  \n",
      "//anaconda3/lib/python3.7/site-packages/ipykernel_launcher.py:15: FutureWarning: Method .as_matrix will be removed in a future version. Use .values instead.\n",
      "  from ipykernel import kernelapp as app\n"
     ]
    },
    {
     "name": "stdout",
     "output_type": "stream",
     "text": [
      "Our recalling accuracy is 0.96\n",
      "Our accuracy is 0.17\n",
      "Our f1_score is 0.06\n",
      "Our precision_score is 0.03\n"
     ]
    },
    {
     "name": "stderr",
     "output_type": "stream",
     "text": [
      "//anaconda3/lib/python3.7/site-packages/ipykernel_launcher.py:21: FutureWarning: Method .as_matrix will be removed in a future version. Use .values instead.\n",
      "//anaconda3/lib/python3.7/site-packages/ipykernel_launcher.py:22: FutureWarning: Method .as_matrix will be removed in a future version. Use .values instead.\n"
     ]
    },
    {
     "name": "stdout",
     "output_type": "stream",
     "text": [
      "[[ 94273 566962]\n",
      " [   674  18134]]\n",
      "\n",
      "******** For i = 0.02 ******\n",
      "Our recalling accuracy is 0.85\n",
      "Our accuracy is 0.42\n",
      "Our f1_score is 0.07\n",
      "Our precision_score is 0.04\n",
      "[[268446 392789]\n",
      " [  2822  15986]]\n",
      "\n",
      "******** For i = 0.03 ******\n",
      "Our recalling accuracy is 0.70\n",
      "Our accuracy is 0.61\n",
      "Our f1_score is 0.09\n",
      "Our precision_score is 0.05\n",
      "[[402535 258700]\n",
      " [  5624  13184]]\n",
      "\n",
      "******** For i = 0.04 ******\n",
      "Our recalling accuracy is 0.54\n",
      "Our accuracy is 0.74\n",
      "Our f1_score is 0.10\n",
      "Our precision_score is 0.06\n",
      "[[493375 167860]\n",
      " [  8676  10132]]\n",
      "\n",
      "******** For i = 0.05 ******\n",
      "Our recalling accuracy is 0.39\n",
      "Our accuracy is 0.83\n",
      "Our f1_score is 0.11\n",
      "Our precision_score is 0.06\n",
      "[[553772 107463]\n",
      " [ 11493   7315]]\n",
      "\n",
      "******** For i = 0.06 ******\n",
      "Our recalling accuracy is 0.27\n",
      "Our accuracy is 0.88\n",
      "Our f1_score is 0.11\n",
      "Our precision_score is 0.07\n",
      "[[593107  68128]\n",
      " [ 13692   5116]]\n",
      "\n",
      "******** For i = 0.07 ******\n",
      "Our recalling accuracy is 0.19\n",
      "Our accuracy is 0.91\n",
      "Our f1_score is 0.11\n",
      "Our precision_score is 0.08\n",
      "[[618140  43095]\n",
      " [ 15273   3535]]\n",
      "\n",
      "******** For i = 0.08 ******\n",
      "Our recalling accuracy is 0.13\n",
      "Our accuracy is 0.94\n",
      "Our f1_score is 0.10\n",
      "Our precision_score is 0.08\n",
      "[[634155  27080]\n",
      " [ 16411   2397]]\n",
      "\n",
      "******** For i = 0.09 ******\n",
      "Our recalling accuracy is 0.08\n",
      "Our accuracy is 0.95\n",
      "Our f1_score is 0.08\n",
      "Our precision_score is 0.08\n",
      "[[644043  17192]\n",
      " [ 17244   1564]]\n",
      "\n",
      "******** For i = 0.1 ******\n",
      "Our recalling accuracy is 0.05\n",
      "Our accuracy is 0.96\n",
      "Our f1_score is 0.07\n",
      "Our precision_score is 0.09\n",
      "[[650337  10898]\n",
      " [ 17781   1027]]\n",
      "\n",
      "******** For i = 0.2 ******\n",
      "Our recalling accuracy is 0.00\n",
      "Our accuracy is 0.97\n",
      "Our f1_score is 0.00\n",
      "Our precision_score is 0.12\n",
      "[[661115    120]\n",
      " [ 18791     17]]\n",
      "\n",
      "******** For i = 0.3 ******\n"
     ]
    },
    {
     "name": "stderr",
     "output_type": "stream",
     "text": [
      "//anaconda3/lib/python3.7/site-packages/sklearn/metrics/classification.py:1437: UndefinedMetricWarning: F-score is ill-defined and being set to 0.0 due to no predicted samples.\n",
      "  'precision', 'predicted', average, warn_for)\n",
      "//anaconda3/lib/python3.7/site-packages/sklearn/metrics/classification.py:1437: UndefinedMetricWarning: Precision is ill-defined and being set to 0.0 due to no predicted samples.\n",
      "  'precision', 'predicted', average, warn_for)\n"
     ]
    },
    {
     "name": "stdout",
     "output_type": "stream",
     "text": [
      "Our recalling accuracy is 0.00\n",
      "Our accuracy is 0.97\n",
      "Our f1_score is 0.00\n",
      "Our precision_score is 0.00\n",
      "[[661235      0]\n",
      " [ 18808      0]]\n"
     ]
    }
   ],
   "source": [
    "from sklearn import metrics\n",
    "#Mostly our purpose is to reduce the FN and according to that we need to partition the data and choose the percentages\n",
    "pred_proba_df = pd.DataFrame(lr.predict_proba(X_test))\n",
    "threshold_list = [0.01,0.02,0.03,0.04,0.05,0.06,0.07,0.08,0.09,0.1,0.2,0.3]\n",
    "for i in threshold_list:\n",
    "    print ('\\n******** For i = {} ******'.format(i))\n",
    "    y_test_pred = pred_proba_df.applymap(lambda x: 1 if x>i else 0)\n",
    "    recall_accuracy = metrics.recall_score(Y_test.as_matrix().reshape(Y_test.as_matrix().size,1),\n",
    "                                           y_test_pred.iloc[:,1].as_matrix().reshape(y_test_pred.iloc[:,1].as_matrix().size,1))\n",
    "    accuracy = metrics.accuracy_score(Y_test.as_matrix().reshape(Y_test.as_matrix().size,1),\n",
    "                                           y_test_pred.iloc[:,1].as_matrix().reshape(y_test_pred.iloc[:,1].as_matrix().size,1))\n",
    "    f1score = metrics.f1_score(Y_test.as_matrix().reshape(Y_test.as_matrix().size,1),\n",
    "                                           y_test_pred.iloc[:,1].as_matrix().reshape(y_test_pred.iloc[:,1].as_matrix().size,1))\n",
    "    precisionscore = metrics.precision_score(Y_test.as_matrix().reshape(Y_test.as_matrix().size,1),\n",
    "                                           y_test_pred.iloc[:,1].as_matrix().reshape(y_test_pred.iloc[:,1].as_matrix().size,1))\n",
    "    \n",
    "    print('Our recalling accuracy is {:.2f}'.format(recall_accuracy))\n",
    "    print('Our accuracy is {:.2f}'.format(accuracy))\n",
    "    print('Our f1_score is {:.2f}'.format(f1score))\n",
    "    print('Our precision_score is {:.2f}'.format(precisionscore))\n",
    "    print(metrics.confusion_matrix(Y_test.as_matrix().reshape(Y_test.as_matrix().size,1),\n",
    "                           y_test_pred.iloc[:,1].as_matrix().reshape(y_test_pred.iloc[:,1].as_matrix().size,1)))"
   ]
  },
  {
   "cell_type": "markdown",
   "metadata": {},
   "source": [
    "# Applying SMOTE"
   ]
  },
  {
   "cell_type": "code",
   "execution_count": 10,
   "metadata": {},
   "outputs": [
    {
     "name": "stderr",
     "output_type": "stream",
     "text": [
      "Using TensorFlow backend.\n"
     ]
    },
    {
     "name": "stdout",
     "output_type": "stream",
     "text": [
      "CPU times: user 55.9 s, sys: 41.8 s, total: 1min 37s\n",
      "Wall time: 1min 49s\n"
     ]
    }
   ],
   "source": [
    "from imblearn.over_sampling import SMOTE \n",
    "sm = SMOTE(random_state = 123) \n",
    "%time X_train_res, y_train_res = sm.fit_sample(X_train, Y_train.ravel())   "
   ]
  },
  {
   "cell_type": "code",
   "execution_count": 11,
   "metadata": {},
   "outputs": [
    {
     "name": "stderr",
     "output_type": "stream",
     "text": [
      "//anaconda3/lib/python3.7/site-packages/sklearn/linear_model/logistic.py:432: FutureWarning: Default solver will be changed to 'lbfgs' in 0.22. Specify a solver to silence this warning.\n",
      "  FutureWarning)\n"
     ]
    },
    {
     "name": "stdout",
     "output_type": "stream",
     "text": [
      "CPU times: user 3min 57s, sys: 20.2 s, total: 4min 17s\n",
      "Wall time: 4min 36s\n",
      "CPU times: user 6.07 s, sys: 11.7 s, total: 17.8 s\n",
      "Wall time: 20.4 s\n"
     ]
    },
    {
     "data": {
      "text/plain": [
       "0.7602998524656899"
      ]
     },
     "execution_count": 11,
     "metadata": {},
     "output_type": "execute_result"
    }
   ],
   "source": [
    "from sklearn.linear_model import LogisticRegression\n",
    "lr = LogisticRegression()\n",
    "%time lr.fit(X_train_res,y_train_res)\n",
    "%time lr.score(X_train_res,y_train_res)"
   ]
  },
  {
   "cell_type": "code",
   "execution_count": 12,
   "metadata": {},
   "outputs": [
    {
     "name": "stdout",
     "output_type": "stream",
     "text": [
      "\n",
      "******** For i = 0.01 ******\n"
     ]
    },
    {
     "name": "stderr",
     "output_type": "stream",
     "text": [
      "//anaconda3/lib/python3.7/site-packages/ipykernel_launcher.py:8: FutureWarning: Method .as_matrix will be removed in a future version. Use .values instead.\n",
      "  \n",
      "//anaconda3/lib/python3.7/site-packages/ipykernel_launcher.py:9: FutureWarning: Method .as_matrix will be removed in a future version. Use .values instead.\n",
      "  if __name__ == '__main__':\n",
      "//anaconda3/lib/python3.7/site-packages/ipykernel_launcher.py:10: FutureWarning: Method .as_matrix will be removed in a future version. Use .values instead.\n",
      "  # Remove the CWD from sys.path while we load stuff.\n",
      "//anaconda3/lib/python3.7/site-packages/ipykernel_launcher.py:11: FutureWarning: Method .as_matrix will be removed in a future version. Use .values instead.\n",
      "  # This is added back by InteractiveShellApp.init_path()\n",
      "//anaconda3/lib/python3.7/site-packages/ipykernel_launcher.py:12: FutureWarning: Method .as_matrix will be removed in a future version. Use .values instead.\n",
      "  if sys.path[0] == '':\n",
      "//anaconda3/lib/python3.7/site-packages/ipykernel_launcher.py:13: FutureWarning: Method .as_matrix will be removed in a future version. Use .values instead.\n",
      "  del sys.path[0]\n",
      "//anaconda3/lib/python3.7/site-packages/ipykernel_launcher.py:14: FutureWarning: Method .as_matrix will be removed in a future version. Use .values instead.\n",
      "  \n",
      "//anaconda3/lib/python3.7/site-packages/ipykernel_launcher.py:15: FutureWarning: Method .as_matrix will be removed in a future version. Use .values instead.\n",
      "  from ipykernel import kernelapp as app\n"
     ]
    },
    {
     "name": "stdout",
     "output_type": "stream",
     "text": [
      "Our recalling accuracy is 1.00\n",
      "Our accuracy is 0.05\n",
      "Our f1_score is 0.05\n",
      "Our precision_score is 0.03\n"
     ]
    },
    {
     "name": "stderr",
     "output_type": "stream",
     "text": [
      "//anaconda3/lib/python3.7/site-packages/ipykernel_launcher.py:21: FutureWarning: Method .as_matrix will be removed in a future version. Use .values instead.\n",
      "//anaconda3/lib/python3.7/site-packages/ipykernel_launcher.py:22: FutureWarning: Method .as_matrix will be removed in a future version. Use .values instead.\n"
     ]
    },
    {
     "name": "stdout",
     "output_type": "stream",
     "text": [
      "[[ 14916 646319]\n",
      " [     8  18800]]\n",
      "\n",
      "******** For i = 0.05 ******\n",
      "Our recalling accuracy is 0.99\n",
      "Our accuracy is 0.16\n",
      "Our f1_score is 0.06\n",
      "Our precision_score is 0.03\n",
      "[[ 91931 569304]\n",
      " [   152  18656]]\n",
      "\n",
      "******** For i = 0.1 ******\n",
      "Our recalling accuracy is 0.98\n",
      "Our accuracy is 0.28\n",
      "Our f1_score is 0.07\n",
      "Our precision_score is 0.04\n",
      "[[168802 492433]\n",
      " [   467  18341]]\n",
      "\n",
      "******** For i = 0.2 ******\n",
      "Our recalling accuracy is 0.93\n",
      "Our accuracy is 0.45\n",
      "Our f1_score is 0.09\n",
      "Our precision_score is 0.04\n",
      "[[289196 372039]\n",
      " [  1346  17462]]\n",
      "\n",
      "******** For i = 0.3 ******\n",
      "Our recalling accuracy is 0.88\n",
      "Our accuracy is 0.56\n",
      "Our f1_score is 0.10\n",
      "Our precision_score is 0.05\n",
      "[[367123 294112]\n",
      " [  2260  16548]]\n",
      "\n",
      "******** For i = 0.4 ******\n",
      "Our recalling accuracy is 0.83\n",
      "Our accuracy is 0.65\n",
      "Our f1_score is 0.12\n",
      "Our precision_score is 0.06\n",
      "[[424846 236389]\n",
      " [  3124  15684]]\n",
      "\n",
      "******** For i = 0.45 ******\n",
      "Our recalling accuracy is 0.81\n",
      "Our accuracy is 0.68\n",
      "Our f1_score is 0.12\n",
      "Our precision_score is 0.07\n",
      "[[449280 211955]\n",
      " [  3664  15144]]\n",
      "\n",
      "******** For i = 0.5 ******\n",
      "Our recalling accuracy is 0.78\n",
      "Our accuracy is 0.72\n",
      "Our f1_score is 0.13\n",
      "Our precision_score is 0.07\n",
      "[[472696 188539]\n",
      " [  4183  14625]]\n",
      "\n",
      "******** For i = 0.55 ******\n",
      "Our recalling accuracy is 0.74\n",
      "Our accuracy is 0.75\n",
      "Our f1_score is 0.14\n",
      "Our precision_score is 0.08\n",
      "[[495972 165263]\n",
      " [  4860  13948]]\n",
      "\n",
      "******** For i = 0.6 ******\n",
      "Our recalling accuracy is 0.70\n",
      "Our accuracy is 0.78\n",
      "Our f1_score is 0.15\n",
      "Our precision_score is 0.09\n",
      "[[519160 142075]\n",
      " [  5576  13232]]\n",
      "\n",
      "******** For i = 0.61 ******\n",
      "Our recalling accuracy is 0.69\n",
      "Our accuracy is 0.79\n",
      "Our f1_score is 0.15\n",
      "Our precision_score is 0.09\n",
      "[[523853 137382]\n",
      " [  5753  13055]]\n",
      "\n",
      "******** For i = 0.62 ******\n",
      "Our recalling accuracy is 0.68\n",
      "Our accuracy is 0.80\n",
      "Our f1_score is 0.16\n",
      "Our precision_score is 0.09\n",
      "[[528436 132799]\n",
      " [  5950  12858]]\n",
      "\n",
      "******** For i = 0.63 ******\n",
      "Our recalling accuracy is 0.67\n",
      "Our accuracy is 0.80\n",
      "Our f1_score is 0.16\n",
      "Our precision_score is 0.09\n",
      "[[533202 128033]\n",
      " [  6120  12688]]\n",
      "\n",
      "******** For i = 0.64 ******\n",
      "Our recalling accuracy is 0.66\n",
      "Our accuracy is 0.81\n",
      "Our f1_score is 0.16\n",
      "Our precision_score is 0.09\n",
      "[[537940 123295]\n",
      " [  6302  12506]]\n",
      "\n",
      "******** For i = 0.65 ******\n",
      "Our recalling accuracy is 0.65\n",
      "Our accuracy is 0.82\n",
      "Our f1_score is 0.16\n",
      "Our precision_score is 0.09\n",
      "[[542687 118548]\n",
      " [  6512  12296]]\n",
      "\n",
      "******** For i = 0.66 ******\n",
      "Our recalling accuracy is 0.64\n",
      "Our accuracy is 0.82\n",
      "Our f1_score is 0.17\n",
      "Our precision_score is 0.10\n",
      "[[547495 113740]\n",
      " [  6739  12069]]\n",
      "\n",
      "******** For i = 0.67 ******\n",
      "Our recalling accuracy is 0.63\n",
      "Our accuracy is 0.83\n",
      "Our f1_score is 0.17\n",
      "Our precision_score is 0.10\n",
      "[[552416 108819]\n",
      " [  6973  11835]]\n",
      "\n",
      "******** For i = 0.68 ******\n",
      "Our recalling accuracy is 0.62\n",
      "Our accuracy is 0.84\n",
      "Our f1_score is 0.17\n",
      "Our precision_score is 0.10\n",
      "[[557476 103759]\n",
      " [  7208  11600]]\n",
      "\n",
      "******** For i = 0.69 ******\n",
      "Our recalling accuracy is 0.60\n",
      "Our accuracy is 0.84\n",
      "Our f1_score is 0.18\n",
      "Our precision_score is 0.10\n",
      "[[562554  98681]\n",
      " [  7441  11367]]\n",
      "\n",
      "******** For i = 0.7 ******\n",
      "Our recalling accuracy is 0.59\n",
      "Our accuracy is 0.85\n",
      "Our f1_score is 0.18\n",
      "Our precision_score is 0.11\n",
      "[[567602  93633]\n",
      " [  7729  11079]]\n"
     ]
    }
   ],
   "source": [
    "from sklearn import metrics\n",
    "#Mostly our purpose is to reduce the FN and FP and according to that we need to partition the data and choose the percentages\n",
    "pred_proba_df = pd.DataFrame(lr.predict_proba(X_test))\n",
    "threshold_list = [0.01,0.05,0.1,0.2,0.3,0.4,0.45,0.5,0.55,0.6,0.61,0.62,0.63,0.64,0.65,0.66,0.67,0.68,0.69,0.7]\n",
    "for i in threshold_list:\n",
    "    print ('\\n******** For i = {} ******'.format(i))\n",
    "    y_test_pred = pred_proba_df.applymap(lambda x: 1 if x>i else 0)\n",
    "    recall_accuracy = metrics.recall_score(Y_test.as_matrix().reshape(Y_test.as_matrix().size,1),\n",
    "                                           y_test_pred.iloc[:,1].as_matrix().reshape(y_test_pred.iloc[:,1].as_matrix().size,1))\n",
    "    accuracy = metrics.accuracy_score(Y_test.as_matrix().reshape(Y_test.as_matrix().size,1),\n",
    "                                           y_test_pred.iloc[:,1].as_matrix().reshape(y_test_pred.iloc[:,1].as_matrix().size,1))\n",
    "    f1score = metrics.f1_score(Y_test.as_matrix().reshape(Y_test.as_matrix().size,1),\n",
    "                                           y_test_pred.iloc[:,1].as_matrix().reshape(y_test_pred.iloc[:,1].as_matrix().size,1))\n",
    "    precisionscore = metrics.precision_score(Y_test.as_matrix().reshape(Y_test.as_matrix().size,1),\n",
    "                                           y_test_pred.iloc[:,1].as_matrix().reshape(y_test_pred.iloc[:,1].as_matrix().size,1))\n",
    "    \n",
    "    print('Our recalling accuracy is {:.2f}'.format(recall_accuracy))\n",
    "    print('Our accuracy is {:.2f}'.format(accuracy))\n",
    "    print('Our f1_score is {:.2f}'.format(f1score))\n",
    "    print('Our precision_score is {:.2f}'.format(precisionscore))\n",
    "    print(metrics.confusion_matrix(Y_test.as_matrix().reshape(Y_test.as_matrix().size,1),\n",
    "                           y_test_pred.iloc[:,1].as_matrix().reshape(y_test_pred.iloc[:,1].as_matrix().size,1)))"
   ]
  },
  {
   "cell_type": "markdown",
   "metadata": {},
   "source": [
    "# Applying class weight balanced"
   ]
  },
  {
   "cell_type": "code",
   "execution_count": 13,
   "metadata": {},
   "outputs": [
    {
     "name": "stderr",
     "output_type": "stream",
     "text": [
      "//anaconda3/lib/python3.7/site-packages/sklearn/linear_model/logistic.py:432: FutureWarning: Default solver will be changed to 'lbfgs' in 0.22. Specify a solver to silence this warning.\n",
      "  FutureWarning)\n"
     ]
    },
    {
     "name": "stdout",
     "output_type": "stream",
     "text": [
      "CPU times: user 2min 25s, sys: 16.3 s, total: 2min 41s\n",
      "Wall time: 2min 52s\n",
      "CPU times: user 4.4 s, sys: 5.67 s, total: 10.1 s\n",
      "Wall time: 11.4 s\n"
     ]
    },
    {
     "data": {
      "text/plain": [
       "0.7097408879071571"
      ]
     },
     "execution_count": 13,
     "metadata": {},
     "output_type": "execute_result"
    }
   ],
   "source": [
    "from sklearn.linear_model import LogisticRegression\n",
    "lr = LogisticRegression(class_weight='balanced')\n",
    "%time lr.fit(X_train,Y_train)\n",
    "%time lr.score(X_train,Y_train)"
   ]
  },
  {
   "cell_type": "code",
   "execution_count": 14,
   "metadata": {},
   "outputs": [
    {
     "name": "stdout",
     "output_type": "stream",
     "text": [
      "\n",
      "******** For i = 0.01 ******\n"
     ]
    },
    {
     "name": "stderr",
     "output_type": "stream",
     "text": [
      "//anaconda3/lib/python3.7/site-packages/ipykernel_launcher.py:8: FutureWarning: Method .as_matrix will be removed in a future version. Use .values instead.\n",
      "  \n",
      "//anaconda3/lib/python3.7/site-packages/ipykernel_launcher.py:9: FutureWarning: Method .as_matrix will be removed in a future version. Use .values instead.\n",
      "  if __name__ == '__main__':\n",
      "//anaconda3/lib/python3.7/site-packages/ipykernel_launcher.py:10: FutureWarning: Method .as_matrix will be removed in a future version. Use .values instead.\n",
      "  # Remove the CWD from sys.path while we load stuff.\n",
      "//anaconda3/lib/python3.7/site-packages/ipykernel_launcher.py:11: FutureWarning: Method .as_matrix will be removed in a future version. Use .values instead.\n",
      "  # This is added back by InteractiveShellApp.init_path()\n",
      "//anaconda3/lib/python3.7/site-packages/ipykernel_launcher.py:12: FutureWarning: Method .as_matrix will be removed in a future version. Use .values instead.\n",
      "  if sys.path[0] == '':\n",
      "//anaconda3/lib/python3.7/site-packages/ipykernel_launcher.py:13: FutureWarning: Method .as_matrix will be removed in a future version. Use .values instead.\n",
      "  del sys.path[0]\n",
      "//anaconda3/lib/python3.7/site-packages/ipykernel_launcher.py:14: FutureWarning: Method .as_matrix will be removed in a future version. Use .values instead.\n",
      "  \n",
      "//anaconda3/lib/python3.7/site-packages/ipykernel_launcher.py:15: FutureWarning: Method .as_matrix will be removed in a future version. Use .values instead.\n",
      "  from ipykernel import kernelapp as app\n"
     ]
    },
    {
     "name": "stdout",
     "output_type": "stream",
     "text": [
      "Our recalling accuracy is 1.00\n",
      "Our accuracy is 0.03\n",
      "Our f1_score is 0.05\n",
      "Our precision_score is 0.03\n"
     ]
    },
    {
     "name": "stderr",
     "output_type": "stream",
     "text": [
      "//anaconda3/lib/python3.7/site-packages/ipykernel_launcher.py:21: FutureWarning: Method .as_matrix will be removed in a future version. Use .values instead.\n",
      "//anaconda3/lib/python3.7/site-packages/ipykernel_launcher.py:22: FutureWarning: Method .as_matrix will be removed in a future version. Use .values instead.\n"
     ]
    },
    {
     "name": "stdout",
     "output_type": "stream",
     "text": [
      "[[  2444 658791]\n",
      " [     3  18805]]\n",
      "\n",
      "******** For i = 0.05 ******\n",
      "Our recalling accuracy is 1.00\n",
      "Our accuracy is 0.12\n",
      "Our f1_score is 0.06\n",
      "Our precision_score is 0.03\n",
      "[[ 62674 598561]\n",
      " [    78  18730]]\n",
      "\n",
      "******** For i = 0.1 ******\n",
      "Our recalling accuracy is 0.99\n",
      "Our accuracy is 0.20\n",
      "Our f1_score is 0.06\n",
      "Our precision_score is 0.03\n",
      "[[120655 540580]\n",
      " [   242  18566]]\n",
      "\n",
      "******** For i = 0.2 ******\n",
      "Our recalling accuracy is 0.95\n",
      "Our accuracy is 0.39\n",
      "Our f1_score is 0.08\n",
      "Our precision_score is 0.04\n",
      "[[247501 413734]\n",
      " [   968  17840]]\n",
      "\n",
      "******** For i = 0.3 ******\n",
      "Our recalling accuracy is 0.90\n",
      "Our accuracy is 0.53\n",
      "Our f1_score is 0.10\n",
      "Our precision_score is 0.05\n",
      "[[342367 318868]\n",
      " [  1925  16883]]\n",
      "\n",
      "******** For i = 0.4 ******\n",
      "Our recalling accuracy is 0.85\n",
      "Our accuracy is 0.63\n",
      "Our f1_score is 0.11\n",
      "Our precision_score is 0.06\n",
      "[[411485 249750]\n",
      " [  2895  15913]]\n",
      "\n",
      "******** For i = 0.45 ******\n",
      "Our recalling accuracy is 0.82\n",
      "Our accuracy is 0.67\n",
      "Our f1_score is 0.12\n",
      "Our precision_score is 0.06\n",
      "[[440514 220721]\n",
      " [  3472  15336]]\n",
      "\n",
      "******** For i = 0.5 ******\n",
      "Our recalling accuracy is 0.78\n",
      "Our accuracy is 0.71\n",
      "Our f1_score is 0.13\n",
      "Our precision_score is 0.07\n",
      "[[467879 193356]\n",
      " [  4064  14744]]\n",
      "\n",
      "******** For i = 0.55 ******\n",
      "Our recalling accuracy is 0.74\n",
      "Our accuracy is 0.75\n",
      "Our f1_score is 0.14\n",
      "Our precision_score is 0.08\n",
      "[[494903 166332]\n",
      " [  4801  14007]]\n",
      "\n",
      "******** For i = 0.6 ******\n",
      "Our recalling accuracy is 0.70\n",
      "Our accuracy is 0.79\n",
      "Our f1_score is 0.15\n",
      "Our precision_score is 0.09\n",
      "[[522355 138880]\n",
      " [  5705  13103]]\n",
      "\n",
      "******** For i = 0.61 ******\n",
      "Our recalling accuracy is 0.69\n",
      "Our accuracy is 0.80\n",
      "Our f1_score is 0.16\n",
      "Our precision_score is 0.09\n",
      "[[527817 133418]\n",
      " [  5906  12902]]\n",
      "\n",
      "******** For i = 0.62 ******\n",
      "Our recalling accuracy is 0.67\n",
      "Our accuracy is 0.80\n",
      "Our f1_score is 0.16\n",
      "Our precision_score is 0.09\n",
      "[[533240 127995]\n",
      " [  6118  12690]]\n",
      "\n",
      "******** For i = 0.63 ******\n",
      "Our recalling accuracy is 0.66\n",
      "Our accuracy is 0.81\n",
      "Our f1_score is 0.16\n",
      "Our precision_score is 0.09\n",
      "[[538762 122473]\n",
      " [  6343  12465]]\n",
      "\n",
      "******** For i = 0.64 ******\n",
      "Our recalling accuracy is 0.65\n",
      "Our accuracy is 0.82\n",
      "Our f1_score is 0.17\n",
      "Our precision_score is 0.09\n",
      "[[544407 116828]\n",
      " [  6592  12216]]\n",
      "\n",
      "******** For i = 0.65 ******\n",
      "Our recalling accuracy is 0.64\n",
      "Our accuracy is 0.83\n",
      "Our f1_score is 0.17\n",
      "Our precision_score is 0.10\n",
      "[[549987 111248]\n",
      " [  6842  11966]]\n",
      "\n",
      "******** For i = 0.66 ******\n",
      "Our recalling accuracy is 0.62\n",
      "Our accuracy is 0.83\n",
      "Our f1_score is 0.17\n",
      "Our precision_score is 0.10\n",
      "[[555738 105497]\n",
      " [  7104  11704]]\n",
      "\n",
      "******** For i = 0.67 ******\n",
      "Our recalling accuracy is 0.61\n",
      "Our accuracy is 0.84\n",
      "Our f1_score is 0.18\n",
      "Our precision_score is 0.10\n",
      "[[561480  99755]\n",
      " [  7403  11405]]\n",
      "\n",
      "******** For i = 0.68 ******\n",
      "Our recalling accuracy is 0.59\n",
      "Our accuracy is 0.85\n",
      "Our f1_score is 0.18\n",
      "Our precision_score is 0.11\n",
      "[[567153  94082]\n",
      " [  7695  11113]]\n",
      "\n",
      "******** For i = 0.69 ******\n",
      "Our recalling accuracy is 0.57\n",
      "Our accuracy is 0.86\n",
      "Our f1_score is 0.18\n",
      "Our precision_score is 0.11\n",
      "[[573021  88214]\n",
      " [  8045  10763]]\n",
      "\n",
      "******** For i = 0.7 ******\n",
      "Our recalling accuracy is 0.55\n",
      "Our accuracy is 0.87\n",
      "Our f1_score is 0.19\n",
      "Our precision_score is 0.11\n",
      "[[578832  82403]\n",
      " [  8431  10377]]\n"
     ]
    }
   ],
   "source": [
    "from sklearn import metrics\n",
    "#Mostly our purpose is to reduce the FN and FP and according to that we need to partition the data and choose the percentages\n",
    "pred_proba_df = pd.DataFrame(lr.predict_proba(X_test))\n",
    "threshold_list = [0.01,0.05,0.1,0.2,0.3,0.4,0.45,0.5,0.55,0.6,0.61,0.62,0.63,0.64,0.65,0.66,0.67,0.68,0.69,0.7]\n",
    "for i in threshold_list:\n",
    "    print ('\\n******** For i = {} ******'.format(i))\n",
    "    y_test_pred = pred_proba_df.applymap(lambda x: 1 if x>i else 0)\n",
    "    recall_accuracy = metrics.recall_score(Y_test.as_matrix().reshape(Y_test.as_matrix().size,1),\n",
    "                                           y_test_pred.iloc[:,1].as_matrix().reshape(y_test_pred.iloc[:,1].as_matrix().size,1))\n",
    "    accuracy = metrics.accuracy_score(Y_test.as_matrix().reshape(Y_test.as_matrix().size,1),\n",
    "                                           y_test_pred.iloc[:,1].as_matrix().reshape(y_test_pred.iloc[:,1].as_matrix().size,1))\n",
    "    f1score = metrics.f1_score(Y_test.as_matrix().reshape(Y_test.as_matrix().size,1),\n",
    "                                           y_test_pred.iloc[:,1].as_matrix().reshape(y_test_pred.iloc[:,1].as_matrix().size,1))\n",
    "    precisionscore = metrics.precision_score(Y_test.as_matrix().reshape(Y_test.as_matrix().size,1),\n",
    "                                           y_test_pred.iloc[:,1].as_matrix().reshape(y_test_pred.iloc[:,1].as_matrix().size,1))\n",
    "    \n",
    "    print('Our recalling accuracy is {:.2f}'.format(recall_accuracy))\n",
    "    print('Our accuracy is {:.2f}'.format(accuracy))\n",
    "    print('Our f1_score is {:.2f}'.format(f1score))\n",
    "    print('Our precision_score is {:.2f}'.format(precisionscore))\n",
    "    print(metrics.confusion_matrix(Y_test.as_matrix().reshape(Y_test.as_matrix().size,1),\n",
    "                           y_test_pred.iloc[:,1].as_matrix().reshape(y_test_pred.iloc[:,1].as_matrix().size,1)))"
   ]
  },
  {
   "cell_type": "code",
   "execution_count": 17,
   "metadata": {},
   "outputs": [
    {
     "name": "stdout",
     "output_type": "stream",
     "text": [
      "0.819143154838736\n"
     ]
    }
   ],
   "source": [
    "prob_y_4 = lr.predict_proba(X_test)\n",
    "prob_y_4 = [p[1] for p in prob_y_4]\n",
    "print( metrics.roc_auc_score(Y_test, prob_y_4) )"
   ]
  },
  {
   "cell_type": "code",
   "execution_count": 36,
   "metadata": {},
   "outputs": [],
   "source": [
    "# Applying Random forest SMOTE"
   ]
  },
  {
   "cell_type": "code",
   "execution_count": 18,
   "metadata": {},
   "outputs": [
    {
     "name": "stderr",
     "output_type": "stream",
     "text": [
      "//anaconda3/lib/python3.7/site-packages/sklearn/ensemble/forest.py:245: FutureWarning: The default value of n_estimators will change from 10 in version 0.20 to 100 in 0.22.\n",
      "  \"10 in version 0.20 to 100 in 0.22.\", FutureWarning)\n",
      "//anaconda3/lib/python3.7/site-packages/sklearn/ensemble/forest.py:460: UserWarning: Some inputs do not have OOB scores. This probably means too few trees were used to compute any reliable oob estimates.\n",
      "  warn(\"Some inputs do not have OOB scores. \"\n",
      "//anaconda3/lib/python3.7/site-packages/sklearn/ensemble/forest.py:465: RuntimeWarning: divide by zero encountered in true_divide\n",
      "  predictions[k].sum(axis=1)[:, np.newaxis])\n",
      "//anaconda3/lib/python3.7/site-packages/sklearn/ensemble/forest.py:465: RuntimeWarning: invalid value encountered in true_divide\n",
      "  predictions[k].sum(axis=1)[:, np.newaxis])\n"
     ]
    },
    {
     "name": "stdout",
     "output_type": "stream",
     "text": [
      "CPU times: user 2min 34s, sys: 52.3 s, total: 3min 27s\n",
      "Wall time: 2min 21s\n",
      "CPU times: user 13.1 s, sys: 16.7 s, total: 29.8 s\n",
      "Wall time: 31 s\n"
     ]
    },
    {
     "data": {
      "text/plain": [
       "0.8825578923077322"
      ]
     },
     "execution_count": 18,
     "metadata": {},
     "output_type": "execute_result"
    }
   ],
   "source": [
    "from sklearn.ensemble import RandomForestClassifier\n",
    "rfc = RandomForestClassifier(max_depth=4,oob_score=True,n_jobs=-1,random_state=123)\n",
    "%time rfc.fit(X_train_res,y_train_res)\n",
    "%time rfc.score(X_train_res,y_train_res)"
   ]
  },
  {
   "cell_type": "code",
   "execution_count": 19,
   "metadata": {},
   "outputs": [
    {
     "name": "stdout",
     "output_type": "stream",
     "text": [
      "\n",
      "******** For i = 0.01 ******\n"
     ]
    },
    {
     "name": "stderr",
     "output_type": "stream",
     "text": [
      "//anaconda3/lib/python3.7/site-packages/ipykernel_launcher.py:8: FutureWarning: Method .as_matrix will be removed in a future version. Use .values instead.\n",
      "  \n",
      "//anaconda3/lib/python3.7/site-packages/ipykernel_launcher.py:9: FutureWarning: Method .as_matrix will be removed in a future version. Use .values instead.\n",
      "  if __name__ == '__main__':\n",
      "//anaconda3/lib/python3.7/site-packages/ipykernel_launcher.py:10: FutureWarning: Method .as_matrix will be removed in a future version. Use .values instead.\n",
      "  # Remove the CWD from sys.path while we load stuff.\n",
      "//anaconda3/lib/python3.7/site-packages/ipykernel_launcher.py:11: FutureWarning: Method .as_matrix will be removed in a future version. Use .values instead.\n",
      "  # This is added back by InteractiveShellApp.init_path()\n",
      "//anaconda3/lib/python3.7/site-packages/ipykernel_launcher.py:12: FutureWarning: Method .as_matrix will be removed in a future version. Use .values instead.\n",
      "  if sys.path[0] == '':\n",
      "//anaconda3/lib/python3.7/site-packages/ipykernel_launcher.py:13: FutureWarning: Method .as_matrix will be removed in a future version. Use .values instead.\n",
      "  del sys.path[0]\n",
      "//anaconda3/lib/python3.7/site-packages/ipykernel_launcher.py:14: FutureWarning: Method .as_matrix will be removed in a future version. Use .values instead.\n",
      "  \n",
      "//anaconda3/lib/python3.7/site-packages/ipykernel_launcher.py:15: FutureWarning: Method .as_matrix will be removed in a future version. Use .values instead.\n",
      "  from ipykernel import kernelapp as app\n"
     ]
    },
    {
     "name": "stdout",
     "output_type": "stream",
     "text": [
      "Our recalling accuracy is 1.00\n",
      "Our accuracy is 0.03\n",
      "Our f1_score is 0.05\n",
      "Our precision_score is 0.03\n"
     ]
    },
    {
     "name": "stderr",
     "output_type": "stream",
     "text": [
      "//anaconda3/lib/python3.7/site-packages/ipykernel_launcher.py:21: FutureWarning: Method .as_matrix will be removed in a future version. Use .values instead.\n",
      "//anaconda3/lib/python3.7/site-packages/ipykernel_launcher.py:22: FutureWarning: Method .as_matrix will be removed in a future version. Use .values instead.\n"
     ]
    },
    {
     "name": "stdout",
     "output_type": "stream",
     "text": [
      "[[     0 661235]\n",
      " [     0  18808]]\n",
      "\n",
      "******** For i = 0.05 ******\n",
      "Our recalling accuracy is 1.00\n",
      "Our accuracy is 0.03\n",
      "Our f1_score is 0.05\n",
      "Our precision_score is 0.03\n",
      "[[     0 661235]\n",
      " [     0  18808]]\n",
      "\n",
      "******** For i = 0.1 ******\n",
      "Our recalling accuracy is 1.00\n",
      "Our accuracy is 0.03\n",
      "Our f1_score is 0.05\n",
      "Our precision_score is 0.03\n",
      "[[     0 661235]\n",
      " [     0  18808]]\n",
      "\n",
      "******** For i = 0.2 ******\n",
      "Our recalling accuracy is 1.00\n",
      "Our accuracy is 0.03\n",
      "Our f1_score is 0.05\n",
      "Our precision_score is 0.03\n",
      "[[  2812 658423]\n",
      " [     7  18801]]\n",
      "\n",
      "******** For i = 0.3 ******\n",
      "Our recalling accuracy is 0.96\n",
      "Our accuracy is 0.16\n",
      "Our f1_score is 0.06\n",
      "Our precision_score is 0.03\n",
      "[[ 87683 573552]\n",
      " [   740  18068]]\n",
      "\n",
      "******** For i = 0.4 ******\n",
      "Our recalling accuracy is 0.74\n",
      "Our accuracy is 0.55\n",
      "Our f1_score is 0.08\n",
      "Our precision_score is 0.04\n",
      "[[357963 303272]\n",
      " [  4934  13874]]\n",
      "\n",
      "******** For i = 0.41 ******\n",
      "Our recalling accuracy is 0.70\n",
      "Our accuracy is 0.59\n",
      "Our f1_score is 0.09\n",
      "Our precision_score is 0.05\n",
      "[[385504 275731]\n",
      " [  5598  13210]]\n",
      "\n",
      "******** For i = 0.42 ******\n",
      "Our recalling accuracy is 0.67\n",
      "Our accuracy is 0.62\n",
      "Our f1_score is 0.09\n",
      "Our precision_score is 0.05\n",
      "[[412281 248954]\n",
      " [  6290  12518]]\n",
      "\n",
      "******** For i = 0.43 ******\n",
      "Our recalling accuracy is 0.63\n",
      "Our accuracy is 0.66\n",
      "Our f1_score is 0.09\n",
      "Our precision_score is 0.05\n",
      "[[436488 224747]\n",
      " [  6892  11916]]\n",
      "\n",
      "******** For i = 0.44 ******\n",
      "Our recalling accuracy is 0.60\n",
      "Our accuracy is 0.69\n",
      "Our f1_score is 0.10\n",
      "Our precision_score is 0.05\n",
      "[[460267 200968]\n",
      " [  7557  11251]]\n",
      "\n",
      "******** For i = 0.45 ******\n",
      "Our recalling accuracy is 0.56\n",
      "Our accuracy is 0.73\n",
      "Our f1_score is 0.10\n",
      "Our precision_score is 0.06\n",
      "[[483558 177677]\n",
      " [  8293  10515]]\n",
      "\n",
      "******** For i = 0.46 ******\n",
      "Our recalling accuracy is 0.52\n",
      "Our accuracy is 0.76\n",
      "Our f1_score is 0.11\n",
      "Our precision_score is 0.06\n",
      "[[506080 155155]\n",
      " [  9042   9766]]\n",
      "\n",
      "******** For i = 0.5 ******\n",
      "Our recalling accuracy is 0.35\n",
      "Our accuracy is 0.86\n",
      "Our f1_score is 0.12\n",
      "Our precision_score is 0.07\n",
      "[[575057  86178]\n",
      " [ 12188   6620]]\n",
      "\n",
      "******** For i = 0.55 ******\n",
      "Our recalling accuracy is 0.17\n",
      "Our accuracy is 0.93\n",
      "Our f1_score is 0.11\n",
      "Our precision_score is 0.08\n",
      "[[626137  35098]\n",
      " [ 15612   3196]]\n",
      "\n",
      "******** For i = 0.6 ******\n",
      "Our recalling accuracy is 0.05\n",
      "Our accuracy is 0.96\n",
      "Our f1_score is 0.06\n",
      "Our precision_score is 0.09\n",
      "[[651082  10153]\n",
      " [ 17841    967]]\n"
     ]
    }
   ],
   "source": [
    "from sklearn import metrics\n",
    "#Mostly our purpose is to reduce the FP and according to that we need to partition the data and choose the percentages\n",
    "pred_proba_df = pd.DataFrame(rfc.predict_proba(X_test))\n",
    "threshold_list = [0.01,0.05,0.1,0.2,0.3,0.4,0.41,0.42,0.43,0.44,0.45,0.46,0.5,0.55,0.6]\n",
    "for i in threshold_list:\n",
    "    print ('\\n******** For i = {} ******'.format(i))\n",
    "    y_test_pred = pred_proba_df.applymap(lambda x: 1 if x>i else 0)\n",
    "    recall_accuracy = metrics.recall_score(Y_test.as_matrix().reshape(Y_test.as_matrix().size,1),\n",
    "                                           y_test_pred.iloc[:,1].as_matrix().reshape(y_test_pred.iloc[:,1].as_matrix().size,1))\n",
    "    accuracy = metrics.accuracy_score(Y_test.as_matrix().reshape(Y_test.as_matrix().size,1),\n",
    "                                           y_test_pred.iloc[:,1].as_matrix().reshape(y_test_pred.iloc[:,1].as_matrix().size,1))\n",
    "    f1score = metrics.f1_score(Y_test.as_matrix().reshape(Y_test.as_matrix().size,1),\n",
    "                                           y_test_pred.iloc[:,1].as_matrix().reshape(y_test_pred.iloc[:,1].as_matrix().size,1))\n",
    "    precisionscore = metrics.precision_score(Y_test.as_matrix().reshape(Y_test.as_matrix().size,1),\n",
    "                                           y_test_pred.iloc[:,1].as_matrix().reshape(y_test_pred.iloc[:,1].as_matrix().size,1))\n",
    "    \n",
    "    print('Our recalling accuracy is {:.2f}'.format(recall_accuracy))\n",
    "    print('Our accuracy is {:.2f}'.format(accuracy))\n",
    "    print('Our f1_score is {:.2f}'.format(f1score))\n",
    "    print('Our precision_score is {:.2f}'.format(precisionscore))\n",
    "    print(metrics.confusion_matrix(Y_test.as_matrix().reshape(Y_test.as_matrix().size,1),\n",
    "                           y_test_pred.iloc[:,1].as_matrix().reshape(y_test_pred.iloc[:,1].as_matrix().size,1)))"
   ]
  },
  {
   "cell_type": "code",
   "execution_count": 21,
   "metadata": {},
   "outputs": [
    {
     "name": "stdout",
     "output_type": "stream",
     "text": [
      "0.6968344521725982\n"
     ]
    }
   ],
   "source": [
    "prob_y_4 = rfc.predict_proba(X_test)\n",
    "prob_y_4 = [p[1] for p in prob_y_4]\n",
    "print(metrics.roc_auc_score(Y_test, prob_y_4))"
   ]
  },
  {
   "cell_type": "markdown",
   "metadata": {},
   "source": [
    "# separating the clicked==1 data separately"
   ]
  },
  {
   "cell_type": "code",
   "execution_count": 3,
   "metadata": {},
   "outputs": [],
   "source": [
    "df_mod = df_model[df_model['clicked']==1]"
   ]
  },
  {
   "cell_type": "code",
   "execution_count": 4,
   "metadata": {},
   "outputs": [
    {
     "name": "stdout",
     "output_type": "stream",
     "text": [
      "CPU times: user 379 ms, sys: 46.2 ms, total: 426 ms\n",
      "Wall time: 429 ms\n"
     ]
    }
   ],
   "source": [
    "X = df_mod.drop(['Unnamed: 0','Unnamed: 0.1','Unnamed: 0.1.1','booked','num_kids','num_adults','timestamp','clicked'],axis=1)\n",
    "%time X = pd.get_dummies(X,drop_first=True)\n",
    "y = df_mod['booked']"
   ]
  },
  {
   "cell_type": "code",
   "execution_count": 5,
   "metadata": {},
   "outputs": [],
   "source": [
    "from sklearn.model_selection import train_test_split\n",
    "X_train, X_test, Y_train, Y_test = train_test_split(X,y,test_size=0.3,random_state=123)"
   ]
  },
  {
   "cell_type": "code",
   "execution_count": 29,
   "metadata": {},
   "outputs": [
    {
     "name": "stderr",
     "output_type": "stream",
     "text": [
      "//anaconda3/lib/python3.7/site-packages/sklearn/linear_model/logistic.py:432: FutureWarning: Default solver will be changed to 'lbfgs' in 0.22. Specify a solver to silence this warning.\n",
      "  FutureWarning)\n"
     ]
    },
    {
     "name": "stdout",
     "output_type": "stream",
     "text": [
      "CPU times: user 1.17 s, sys: 239 ms, total: 1.41 s\n",
      "Wall time: 1.63 s\n",
      "CPU times: user 121 ms, sys: 64.5 ms, total: 186 ms\n",
      "Wall time: 156 ms\n"
     ]
    },
    {
     "data": {
      "text/plain": [
       "0.6311652389890067"
      ]
     },
     "execution_count": 29,
     "metadata": {},
     "output_type": "execute_result"
    }
   ],
   "source": [
    "from sklearn.linear_model import LogisticRegression\n",
    "lr = LogisticRegression()\n",
    "%time lr.fit(X_train,Y_train)\n",
    "%time lr.score(X_train,Y_train)"
   ]
  },
  {
   "cell_type": "code",
   "execution_count": 31,
   "metadata": {},
   "outputs": [
    {
     "name": "stdout",
     "output_type": "stream",
     "text": [
      "\n",
      "******** For i = 0.01 ******\n",
      "Our recalling accuracy is 1.00\n",
      "Our accuracy is 0.63\n",
      "Our f1_score is 0.77\n",
      "Our precision_score is 0.63\n",
      "[[    1 11363]\n",
      " [    0 19005]]\n",
      "\n",
      "******** For i = 0.02 ******\n"
     ]
    },
    {
     "name": "stderr",
     "output_type": "stream",
     "text": [
      "//anaconda3/lib/python3.7/site-packages/ipykernel_launcher.py:8: FutureWarning: Method .as_matrix will be removed in a future version. Use .values instead.\n",
      "  \n",
      "//anaconda3/lib/python3.7/site-packages/ipykernel_launcher.py:9: FutureWarning: Method .as_matrix will be removed in a future version. Use .values instead.\n",
      "  if __name__ == '__main__':\n",
      "//anaconda3/lib/python3.7/site-packages/ipykernel_launcher.py:10: FutureWarning: Method .as_matrix will be removed in a future version. Use .values instead.\n",
      "  # Remove the CWD from sys.path while we load stuff.\n",
      "//anaconda3/lib/python3.7/site-packages/ipykernel_launcher.py:11: FutureWarning: Method .as_matrix will be removed in a future version. Use .values instead.\n",
      "  # This is added back by InteractiveShellApp.init_path()\n",
      "//anaconda3/lib/python3.7/site-packages/ipykernel_launcher.py:12: FutureWarning: Method .as_matrix will be removed in a future version. Use .values instead.\n",
      "  if sys.path[0] == '':\n",
      "//anaconda3/lib/python3.7/site-packages/ipykernel_launcher.py:13: FutureWarning: Method .as_matrix will be removed in a future version. Use .values instead.\n",
      "  del sys.path[0]\n",
      "//anaconda3/lib/python3.7/site-packages/ipykernel_launcher.py:14: FutureWarning: Method .as_matrix will be removed in a future version. Use .values instead.\n",
      "  \n",
      "//anaconda3/lib/python3.7/site-packages/ipykernel_launcher.py:15: FutureWarning: Method .as_matrix will be removed in a future version. Use .values instead.\n",
      "  from ipykernel import kernelapp as app\n",
      "//anaconda3/lib/python3.7/site-packages/ipykernel_launcher.py:21: FutureWarning: Method .as_matrix will be removed in a future version. Use .values instead.\n",
      "//anaconda3/lib/python3.7/site-packages/ipykernel_launcher.py:22: FutureWarning: Method .as_matrix will be removed in a future version. Use .values instead.\n"
     ]
    },
    {
     "name": "stdout",
     "output_type": "stream",
     "text": [
      "Our recalling accuracy is 1.00\n",
      "Our accuracy is 0.63\n",
      "Our f1_score is 0.77\n",
      "Our precision_score is 0.63\n",
      "[[    1 11363]\n",
      " [    0 19005]]\n",
      "\n",
      "******** For i = 0.03 ******\n",
      "Our recalling accuracy is 1.00\n",
      "Our accuracy is 0.63\n",
      "Our f1_score is 0.77\n",
      "Our precision_score is 0.63\n",
      "[[    1 11363]\n",
      " [    1 19004]]\n",
      "\n",
      "******** For i = 0.04 ******\n",
      "Our recalling accuracy is 1.00\n",
      "Our accuracy is 0.63\n",
      "Our f1_score is 0.77\n",
      "Our precision_score is 0.63\n",
      "[[    1 11363]\n",
      " [    1 19004]]\n",
      "\n",
      "******** For i = 0.05 ******\n",
      "Our recalling accuracy is 1.00\n",
      "Our accuracy is 0.63\n",
      "Our f1_score is 0.77\n",
      "Our precision_score is 0.63\n",
      "[[    3 11361]\n",
      " [    1 19004]]\n",
      "\n",
      "******** For i = 0.06 ******\n",
      "Our recalling accuracy is 1.00\n",
      "Our accuracy is 0.63\n",
      "Our f1_score is 0.77\n",
      "Our precision_score is 0.63\n",
      "[[    5 11359]\n",
      " [    1 19004]]\n",
      "\n",
      "******** For i = 0.07 ******\n",
      "Our recalling accuracy is 1.00\n",
      "Our accuracy is 0.63\n",
      "Our f1_score is 0.77\n",
      "Our precision_score is 0.63\n",
      "[[    5 11359]\n",
      " [    2 19003]]\n",
      "\n",
      "******** For i = 0.08 ******\n",
      "Our recalling accuracy is 1.00\n",
      "Our accuracy is 0.63\n",
      "Our f1_score is 0.77\n",
      "Our precision_score is 0.63\n",
      "[[    8 11356]\n",
      " [    2 19003]]\n",
      "\n",
      "******** For i = 0.09 ******\n",
      "Our recalling accuracy is 1.00\n",
      "Our accuracy is 0.63\n",
      "Our f1_score is 0.77\n",
      "Our precision_score is 0.63\n",
      "[[    8 11356]\n",
      " [    2 19003]]\n",
      "\n",
      "******** For i = 0.1 ******\n",
      "Our recalling accuracy is 1.00\n",
      "Our accuracy is 0.63\n",
      "Our f1_score is 0.77\n",
      "Our precision_score is 0.63\n",
      "[[    9 11355]\n",
      " [    2 19003]]\n",
      "\n",
      "******** For i = 0.2 ******\n",
      "Our recalling accuracy is 1.00\n",
      "Our accuracy is 0.63\n",
      "Our f1_score is 0.77\n",
      "Our precision_score is 0.63\n",
      "[[   36 11328]\n",
      " [    7 18998]]\n",
      "\n",
      "******** For i = 0.3 ******\n",
      "Our recalling accuracy is 1.00\n",
      "Our accuracy is 0.63\n",
      "Our f1_score is 0.77\n",
      "Our precision_score is 0.63\n",
      "[[  161 11203]\n",
      " [   69 18936]]\n",
      "\n",
      "******** For i = 0.4 ******\n",
      "Our recalling accuracy is 0.98\n",
      "Our accuracy is 0.63\n",
      "Our f1_score is 0.77\n",
      "Our precision_score is 0.63\n",
      "[[  580 10784]\n",
      " [  349 18656]]\n",
      "\n",
      "******** For i = 0.5 ******\n",
      "Our recalling accuracy is 0.91\n",
      "Our accuracy is 0.63\n",
      "Our f1_score is 0.76\n",
      "Our precision_score is 0.65\n",
      "[[ 1881  9483]\n",
      " [ 1622 17383]]\n",
      "\n",
      "******** For i = 0.6 ******\n",
      "Our recalling accuracy is 0.67\n",
      "Our accuracy is 0.59\n",
      "Our f1_score is 0.67\n",
      "Our precision_score is 0.68\n",
      "[[ 5257  6107]\n",
      " [ 6217 12788]]\n",
      "\n",
      "******** For i = 0.7 ******\n",
      "Our recalling accuracy is 0.17\n",
      "Our accuracy is 0.45\n",
      "Our f1_score is 0.28\n",
      "Our precision_score is 0.74\n",
      "[[10219  1145]\n",
      " [15698  3307]]\n"
     ]
    }
   ],
   "source": [
    "from sklearn import metrics\n",
    "#Mostly our purpose is to reduce the FN and according to that we need to partition the data and choose the percentages\n",
    "pred_proba_df = pd.DataFrame(lr.predict_proba(X_test))\n",
    "threshold_list = [0.01,0.02,0.03,0.04,0.05,0.06,0.07,0.08,0.09,0.1,0.2,0.3,0.4,0.5,0.6,0.7]\n",
    "for i in threshold_list:\n",
    "    print ('\\n******** For i = {} ******'.format(i))\n",
    "    y_test_pred = pred_proba_df.applymap(lambda x: 1 if x>i else 0)\n",
    "    recall_accuracy = metrics.recall_score(Y_test.as_matrix().reshape(Y_test.as_matrix().size,1),\n",
    "                                           y_test_pred.iloc[:,1].as_matrix().reshape(y_test_pred.iloc[:,1].as_matrix().size,1))\n",
    "    accuracy = metrics.accuracy_score(Y_test.as_matrix().reshape(Y_test.as_matrix().size,1),\n",
    "                                           y_test_pred.iloc[:,1].as_matrix().reshape(y_test_pred.iloc[:,1].as_matrix().size,1))\n",
    "    f1score = metrics.f1_score(Y_test.as_matrix().reshape(Y_test.as_matrix().size,1),\n",
    "                                           y_test_pred.iloc[:,1].as_matrix().reshape(y_test_pred.iloc[:,1].as_matrix().size,1))\n",
    "    precisionscore = metrics.precision_score(Y_test.as_matrix().reshape(Y_test.as_matrix().size,1),\n",
    "                                           y_test_pred.iloc[:,1].as_matrix().reshape(y_test_pred.iloc[:,1].as_matrix().size,1))\n",
    "    \n",
    "    print('Our recalling accuracy is {:.2f}'.format(recall_accuracy))\n",
    "    print('Our accuracy is {:.2f}'.format(accuracy))\n",
    "    print('Our f1_score is {:.2f}'.format(f1score))\n",
    "    print('Our precision_score is {:.2f}'.format(precisionscore))\n",
    "    print(metrics.confusion_matrix(Y_test.as_matrix().reshape(Y_test.as_matrix().size,1),\n",
    "                           y_test_pred.iloc[:,1].as_matrix().reshape(y_test_pred.iloc[:,1].as_matrix().size,1)))"
   ]
  },
  {
   "cell_type": "code",
   "execution_count": 32,
   "metadata": {},
   "outputs": [
    {
     "name": "stdout",
     "output_type": "stream",
     "text": [
      "0.599868548273806\n"
     ]
    }
   ],
   "source": [
    "prob_y_4 = lr.predict_proba(X_test)\n",
    "prob_y_4 = [p[1] for p in prob_y_4]\n",
    "print(metrics.roc_auc_score(Y_test, prob_y_4))"
   ]
  },
  {
   "cell_type": "code",
   "execution_count": 23,
   "metadata": {},
   "outputs": [
    {
     "name": "stderr",
     "output_type": "stream",
     "text": [
      "//anaconda3/lib/python3.7/site-packages/sklearn/linear_model/logistic.py:432: FutureWarning: Default solver will be changed to 'lbfgs' in 0.22. Specify a solver to silence this warning.\n",
      "  FutureWarning)\n"
     ]
    },
    {
     "name": "stdout",
     "output_type": "stream",
     "text": [
      "CPU times: user 9.87 s, sys: 349 ms, total: 10.2 s\n",
      "Wall time: 10.9 s\n",
      "CPU times: user 144 ms, sys: 99.8 ms, total: 243 ms\n",
      "Wall time: 273 ms\n"
     ]
    },
    {
     "data": {
      "text/plain": [
       "0.8584835099702234"
      ]
     },
     "execution_count": 23,
     "metadata": {},
     "output_type": "execute_result"
    }
   ],
   "source": [
    "from sklearn.linear_model import LogisticRegression\n",
    "lr = LogisticRegression(class_weight='balanced')\n",
    "%time lr.fit(X_train,Y_train)\n",
    "%time lr.score(X_train,Y_train)"
   ]
  },
  {
   "cell_type": "code",
   "execution_count": 35,
   "metadata": {},
   "outputs": [
    {
     "name": "stdout",
     "output_type": "stream",
     "text": [
      "\n",
      "******** For i = 0.01 ******\n",
      "Our recalling accuracy is 1.00\n",
      "Our accuracy is 0.63\n",
      "Our f1_score is 0.77\n",
      "Our precision_score is 0.63\n",
      "[[   39 11325]\n",
      " [    1 19004]]\n",
      "\n",
      "******** For i = 0.05 ******\n",
      "Our recalling accuracy is 0.99"
     ]
    },
    {
     "name": "stderr",
     "output_type": "stream",
     "text": [
      "//anaconda3/lib/python3.7/site-packages/ipykernel_launcher.py:8: FutureWarning: Method .as_matrix will be removed in a future version. Use .values instead.\n",
      "  \n",
      "//anaconda3/lib/python3.7/site-packages/ipykernel_launcher.py:9: FutureWarning: Method .as_matrix will be removed in a future version. Use .values instead.\n",
      "  if __name__ == '__main__':\n",
      "//anaconda3/lib/python3.7/site-packages/ipykernel_launcher.py:10: FutureWarning: Method .as_matrix will be removed in a future version. Use .values instead.\n",
      "  # Remove the CWD from sys.path while we load stuff.\n",
      "//anaconda3/lib/python3.7/site-packages/ipykernel_launcher.py:11: FutureWarning: Method .as_matrix will be removed in a future version. Use .values instead.\n",
      "  # This is added back by InteractiveShellApp.init_path()\n",
      "//anaconda3/lib/python3.7/site-packages/ipykernel_launcher.py:12: FutureWarning: Method .as_matrix will be removed in a future version. Use .values instead.\n",
      "  if sys.path[0] == '':\n",
      "//anaconda3/lib/python3.7/site-packages/ipykernel_launcher.py:13: FutureWarning: Method .as_matrix will be removed in a future version. Use .values instead.\n",
      "  del sys.path[0]\n",
      "//anaconda3/lib/python3.7/site-packages/ipykernel_launcher.py:14: FutureWarning: Method .as_matrix will be removed in a future version. Use .values instead.\n",
      "  \n",
      "//anaconda3/lib/python3.7/site-packages/ipykernel_launcher.py:15: FutureWarning: Method .as_matrix will be removed in a future version. Use .values instead.\n",
      "  from ipykernel import kernelapp as app\n",
      "//anaconda3/lib/python3.7/site-packages/ipykernel_launcher.py:21: FutureWarning: Method .as_matrix will be removed in a future version. Use .values instead.\n",
      "//anaconda3/lib/python3.7/site-packages/ipykernel_launcher.py:22: FutureWarning: Method .as_matrix will be removed in a future version. Use .values instead.\n"
     ]
    },
    {
     "name": "stdout",
     "output_type": "stream",
     "text": [
      "\n",
      "Our accuracy is 0.71\n",
      "Our f1_score is 0.81\n",
      "Our precision_score is 0.68\n",
      "[[ 2671  8693]\n",
      " [  126 18879]]\n",
      "\n",
      "******** For i = 0.1 ******\n",
      "Our recalling accuracy is 0.97\n",
      "Our accuracy is 0.83\n",
      "Our f1_score is 0.87\n",
      "Our precision_score is 0.80\n",
      "[[ 6695  4669]\n",
      " [  642 18363]]\n",
      "\n",
      "******** For i = 0.15 ******\n",
      "Our recalling accuracy is 0.95\n",
      "Our accuracy is 0.86\n",
      "Our f1_score is 0.89\n",
      "Our precision_score is 0.84\n",
      "[[ 8021  3343]\n",
      " [  977 18028]]\n",
      "\n",
      "******** For i = 0.2 ******\n",
      "Our recalling accuracy is 0.94\n",
      "Our accuracy is 0.86\n",
      "Our f1_score is 0.90\n",
      "Our precision_score is 0.85\n",
      "[[ 8245  3119]\n",
      " [ 1072 17933]]\n",
      "\n",
      "******** For i = 0.22 ******\n",
      "Our recalling accuracy is 0.94\n",
      "Our accuracy is 0.86\n",
      "Our f1_score is 0.90\n",
      "Our precision_score is 0.85\n",
      "[[ 8256  3108]\n",
      " [ 1080 17925]]\n",
      "\n",
      "******** For i = 0.24 ******\n",
      "Our recalling accuracy is 0.94\n",
      "Our accuracy is 0.86\n",
      "Our f1_score is 0.90\n",
      "Our precision_score is 0.85\n",
      "[[ 8263  3101]\n",
      " [ 1081 17924]]\n",
      "\n",
      "******** For i = 0.25 ******\n",
      "Our recalling accuracy is 0.94\n",
      "Our accuracy is 0.86\n",
      "Our f1_score is 0.90\n",
      "Our precision_score is 0.85\n",
      "[[ 8264  3100]\n",
      " [ 1081 17924]]\n",
      "\n",
      "******** For i = 0.27 ******\n",
      "Our recalling accuracy is 0.94\n",
      "Our accuracy is 0.86\n",
      "Our f1_score is 0.90\n",
      "Our precision_score is 0.85\n",
      "[[ 8266  3098]\n",
      " [ 1084 17921]]\n",
      "\n",
      "******** For i = 0.28 ******\n",
      "Our recalling accuracy is 0.94\n",
      "Our accuracy is 0.86\n",
      "Our f1_score is 0.90\n",
      "Our precision_score is 0.85\n",
      "[[ 8266  3098]\n",
      " [ 1085 17920]]\n",
      "\n",
      "******** For i = 0.3 ******\n",
      "Our recalling accuracy is 0.94\n",
      "Our accuracy is 0.86\n",
      "Our f1_score is 0.90\n",
      "Our precision_score is 0.85\n",
      "[[ 8269  3095]\n",
      " [ 1086 17919]]\n",
      "\n",
      "******** For i = 0.4 ******\n",
      "Our recalling accuracy is 0.94\n",
      "Our accuracy is 0.86\n",
      "Our f1_score is 0.90\n",
      "Our precision_score is 0.85\n",
      "[[ 8294  3070]\n",
      " [ 1120 17885]]\n",
      "\n",
      "******** For i = 0.5 ******\n",
      "Our recalling accuracy is 0.93\n",
      "Our accuracy is 0.86\n",
      "Our f1_score is 0.89\n",
      "Our precision_score is 0.86\n",
      "[[ 8357  3007]\n",
      " [ 1253 17752]]\n",
      "\n",
      "******** For i = 0.6 ******\n",
      "Our recalling accuracy is 0.90\n",
      "Our accuracy is 0.85\n",
      "Our f1_score is 0.88\n",
      "Our precision_score is 0.86\n",
      "[[ 8572  2792]\n",
      " [ 1813 17192]]\n",
      "\n",
      "******** For i = 0.7 ******\n",
      "Our recalling accuracy is 0.80\n",
      "Our accuracy is 0.80\n",
      "Our f1_score is 0.84\n",
      "Our precision_score is 0.87\n",
      "[[ 9141  2223]\n",
      " [ 3777 15228]]\n"
     ]
    }
   ],
   "source": [
    "from sklearn import metrics\n",
    "#Mostly our purpose is to reduce the FN and according to that we need to partition the data and choose the percentages\n",
    "pred_proba_df = pd.DataFrame(lr.predict_proba(X_test))\n",
    "threshold_list = [0.01,0.05,0.1,0.15,0.2,0.22,0.24,0.25,0.27,0.28,0.3,0.4,0.5,0.6,0.7]\n",
    "for i in threshold_list:\n",
    "    print ('\\n******** For i = {} ******'.format(i))\n",
    "    y_test_pred = pred_proba_df.applymap(lambda x: 1 if x>i else 0)\n",
    "    recall_accuracy = metrics.recall_score(Y_test.as_matrix().reshape(Y_test.as_matrix().size,1),\n",
    "                                           y_test_pred.iloc[:,1].as_matrix().reshape(y_test_pred.iloc[:,1].as_matrix().size,1))\n",
    "    accuracy = metrics.accuracy_score(Y_test.as_matrix().reshape(Y_test.as_matrix().size,1),\n",
    "                                           y_test_pred.iloc[:,1].as_matrix().reshape(y_test_pred.iloc[:,1].as_matrix().size,1))\n",
    "    f1score = metrics.f1_score(Y_test.as_matrix().reshape(Y_test.as_matrix().size,1),\n",
    "                                           y_test_pred.iloc[:,1].as_matrix().reshape(y_test_pred.iloc[:,1].as_matrix().size,1))\n",
    "    precisionscore = metrics.precision_score(Y_test.as_matrix().reshape(Y_test.as_matrix().size,1),\n",
    "                                           y_test_pred.iloc[:,1].as_matrix().reshape(y_test_pred.iloc[:,1].as_matrix().size,1))\n",
    "    \n",
    "    print('Our recalling accuracy is {:.2f}'.format(recall_accuracy))\n",
    "    print('Our accuracy is {:.2f}'.format(accuracy))\n",
    "    print('Our f1_score is {:.2f}'.format(f1score))\n",
    "    print('Our precision_score is {:.2f}'.format(precisionscore))\n",
    "    print(metrics.confusion_matrix(Y_test.as_matrix().reshape(Y_test.as_matrix().size,1),\n",
    "                           y_test_pred.iloc[:,1].as_matrix().reshape(y_test_pred.iloc[:,1].as_matrix().size,1)))"
   ]
  },
  {
   "cell_type": "code",
   "execution_count": 36,
   "metadata": {},
   "outputs": [
    {
     "name": "stdout",
     "output_type": "stream",
     "text": [
      "0.8753478609021266\n"
     ]
    }
   ],
   "source": [
    "prob_y_4 = lr.predict_proba(X_test)\n",
    "prob_y_4 = [p[1] for p in prob_y_4]\n",
    "print(metrics.roc_auc_score(Y_test, prob_y_4))"
   ]
  },
  {
   "cell_type": "code",
   "execution_count": 14,
   "metadata": {},
   "outputs": [
    {
     "name": "stderr",
     "output_type": "stream",
     "text": [
      "//anaconda3/lib/python3.7/site-packages/sklearn/ensemble/forest.py:245: FutureWarning: The default value of n_estimators will change from 10 in version 0.20 to 100 in 0.22.\n",
      "  \"10 in version 0.20 to 100 in 0.22.\", FutureWarning)\n",
      "//anaconda3/lib/python3.7/site-packages/sklearn/ensemble/forest.py:460: UserWarning: Some inputs do not have OOB scores. This probably means too few trees were used to compute any reliable oob estimates.\n",
      "  warn(\"Some inputs do not have OOB scores. \"\n",
      "//anaconda3/lib/python3.7/site-packages/sklearn/ensemble/forest.py:465: RuntimeWarning: divide by zero encountered in true_divide\n",
      "  predictions[k].sum(axis=1)[:, np.newaxis])\n",
      "//anaconda3/lib/python3.7/site-packages/sklearn/ensemble/forest.py:465: RuntimeWarning: invalid value encountered in true_divide\n",
      "  predictions[k].sum(axis=1)[:, np.newaxis])\n"
     ]
    },
    {
     "name": "stdout",
     "output_type": "stream",
     "text": [
      "CPU times: user 2.34 s, sys: 259 ms, total: 2.6 s\n",
      "Wall time: 2.28 s\n",
      "CPU times: user 253 ms, sys: 133 ms, total: 386 ms\n",
      "Wall time: 404 ms\n"
     ]
    },
    {
     "data": {
      "text/plain": [
       "0.8240640126444729"
      ]
     },
     "execution_count": 14,
     "metadata": {},
     "output_type": "execute_result"
    }
   ],
   "source": [
    "from sklearn.ensemble import RandomForestClassifier\n",
    "rfc = RandomForestClassifier(max_depth=8,oob_score=True,n_jobs=-1,random_state=123)\n",
    "%time rfc.fit(X_train,Y_train)\n",
    "%time rfc.score(X_train,Y_train)"
   ]
  },
  {
   "cell_type": "code",
   "execution_count": 16,
   "metadata": {},
   "outputs": [
    {
     "name": "stdout",
     "output_type": "stream",
     "text": [
      "\n",
      "******** For i = 0.01 ******\n",
      "Our recalling accuracy is 1.00\n",
      "Our accuracy is 0.63\n",
      "Our f1_score is 0.77\n",
      "Our precision_score is 0.63\n",
      "[[    0 11364]\n",
      " [    0 19005]]\n",
      "\n",
      "******** For i = 0.05 ******\n",
      "Our recalling accuracy is 1.00\n",
      "Our accuracy is 0.63\n",
      "Our f1_score is 0.77\n",
      "Our precision_score is 0.63\n"
     ]
    },
    {
     "name": "stderr",
     "output_type": "stream",
     "text": [
      "//anaconda3/lib/python3.7/site-packages/ipykernel_launcher.py:8: FutureWarning: Method .as_matrix will be removed in a future version. Use .values instead.\n",
      "  \n",
      "//anaconda3/lib/python3.7/site-packages/ipykernel_launcher.py:9: FutureWarning: Method .as_matrix will be removed in a future version. Use .values instead.\n",
      "  if __name__ == '__main__':\n",
      "//anaconda3/lib/python3.7/site-packages/ipykernel_launcher.py:10: FutureWarning: Method .as_matrix will be removed in a future version. Use .values instead.\n",
      "  # Remove the CWD from sys.path while we load stuff.\n",
      "//anaconda3/lib/python3.7/site-packages/ipykernel_launcher.py:11: FutureWarning: Method .as_matrix will be removed in a future version. Use .values instead.\n",
      "  # This is added back by InteractiveShellApp.init_path()\n",
      "//anaconda3/lib/python3.7/site-packages/ipykernel_launcher.py:12: FutureWarning: Method .as_matrix will be removed in a future version. Use .values instead.\n",
      "  if sys.path[0] == '':\n",
      "//anaconda3/lib/python3.7/site-packages/ipykernel_launcher.py:13: FutureWarning: Method .as_matrix will be removed in a future version. Use .values instead.\n",
      "  del sys.path[0]\n",
      "//anaconda3/lib/python3.7/site-packages/ipykernel_launcher.py:14: FutureWarning: Method .as_matrix will be removed in a future version. Use .values instead.\n",
      "  \n",
      "//anaconda3/lib/python3.7/site-packages/ipykernel_launcher.py:15: FutureWarning: Method .as_matrix will be removed in a future version. Use .values instead.\n",
      "  from ipykernel import kernelapp as app\n",
      "//anaconda3/lib/python3.7/site-packages/ipykernel_launcher.py:21: FutureWarning: Method .as_matrix will be removed in a future version. Use .values instead.\n",
      "//anaconda3/lib/python3.7/site-packages/ipykernel_launcher.py:22: FutureWarning: Method .as_matrix will be removed in a future version. Use .values instead.\n"
     ]
    },
    {
     "name": "stdout",
     "output_type": "stream",
     "text": [
      "[[    0 11364]\n",
      " [    0 19005]]\n",
      "\n",
      "******** For i = 0.1 ******\n",
      "Our recalling accuracy is 1.00\n",
      "Our accuracy is 0.63\n",
      "Our f1_score is 0.77\n",
      "Our precision_score is 0.63\n",
      "[[    3 11361]\n",
      " [    0 19005]]\n",
      "\n",
      "******** For i = 0.2 ******\n",
      "Our recalling accuracy is 1.00\n",
      "Our accuracy is 0.63\n",
      "Our f1_score is 0.77\n",
      "Our precision_score is 0.63\n",
      "[[  164 11200]\n",
      " [    6 18999]]\n",
      "\n",
      "******** For i = 0.3 ******\n",
      "Our recalling accuracy is 1.00\n",
      "Our accuracy is 0.67\n",
      "Our f1_score is 0.79\n",
      "Our precision_score is 0.65\n",
      "[[ 1319 10045]\n",
      " [   53 18952]]\n",
      "\n",
      "******** For i = 0.4 ******\n",
      "Our recalling accuracy is 0.99\n",
      "Our accuracy is 0.75\n",
      "Our f1_score is 0.83\n",
      "Our precision_score is 0.72\n",
      "[[ 3904  7460]\n",
      " [  253 18752]]\n",
      "\n",
      "******** For i = 0.5 ******\n",
      "Our recalling accuracy is 0.96\n",
      "Our accuracy is 0.83\n",
      "Our f1_score is 0.87\n",
      "Our precision_score is 0.80\n",
      "[[ 6760  4604]\n",
      " [  670 18335]]\n",
      "\n",
      "******** For i = 0.55 ******\n",
      "Our recalling accuracy is 0.95\n",
      "Our accuracy is 0.85\n",
      "Our f1_score is 0.89\n",
      "Our precision_score is 0.83\n",
      "[[ 7780  3584]\n",
      " [  982 18023]]\n",
      "\n",
      "******** For i = 0.56 ******\n",
      "Our recalling accuracy is 0.95\n",
      "Our accuracy is 0.85\n",
      "Our f1_score is 0.89\n",
      "Our precision_score is 0.84\n",
      "[[ 7914  3450]\n",
      " [ 1028 17977]]\n",
      "\n",
      "******** For i = 0.57 ******\n",
      "Our recalling accuracy is 0.94\n",
      "Our accuracy is 0.85\n",
      "Our f1_score is 0.89\n",
      "Our precision_score is 0.84\n",
      "[[ 8028  3336]\n",
      " [ 1076 17929]]\n",
      "\n",
      "******** For i = 0.58 ******\n",
      "Our recalling accuracy is 0.94\n",
      "Our accuracy is 0.86\n",
      "Our f1_score is 0.89\n",
      "Our precision_score is 0.85\n",
      "[[ 8126  3238]\n",
      " [ 1146 17859]]\n",
      "\n",
      "******** For i = 0.59 ******\n",
      "Our recalling accuracy is 0.93\n",
      "Our accuracy is 0.86\n",
      "Our f1_score is 0.89\n",
      "Our precision_score is 0.85\n",
      "[[ 8215  3149]\n",
      " [ 1236 17769]]\n",
      "\n",
      "******** For i = 0.6 ******\n",
      "Our recalling accuracy is 0.93\n",
      "Our accuracy is 0.85\n",
      "Our f1_score is 0.89\n",
      "Our precision_score is 0.85\n",
      "[[ 8302  3062]\n",
      " [ 1345 17660]]\n",
      "\n",
      "******** For i = 0.61 ******\n",
      "Our recalling accuracy is 0.92\n",
      "Our accuracy is 0.85\n",
      "Our f1_score is 0.89\n",
      "Our precision_score is 0.85\n",
      "[[ 8389  2975]\n",
      " [ 1506 17499]]\n",
      "\n",
      "******** For i = 0.62 ******\n",
      "Our recalling accuracy is 0.91\n",
      "Our accuracy is 0.85\n",
      "Our f1_score is 0.88\n",
      "Our precision_score is 0.86\n",
      "[[ 8476  2888]\n",
      " [ 1727 17278]]\n",
      "\n",
      "******** For i = 0.63 ******\n",
      "Our recalling accuracy is 0.89\n",
      "Our accuracy is 0.84\n",
      "Our f1_score is 0.88\n",
      "Our precision_score is 0.86\n",
      "[[ 8559  2805]\n",
      " [ 2027 16978]]\n",
      "\n",
      "******** For i = 0.64 ******\n",
      "Our recalling accuracy is 0.87\n",
      "Our accuracy is 0.83\n",
      "Our f1_score is 0.87\n",
      "Our precision_score is 0.86\n",
      "[[ 8662  2702]\n",
      " [ 2395 16610]]\n",
      "\n",
      "******** For i = 0.7 ******\n",
      "Our recalling accuracy is 0.63\n",
      "Our accuracy is 0.71\n",
      "Our f1_score is 0.74\n",
      "Our precision_score is 0.88\n",
      "[[ 9669  1695]\n",
      " [ 6964 12041]]\n"
     ]
    }
   ],
   "source": [
    "from sklearn import metrics\n",
    "#Mostly our purpose is to reduce the FP and according to that we need to partition the data and choose the percentages\n",
    "pred_proba_df = pd.DataFrame(rfc.predict_proba(X_test))\n",
    "threshold_list = [0.01,0.05,0.1,0.2,0.3,0.4,0.5,0.55,0.56,0.57,0.58,0.59,0.6,0.61,0.62,0.63,0.64,0.7]\n",
    "for i in threshold_list:\n",
    "    print ('\\n******** For i = {} ******'.format(i))\n",
    "    y_test_pred = pred_proba_df.applymap(lambda x: 1 if x>i else 0)\n",
    "    recall_accuracy = metrics.recall_score(Y_test.as_matrix().reshape(Y_test.as_matrix().size,1),\n",
    "                                           y_test_pred.iloc[:,1].as_matrix().reshape(y_test_pred.iloc[:,1].as_matrix().size,1))\n",
    "    accuracy = metrics.accuracy_score(Y_test.as_matrix().reshape(Y_test.as_matrix().size,1),\n",
    "                                           y_test_pred.iloc[:,1].as_matrix().reshape(y_test_pred.iloc[:,1].as_matrix().size,1))\n",
    "    f1score = metrics.f1_score(Y_test.as_matrix().reshape(Y_test.as_matrix().size,1),\n",
    "                                           y_test_pred.iloc[:,1].as_matrix().reshape(y_test_pred.iloc[:,1].as_matrix().size,1))\n",
    "    precisionscore = metrics.precision_score(Y_test.as_matrix().reshape(Y_test.as_matrix().size,1),\n",
    "                                           y_test_pred.iloc[:,1].as_matrix().reshape(y_test_pred.iloc[:,1].as_matrix().size,1))\n",
    "    \n",
    "    print('Our recalling accuracy is {:.2f}'.format(recall_accuracy))\n",
    "    print('Our accuracy is {:.2f}'.format(accuracy))\n",
    "    print('Our f1_score is {:.2f}'.format(f1score))\n",
    "    print('Our precision_score is {:.2f}'.format(precisionscore))\n",
    "    print(metrics.confusion_matrix(Y_test.as_matrix().reshape(Y_test.as_matrix().size,1),\n",
    "                           y_test_pred.iloc[:,1].as_matrix().reshape(y_test_pred.iloc[:,1].as_matrix().size,1)))"
   ]
  },
  {
   "cell_type": "code",
   "execution_count": 17,
   "metadata": {},
   "outputs": [
    {
     "name": "stdout",
     "output_type": "stream",
     "text": [
      "0.8663299020682325\n"
     ]
    }
   ],
   "source": [
    "prob_y_4 = rfc.predict_proba(X_test)\n",
    "prob_y_4 = [p[1] for p in prob_y_4]\n",
    "print(metrics.roc_auc_score(Y_test, prob_y_4))"
   ]
  },
  {
   "cell_type": "code",
   "execution_count": 21,
   "metadata": {},
   "outputs": [
    {
     "data": {
      "text/plain": [
       "random_sort             0.707290\n",
       "total_price             0.052900\n",
       "booking_window          0.048875\n",
       "length_of_stay          0.033700\n",
       "listing_position        0.032988\n",
       "price_usd_corr          0.024671\n",
       "log_historical_price    0.014628\n",
       "num_total               0.013858\n",
       "location_score2         0.012487\n",
       "site_id                 0.008250\n",
       "dtype: float64"
      ]
     },
     "execution_count": 21,
     "metadata": {},
     "output_type": "execute_result"
    }
   ],
   "source": [
    "pd.Series(rfc.feature_importances_,index=X_train.columns).sort_values(ascending=False)[:10]"
   ]
  },
  {
   "cell_type": "markdown",
   "metadata": {},
   "source": [
    "# --------------------------------END-------------------------------------"
   ]
  },
  {
   "cell_type": "code",
   "execution_count": 61,
   "metadata": {},
   "outputs": [
    {
     "name": "stdout",
     "output_type": "stream",
     "text": [
      "CPU times: user 8.29 s, sys: 1.79 s, total: 10.1 s\n",
      "Wall time: 10.9 s\n"
     ]
    }
   ],
   "source": [
    "X = df_pred.drop(['Unnamed: 0','Unnamed: 0.1','booked','num_kids','num_adults','timestamp','clicked'],axis=1)\n",
    "%time X = pd.get_dummies(X,drop_first=True)\n",
    "y = df_pred['booked']"
   ]
  },
  {
   "cell_type": "markdown",
   "metadata": {},
   "source": [
    "# cut off taking as 0.59 f1_score of 0.89"
   ]
  },
  {
   "cell_type": "code",
   "execution_count": 71,
   "metadata": {
    "collapsed": true
   },
   "outputs": [
    {
     "name": "stderr",
     "output_type": "stream",
     "text": [
      "//anaconda3/lib/python3.7/site-packages/ipykernel_launcher.py:2: SettingWithCopyWarning: \n",
      "A value is trying to be set on a copy of a slice from a DataFrame.\n",
      "Try using .loc[row_indexer,col_indexer] = value instead\n",
      "\n",
      "See the caveats in the documentation: http://pandas.pydata.org/pandas-docs/stable/user_guide/indexing.html#returning-a-view-versus-a-copy\n",
      "  \n",
      "//anaconda3/lib/python3.7/site-packages/ipykernel_launcher.py:4: SettingWithCopyWarning: \n",
      "A value is trying to be set on a copy of a slice from a DataFrame.\n",
      "Try using .loc[row_indexer,col_indexer] = value instead\n",
      "\n",
      "See the caveats in the documentation: http://pandas.pydata.org/pandas-docs/stable/user_guide/indexing.html#returning-a-view-versus-a-copy\n",
      "  after removing the cwd from sys.path.\n",
      "//anaconda3/lib/python3.7/site-packages/ipykernel_launcher.py:6: SettingWithCopyWarning: \n",
      "A value is trying to be set on a copy of a slice from a DataFrame.\n",
      "Try using .loc[row_indexer,col_indexer] = value instead\n",
      "\n",
      "See the caveats in the documentation: http://pandas.pydata.org/pandas-docs/stable/user_guide/indexing.html#returning-a-view-versus-a-copy\n",
      "  \n"
     ]
    },
    {
     "ename": "AttributeError",
     "evalue": "'DataFrame' object has no attribute 'concat'",
     "output_type": "error",
     "traceback": [
      "\u001b[0;31m---------------------------------------------------------------------------\u001b[0m",
      "\u001b[0;31mAttributeError\u001b[0m                            Traceback (most recent call last)",
      "\u001b[0;32m<ipython-input-71-12fd0a07bc3f>\u001b[0m in \u001b[0;36m<module>\u001b[0;34m\u001b[0m\n\u001b[1;32m      5\u001b[0m \u001b[0mr\u001b[0m \u001b[0;34m=\u001b[0m \u001b[0mdf_pred\u001b[0m\u001b[0;34m[\u001b[0m\u001b[0mdf_pred\u001b[0m\u001b[0;34m[\u001b[0m\u001b[0;34m'book_pred'\u001b[0m\u001b[0;34m]\u001b[0m\u001b[0;34m>\u001b[0m\u001b[0;36m0.59\u001b[0m\u001b[0;34m]\u001b[0m\u001b[0;34m\u001b[0m\u001b[0;34m\u001b[0m\u001b[0m\n\u001b[1;32m      6\u001b[0m \u001b[0mr\u001b[0m\u001b[0;34m[\u001b[0m\u001b[0;34m'book_pred_fin'\u001b[0m\u001b[0;34m]\u001b[0m \u001b[0;34m=\u001b[0m \u001b[0;36m1\u001b[0m\u001b[0;34m\u001b[0m\u001b[0;34m\u001b[0m\u001b[0m\n\u001b[0;32m----> 7\u001b[0;31m \u001b[0mdf_pred\u001b[0m\u001b[0;34m.\u001b[0m\u001b[0mconcat\u001b[0m\u001b[0;34m(\u001b[0m\u001b[0mt\u001b[0m\u001b[0;34m,\u001b[0m\u001b[0mr\u001b[0m\u001b[0;34m)\u001b[0m\u001b[0;34m\u001b[0m\u001b[0;34m\u001b[0m\u001b[0m\n\u001b[0m",
      "\u001b[0;32m//anaconda3/lib/python3.7/site-packages/pandas/core/generic.py\u001b[0m in \u001b[0;36m__getattr__\u001b[0;34m(self, name)\u001b[0m\n\u001b[1;32m   5177\u001b[0m             \u001b[0;32mif\u001b[0m \u001b[0mself\u001b[0m\u001b[0;34m.\u001b[0m\u001b[0m_info_axis\u001b[0m\u001b[0;34m.\u001b[0m\u001b[0m_can_hold_identifiers_and_holds_name\u001b[0m\u001b[0;34m(\u001b[0m\u001b[0mname\u001b[0m\u001b[0;34m)\u001b[0m\u001b[0;34m:\u001b[0m\u001b[0;34m\u001b[0m\u001b[0;34m\u001b[0m\u001b[0m\n\u001b[1;32m   5178\u001b[0m                 \u001b[0;32mreturn\u001b[0m \u001b[0mself\u001b[0m\u001b[0;34m[\u001b[0m\u001b[0mname\u001b[0m\u001b[0;34m]\u001b[0m\u001b[0;34m\u001b[0m\u001b[0;34m\u001b[0m\u001b[0m\n\u001b[0;32m-> 5179\u001b[0;31m             \u001b[0;32mreturn\u001b[0m \u001b[0mobject\u001b[0m\u001b[0;34m.\u001b[0m\u001b[0m__getattribute__\u001b[0m\u001b[0;34m(\u001b[0m\u001b[0mself\u001b[0m\u001b[0;34m,\u001b[0m \u001b[0mname\u001b[0m\u001b[0;34m)\u001b[0m\u001b[0;34m\u001b[0m\u001b[0;34m\u001b[0m\u001b[0m\n\u001b[0m\u001b[1;32m   5180\u001b[0m \u001b[0;34m\u001b[0m\u001b[0m\n\u001b[1;32m   5181\u001b[0m     \u001b[0;32mdef\u001b[0m \u001b[0m__setattr__\u001b[0m\u001b[0;34m(\u001b[0m\u001b[0mself\u001b[0m\u001b[0;34m,\u001b[0m \u001b[0mname\u001b[0m\u001b[0;34m,\u001b[0m \u001b[0mvalue\u001b[0m\u001b[0;34m)\u001b[0m\u001b[0;34m:\u001b[0m\u001b[0;34m\u001b[0m\u001b[0;34m\u001b[0m\u001b[0m\n",
      "\u001b[0;31mAttributeError\u001b[0m: 'DataFrame' object has no attribute 'concat'"
     ]
    }
   ],
   "source": [
    "pred_proba = pd.DataFrame(rfc.predict_proba(X))\n",
    "df_pred['book_pred'] = pred_proba[1]\n",
    "t = df_pred[df_pred['book_pred']<=0.59]\n",
    "t['book_pred_fin'] = 0\n",
    "r = df_pred[df_pred['book_pred']>0.59]\n",
    "r['book_pred_fin'] = 1\n",
    "df_pred = pd.concat([t,r])"
   ]
  },
  {
   "cell_type": "code",
   "execution_count": 76,
   "metadata": {},
   "outputs": [],
   "source": [
    "temp = df_pred[df_pred['book_pred_fin']==1]['search_id'].unique()\n",
    "tmp = df_model[df_model['booked']==1]['search_id'].unique()"
   ]
  },
  {
   "cell_type": "code",
   "execution_count": 79,
   "metadata": {},
   "outputs": [
    {
     "name": "stdout",
     "output_type": "stream",
     "text": [
      "not_convereted_users_including_some_converted_users 89813\n",
      "converted_users 62881\n",
      "number of not converted people 28126\n",
      "conversion rate 69.09468502422891\n"
     ]
    }
   ],
   "source": [
    "temp = df_pred[df_pred['book_pred_fin']==1]['search_id'].unique()\n",
    "tmp = df_model[df_model['booked']==1]['search_id'].unique()\n",
    "\n",
    "lst_nc = []\n",
    "for i in temp:\n",
    "    if i in tmp:\n",
    "        continue\n",
    "    else:\n",
    "        lst_nc.append(i)\n",
    "        \n",
    "print('not_convereted_users_including_some_converted_users',len(temp))\n",
    "print('converted_users',len(tmp))\n",
    "nc = len(lst_nc)\n",
    "c = len(tmp)\n",
    "print('number of not converted people',len(lst_nc))\n",
    "print('conversion rate {}'.format(len(tmp)/(len(tmp)+len(lst_nc))*100))"
   ]
  },
  {
   "cell_type": "code",
   "execution_count": 80,
   "metadata": {},
   "outputs": [
    {
     "name": "stdout",
     "output_type": "stream",
     "text": [
      "not_convereted_users_including_some_converted_users 81383\n",
      "converted_users 62881\n",
      "number of not converted people 483\n",
      "conversion rate 69.09468502422891\n"
     ]
    }
   ],
   "source": [
    "temp = df_pred[df_pred['book_pred_fin']==0]['search_id'].unique()\n",
    "tmp = df_model[df_model['booked']==1]['search_id'].unique()\n",
    "\n",
    "lst_ncc = []\n",
    "for i in temp:\n",
    "    if i in tmp:\n",
    "        continue\n",
    "    else:\n",
    "        lst_ncc.append(i)\n",
    "        \n",
    "lst_nccc = []\n",
    "for i in lst_ncc:\n",
    "    if i in lst_nc:\n",
    "        continue\n",
    "    else:\n",
    "        lst_nccc.append(i)\n",
    "        \n",
    "print('not_convereted_users_including_some_converted_users',len(temp))\n",
    "print('converted_users',len(tmp))\n",
    "nc = len(lst_nc)\n",
    "c = len(tmp)\n",
    "print('number of not converted people',len(lst_nccc))\n",
    "print('conversion rate {}'.format(len(tmp)/(len(tmp)+len(lst_nc))*100))"
   ]
  },
  {
   "cell_type": "code",
   "execution_count": 3,
   "metadata": {},
   "outputs": [
    {
     "data": {
      "text/plain": [
       "['1,2', '1,3', '1,4', '2,3', '2,4', '3,4']"
      ]
     },
     "execution_count": 3,
     "metadata": {},
     "output_type": "execute_result"
    }
   ],
   "source": [
    "from itertools import combinations\n",
    "L = [1, 2, 3, 4]\n",
    "[\",\".join(map(str, comb)) for comb in combinations(L, 2)]"
   ]
  },
  {
   "cell_type": "code",
   "execution_count": null,
   "metadata": {},
   "outputs": [],
   "source": []
  }
 ],
 "metadata": {
  "kernelspec": {
   "display_name": "Python 3",
   "language": "python",
   "name": "python3"
  },
  "language_info": {
   "codemirror_mode": {
    "name": "ipython",
    "version": 3
   },
   "file_extension": ".py",
   "mimetype": "text/x-python",
   "name": "python",
   "nbconvert_exporter": "python",
   "pygments_lexer": "ipython3",
   "version": "3.7.3"
  }
 },
 "nbformat": 4,
 "nbformat_minor": 2
}
